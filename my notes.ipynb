{
 "cells": [
  {
   "cell_type": "markdown",
   "metadata": {},
   "source": [
    "#Big O Notation#"
   ]
  },
  {
   "cell_type": "code",
   "execution_count": 14,
   "metadata": {
    "collapsed": true
   },
   "outputs": [],
   "source": [
    "# take an input of n and return the sum of the numbers from 0 to n\n",
    "def sum1(n):s\n",
    "    final_sum = 0\n",
    "    \n",
    "    for x in range(n+1): # 0 to n, inclusive\n",
    "        final_sum += x\n",
    "    return final_sum"
   ]
  },
  {
   "cell_type": "code",
   "execution_count": 6,
   "metadata": {},
   "outputs": [
    {
     "data": {
      "text/plain": [
       "55"
      ]
     },
     "execution_count": 6,
     "metadata": {},
     "output_type": "execute_result"
    }
   ],
   "source": [
    "sum1(10)"
   ]
  },
  {
   "cell_type": "code",
   "execution_count": 8,
   "metadata": {
    "collapsed": true
   },
   "outputs": [],
   "source": [
    "def sum2(n):\n",
    "    return (n*(n+1))/2"
   ]
  },
  {
   "cell_type": "code",
   "execution_count": 9,
   "metadata": {},
   "outputs": [
    {
     "data": {
      "text/plain": [
       "55.0"
      ]
     },
     "execution_count": 9,
     "metadata": {},
     "output_type": "execute_result"
    }
   ],
   "source": [
    "sum2(10)"
   ]
  },
  {
   "cell_type": "code",
   "execution_count": 10,
   "metadata": {},
   "outputs": [
    {
     "name": "stdout",
     "output_type": "stream",
     "text": [
      "100000 loops, best of 3: 5.81 µs per loop\n"
     ]
    }
   ],
   "source": [
    "%timeit sum1(100)"
   ]
  },
  {
   "cell_type": "code",
   "execution_count": 11,
   "metadata": {},
   "outputs": [
    {
     "name": "stdout",
     "output_type": "stream",
     "text": [
      "The slowest run took 9.11 times longer than the fastest. This could mean that an intermediate result is being cached.\n",
      "1000000 loops, best of 3: 218 ns per loop\n"
     ]
    }
   ],
   "source": [
    "%timeit sum2(100)"
   ]
  },
  {
   "cell_type": "markdown",
   "metadata": {},
   "source": [
    "## O(1) Constant"
   ]
  },
  {
   "cell_type": "code",
   "execution_count": 2,
   "metadata": {
    "collapsed": true
   },
   "outputs": [],
   "source": [
    "def func_constant(values):\n",
    "    print values[0]"
   ]
  },
  {
   "cell_type": "code",
   "execution_count": 3,
   "metadata": {},
   "outputs": [
    {
     "name": "stdout",
     "output_type": "stream",
     "text": [
      "1\n"
     ]
    }
   ],
   "source": [
    "lst = [1,2,3,4,5,6]\n",
    "func_constant(lst)"
   ]
  },
  {
   "cell_type": "markdown",
   "metadata": {},
   "source": [
    "## O(n) Linear"
   ]
  },
  {
   "cell_type": "code",
   "execution_count": 4,
   "metadata": {
    "collapsed": true
   },
   "outputs": [],
   "source": [
    "def func_lin(lst):\n",
    "    \n",
    "    for val in lst:\n",
    "        print val"
   ]
  },
  {
   "cell_type": "code",
   "execution_count": 6,
   "metadata": {},
   "outputs": [
    {
     "name": "stdout",
     "output_type": "stream",
     "text": [
      "1\n",
      "2\n",
      "3\n",
      "4\n",
      "5\n",
      "6\n"
     ]
    }
   ],
   "source": [
    "func_lin(lst)"
   ]
  },
  {
   "cell_type": "markdown",
   "metadata": {},
   "source": [
    "## O(x^2) Quadratic"
   ]
  },
  {
   "cell_type": "code",
   "execution_count": 7,
   "metadata": {
    "collapsed": true
   },
   "outputs": [],
   "source": [
    "def func_quad(lst):\n",
    "    \n",
    "    for item_1 in lst:\n",
    "        for item_2 in lst:\n",
    "            print item_1, item_2"
   ]
  },
  {
   "cell_type": "code",
   "execution_count": 12,
   "metadata": {},
   "outputs": [
    {
     "name": "stdout",
     "output_type": "stream",
     "text": [
      "1 1\n",
      "1 2\n",
      "1 3\n",
      "2 1\n",
      "2 2\n",
      "2 3\n",
      "3 1\n",
      "3 2\n",
      "3 3\n"
     ]
    }
   ],
   "source": [
    "lst = [1,2,3]\n",
    "func_quad(lst) # n = 3 -> 3^2 = 9, print 9 times"
   ]
  },
  {
   "cell_type": "code",
   "execution_count": 13,
   "metadata": {
    "collapsed": true
   },
   "outputs": [],
   "source": [
    "def print_once(lst):\n",
    "    \n",
    "    for val in lst:\n",
    "        print val"
   ]
  },
  {
   "cell_type": "code",
   "execution_count": 14,
   "metadata": {},
   "outputs": [
    {
     "name": "stdout",
     "output_type": "stream",
     "text": [
      "1\n",
      "2\n",
      "3\n"
     ]
    }
   ],
   "source": [
    "print_once(lst) # O(n), n is the size of lst"
   ]
  },
  {
   "cell_type": "code",
   "execution_count": 15,
   "metadata": {
    "collapsed": true
   },
   "outputs": [],
   "source": [
    "def print_2(lst):\n",
    "    \n",
    "    for val in lst:\n",
    "        print val\n",
    "    \n",
    "    for val in lst:\n",
    "        print val"
   ]
  },
  {
   "cell_type": "code",
   "execution_count": 16,
   "metadata": {},
   "outputs": [
    {
     "name": "stdout",
     "output_type": "stream",
     "text": [
      "1\n",
      "2\n",
      "3\n",
      "1\n",
      "2\n",
      "3\n"
     ]
    }
   ],
   "source": [
    "print_2(lst)  # O(2*n) = O(n), n is the size of lst "
   ]
  },
  {
   "cell_type": "code",
   "execution_count": 18,
   "metadata": {
    "collapsed": true
   },
   "outputs": [],
   "source": [
    "def comp(lst):\n",
    "    \n",
    "    print lst[0]    # O(1)\n",
    "    \n",
    "    midpoint = len(lst)/2\n",
    "    \n",
    "    for val in lst[:midpoint]: # 0 to midpoint; O(1/2 n) = O(n)\n",
    "        print val\n",
    "    \n",
    "    for x in range(10):        # O(10)\n",
    "        print 'hello world'"
   ]
  },
  {
   "cell_type": "code",
   "execution_count": 19,
   "metadata": {},
   "outputs": [
    {
     "name": "stdout",
     "output_type": "stream",
     "text": [
      "1\n",
      "1\n",
      "2\n",
      "3\n",
      "4\n",
      "5\n",
      "hello world\n",
      "hello world\n",
      "hello world\n",
      "hello world\n",
      "hello world\n",
      "hello world\n",
      "hello world\n",
      "hello world\n",
      "hello world\n",
      "hello world\n"
     ]
    }
   ],
   "source": [
    "lst = [1,2,3,4,5,6,7,8,9,10]\n",
    "\n",
    "comp(lst)"
   ]
  },
  {
   "cell_type": "markdown",
   "metadata": {},
   "source": [
    "# O(1 + n/2 + 10)\n",
    "# = O(n)"
   ]
  },
  {
   "cell_type": "code",
   "execution_count": 20,
   "metadata": {
    "collapsed": true
   },
   "outputs": [],
   "source": [
    "def matcher(lst, match):\n",
    "    \n",
    "    for item in lst:\n",
    "        if item == match:\n",
    "            return True\n",
    "    return False"
   ]
  },
  {
   "cell_type": "code",
   "execution_count": 21,
   "metadata": {},
   "outputs": [
    {
     "data": {
      "text/plain": [
       "[1, 2, 3, 4, 5, 6, 7, 8, 9, 10]"
      ]
     },
     "execution_count": 21,
     "metadata": {},
     "output_type": "execute_result"
    }
   ],
   "source": [
    "lst"
   ]
  },
  {
   "cell_type": "code",
   "execution_count": 23,
   "metadata": {},
   "outputs": [
    {
     "data": {
      "text/plain": [
       "True"
      ]
     },
     "execution_count": 23,
     "metadata": {},
     "output_type": "execute_result"
    }
   ],
   "source": [
    "matcher(lst,1) # Best case, O(1)"
   ]
  },
  {
   "cell_type": "code",
   "execution_count": 24,
   "metadata": {},
   "outputs": [
    {
     "data": {
      "text/plain": [
       "False"
      ]
     },
     "execution_count": 24,
     "metadata": {},
     "output_type": "execute_result"
    }
   ],
   "source": [
    "matcher(lst,11) # worst case, O(n)"
   ]
  },
  {
   "cell_type": "code",
   "execution_count": 25,
   "metadata": {
    "collapsed": true
   },
   "outputs": [],
   "source": [
    "def create_list(n):\n",
    "    \n",
    "    new_list = []\n",
    "    \n",
    "    for num in range(n):\n",
    "        new_list.append('new')\n",
    "    return new_list"
   ]
  },
  {
   "cell_type": "code",
   "execution_count": 26,
   "metadata": {},
   "outputs": [
    {
     "data": {
      "text/plain": [
       "['new', 'new', 'new', 'new', 'new']"
      ]
     },
     "execution_count": 26,
     "metadata": {},
     "output_type": "execute_result"
    }
   ],
   "source": [
    "create_list(5)"
   ]
  },
  {
   "cell_type": "code",
   "execution_count": 27,
   "metadata": {
    "collapsed": true
   },
   "outputs": [],
   "source": [
    "def printer(n):\n",
    "    \n",
    "    for x in range(10):     # Time Complexity O(n)\n",
    "        print 'Hello World!'  # space Complexity O(1)"
   ]
  },
  {
   "cell_type": "code",
   "execution_count": 28,
   "metadata": {
    "scrolled": true
   },
   "outputs": [
    {
     "name": "stdout",
     "output_type": "stream",
     "text": [
      "Hello World!\n",
      "Hello World!\n",
      "Hello World!\n",
      "Hello World!\n",
      "Hello World!\n",
      "Hello World!\n",
      "Hello World!\n",
      "Hello World!\n",
      "Hello World!\n",
      "Hello World!\n"
     ]
    }
   ],
   "source": [
    "printer(10) # O(n), and space complexity it's constant , \n",
    "# because it only have to save 'Hello World!' once and print it"
   ]
  },
  {
   "cell_type": "markdown",
   "metadata": {},
   "source": [
    "# Low Level Arrays "
   ]
  },
  {
   "cell_type": "markdown",
   "metadata": {},
   "source": [
    "## Low-level computer Architecture\n"
   ]
  },
  {
   "cell_type": "raw",
   "metadata": {},
   "source": [
    "_ Memory of a computer stored in bits\n",
    "_ Typical unit is byte, which is 8 bits\n",
    "_ Computers typically use a memery address\n",
    "_ Each byte associated with unique address\n",
    "    + Byte #2144 versus Byte #2147"
   ]
  },
  {
   "cell_type": "raw",
   "metadata": {},
   "source": [
    "      Arrays\n",
    " _ Computer hardware is designed,--> any byte of the main memory can be\n",
    " efficiently accessed\n",
    " _ Computer's main memory performs as random access memory (RAM)\n",
    " _ Individual byte of memory can be stored or retrieved in O(1) time."
   ]
  },
  {
   "cell_type": "raw",
   "metadata": {},
   "source": [
    "_Programming language keeps track of the association\n",
    "between an identifier and the memory address.\n",
    "_May want a video game to keep track of the top ten scores for that game\n",
    "_ prefer to use a signle name for the grouop\n",
    "_ Use index numbers to refer to the high scores in that group"
   ]
  },
  {
   "cell_type": "raw",
   "metadata": {},
   "source": [
    "_ A group of related variables can be stored one after another\n",
    "in a contiguous protion of the computer's memory\n",
    "_ We will denote such a representation as an array.\n",
    "_ A text string is stored as an ordered sequence of indidual characters.\n",
    "_ Python internally represents each Unicode\n",
    "character with 16 bits (i.e, 2 bytes)"
   ]
  },
  {
   "cell_type": "raw",
   "metadata": {},
   "source": [
    "Ex: Six-character string, such as 'SAMPLE'\n",
    "would be stored in 12 consecutive bytes of memory\n",
    "[2145,46]  [2147,48]     [2149,50]     [2151,52]   [2153,54]    [2145,46] ....\n",
    "   S  -        A      -      M     -      P     -      L     -      E\n",
    "   2   2   2   2   2   2 = 12 bytes\n",
    "+ This as an array of six characters.\n",
    "+ Each locatin within an array as a cell\n",
    "+ Integer index to sescribe its location\n",
    "ex: the cell of the array in index 4 has a content 'L'\n",
    "and it stores in byte #2153 and #2154 of memory\n",
    "* Important: each cell of the array must use the same number of byte"
   ]
  },
  {
   "cell_type": "raw",
   "metadata": {},
   "source": [
    "_ Each cell of the array must use the same number of byte\n",
    "_ Allows any cell to be accessed in constant time\n",
    "_ Appropriate memory address can be computed using\n",
    "the caculation, start + (cellsize)(index)\n",
    "ex: Letter 'L' at index 4: 2145 + (2)*(4) = 2153"
   ]
  },
  {
   "cell_type": "markdown",
   "metadata": {},
   "source": [
    "## Arrays"
   ]
  },
  {
   "cell_type": "raw",
   "metadata": {},
   "source": [
    "_ Higher level abstraction\n",
    "_ basic abstraction for real-world discussion\n",
    " S A M P L E\n",
    " 0 1 2 3 4 5"
   ]
  },
  {
   "cell_type": "markdown",
   "metadata": {},
   "source": [
    "## Referential Array - Ex:"
   ]
  },
  {
   "cell_type": "raw",
   "metadata": {},
   "source": [
    "_ Imagine 100 student names with ID numbers\n",
    "_ Each cell of the array needs to have the same number of bytes\n",
    "_ How can we avoid having to have a series of names?\n",
    "We can use an array of object References\n",
    "Ex:\n",
    " Each element is a reference to the object.\n",
    " 0--> 'name1'\n",
    " 1 --> 'name2'\n",
    " 3 --> 'name3'\n",
    " ..."
   ]
  },
  {
   "cell_type": "raw",
   "metadata": {},
   "source": [
    "primes = [2,3,5,7,11,13,17,19]\n",
    "temp = [3:6] --> [7,11,13]\n",
    "temp[2] = 15 --> [7,11,15] # but this doesn't change primes"
   ]
  },
  {
   "cell_type": "markdown",
   "metadata": {},
   "source": [
    "## Copying Arrays"
   ]
  },
  {
   "cell_type": "raw",
   "metadata": {},
   "source": [
    "_ backup = list(primes)\n",
    "_ This produces a new list that is a shallow copy in that it references the same elements\n",
    "as in the first list\n",
    "_ If the contents of the list were of a mutable type, a deep copy,\n",
    "meaning a new list with new elements, can be produced by using \n",
    "the deepcopy function from the copy module."
   ]
  },
  {
   "cell_type": "markdown",
   "metadata": {},
   "source": [
    "## Referential Arrays"
   ]
  },
  {
   "cell_type": "raw",
   "metadata": {},
   "source": [
    "_ counters = [0]*8\n",
    "_ all eight cells reference the same object!\n",
    "counter: at index 0,1,2,3,4,5,6,7 all point to the same object value of 0"
   ]
  },
  {
   "cell_type": "markdown",
   "metadata": {},
   "source": [
    "## Review"
   ]
  },
  {
   "cell_type": "raw",
   "metadata": {},
   "source": [
    "_ Basic Computer Architecture\n",
    "_ Low-level array representation\n",
    "_ Referential Arrays"
   ]
  },
  {
   "cell_type": "markdown",
   "metadata": {},
   "source": [
    "# Dynamic Arrays"
   ]
  },
  {
   "cell_type": "raw",
   "metadata": {},
   "source": [
    "_ Don't need to specify how large an array is beforehand\n",
    "    How?"
   ]
  },
  {
   "cell_type": "raw",
   "metadata": {},
   "source": [
    "_ A list instance often has greater often has greater capacity than current length\n",
    "_ If elements keep getting appended, eventually this extra space runs out"
   ]
  },
  {
   "cell_type": "markdown",
   "metadata": {},
   "source": [
    "## Dynamic Array Implementation"
   ]
  },
  {
   "cell_type": "raw",
   "metadata": {},
   "source": [
    "_ The key is to provide means to grow that array A that\n",
    "stores the elements of a list\n",
    "_ We can't actually grow that array, its capactiy is fixed.\n",
    "_ If an element is appended to a list at a time when\n",
    "the underlying array is full, we'll need to perform the following steps..."
   ]
  },
  {
   "cell_type": "raw",
   "metadata": {},
   "source": [
    "1. Allocate a new Array B with larger capactiy.\n",
    "2. Set B[i] = A[i], for i = 0, .., n-1, where n \n",
    "denotes current number of items.\n",
    "3. Set A = B, that is, we henceforth use B as \n",
    "the array supporting the list\n",
    "4. Insert the new element in the new array"
   ]
  },
  {
   "cell_type": "raw",
   "metadata": {},
   "source": [
    "A = [1,2,3,4]  \n",
    "B = create an array of double size of 4 which 8 ; (a) create new array B \n",
    "for i in (0...len(a)) B[i] = A[]i    (b) store elements of A in B\n",
    "A = B   ; (c) reassign reference A to the new array"
   ]
  },
  {
   "cell_type": "raw",
   "metadata": {},
   "source": [
    "Conclusion:\n",
    "    + How large of a new array to create?\n",
    "    + A commonly used rule is for the new array to have twice\n",
    "    the capacity of the existing array that has been filled\n",
    "    + We'll see mathematic rasoning behind this later"
   ]
  },
  {
   "cell_type": "markdown",
   "metadata": {},
   "source": [
    "# Dynamic Array Implementation (code)"
   ]
  },
  {
   "cell_type": "code",
   "execution_count": 33,
   "metadata": {
    "collapsed": true
   },
   "outputs": [],
   "source": [
    "class M(object):\n",
    "    \n",
    "    def public(self):\n",
    "        print 'Use Tab to see me!'\n",
    "        \n",
    "    def _private(self):\n",
    "        print \"You won't be able to Tab to see me!\""
   ]
  },
  {
   "cell_type": "code",
   "execution_count": 34,
   "metadata": {
    "collapsed": true
   },
   "outputs": [],
   "source": [
    "m = M()"
   ]
  },
  {
   "cell_type": "code",
   "execution_count": 35,
   "metadata": {},
   "outputs": [
    {
     "name": "stdout",
     "output_type": "stream",
     "text": [
      "You won't be able to Tab to see me!\n"
     ]
    }
   ],
   "source": [
    "m._private()"
   ]
  },
  {
   "cell_type": "code",
   "execution_count": 36,
   "metadata": {},
   "outputs": [
    {
     "name": "stdout",
     "output_type": "stream",
     "text": [
      "Use Tab to see me!\n"
     ]
    }
   ],
   "source": [
    "m.public()"
   ]
  },
  {
   "cell_type": "code",
   "execution_count": 64,
   "metadata": {
    "collapsed": true
   },
   "outputs": [],
   "source": [
    "import ctypes\n",
    "\n",
    "class DynamicArray(object):\n",
    "    \n",
    "    def __init__(self):\n",
    "        self.n = 0\n",
    "        self.capacity = 1\n",
    "        self.A = self.make_array(self.capacity)\n",
    "    \n",
    "    def __len__(self):\n",
    "        return self.n\n",
    "    \n",
    "    def __getitem__(self,k):\n",
    "        if not 0 <= k < self.n:\n",
    "            return IndexError('K is out of bounds!')\n",
    "        return self.A[k]\n",
    "    \n",
    "    def append(self, ele):\n",
    "        if self.n == self.capacity:\n",
    "            self._resize(2*self.capacity) # 2x if capacity isn't enough\n",
    "        self.A[self.n] = ele\n",
    "        self.n += 1\n",
    "    \n",
    "    def _resize(self, new_cap):\n",
    "        B = self.make_array(new_cap)\n",
    "        \n",
    "        for k in range(self.n):\n",
    "            B[k] = self.A[k]\n",
    "        \n",
    "        self.A = B\n",
    "        self.capacity = new_cap\n",
    "    \n",
    "    def make_array(self, new_cap):\n",
    "        return (new_cap * ctypes.py_object)()\n",
    "            "
   ]
  },
  {
   "cell_type": "code",
   "execution_count": 65,
   "metadata": {
    "collapsed": true
   },
   "outputs": [],
   "source": [
    "arr = DynamicArray()"
   ]
  },
  {
   "cell_type": "code",
   "execution_count": 66,
   "metadata": {
    "collapsed": true
   },
   "outputs": [],
   "source": [
    "arr.append(1)"
   ]
  },
  {
   "cell_type": "code",
   "execution_count": 67,
   "metadata": {},
   "outputs": [
    {
     "data": {
      "text/plain": [
       "1"
      ]
     },
     "execution_count": 67,
     "metadata": {},
     "output_type": "execute_result"
    }
   ],
   "source": [
    "len(arr)"
   ]
  },
  {
   "cell_type": "code",
   "execution_count": 68,
   "metadata": {
    "collapsed": true
   },
   "outputs": [],
   "source": [
    "arr.append(2)"
   ]
  },
  {
   "cell_type": "code",
   "execution_count": 69,
   "metadata": {},
   "outputs": [
    {
     "data": {
      "text/plain": [
       "2"
      ]
     },
     "execution_count": 69,
     "metadata": {},
     "output_type": "execute_result"
    }
   ],
   "source": [
    "len(arr)"
   ]
  },
  {
   "cell_type": "code",
   "execution_count": 71,
   "metadata": {},
   "outputs": [
    {
     "data": {
      "text/plain": [
       "1"
      ]
     },
     "execution_count": 71,
     "metadata": {},
     "output_type": "execute_result"
    }
   ],
   "source": [
    "arr[0]"
   ]
  },
  {
   "cell_type": "code",
   "execution_count": 72,
   "metadata": {},
   "outputs": [
    {
     "data": {
      "text/plain": [
       "2"
      ]
     },
     "execution_count": 72,
     "metadata": {},
     "output_type": "execute_result"
    }
   ],
   "source": [
    "arr[1]"
   ]
  },
  {
   "cell_type": "markdown",
   "metadata": {},
   "source": [
    "# Amortized Analysis"
   ]
  },
  {
   "cell_type": "raw",
   "metadata": {},
   "source": [
    "_ The strategy of replacing an array with a new, larger array might at first seem slow\n",
    "_ A single append operation may require O(n) time to perfom\n",
    "_ Our new array allows us to add n new elements before the array must be \n",
    "replaced again."
   ]
  },
  {
   "cell_type": "raw",
   "metadata": {},
   "source": [
    "* Using an algorithmic design pattern called amortizatin,\n",
    "we can show that performing a sequence of such append operations on a\n",
    "dynamic array is actually quite efficient."
   ]
  },
  {
   "cell_type": "raw",
   "metadata": {},
   "source": [
    "1) Allocate memory for a larger array of size,\n",
    "typically twice the old array\n",
    "2) Copy the contents of old array to new array.\n",
    "3) Free the old array."
   ]
  },
  {
   "cell_type": "markdown",
   "metadata": {},
   "source": [
    "# Anagram Check (interview)\n",
    "Given two strings, check to see if they are anagrams. An anagram is when the two strings can be written using the exact same letters (so you can just rearrange the letters to get a different phrase or word).\n",
    "\n",
    "For example:\n",
    "\n",
    "\"public relations\" is an anagram of \"crap built on lies.\"\n",
    "\n",
    "\"clint eastwood\" is an anagram of \"old west action\"\n",
    "\n",
    "Note: Ignore spaces and capitalization. So \"d go\" is an anagram of \"God\" and \"dog\" and \"o d g\"."
   ]
  },
  {
   "cell_type": "code",
   "execution_count": 92,
   "metadata": {
    "collapsed": true
   },
   "outputs": [],
   "source": [
    "def anagram(s1,s2):\n",
    "    s1 = s1.replace(' ', '').lower()\n",
    "    s2 = s2.replace(' ', '').lower()\n",
    "    # return sorted(s1) == sorted(s2)\n",
    "    \n",
    "    #Edge Case Check\n",
    "    if len(s1) != len(s2):\n",
    "        return False\n",
    "    \n",
    "    count = {}\n",
    "    \n",
    "    for letter in s1:\n",
    "        if letter in count:\n",
    "            count[letter] += 1\n",
    "        else:\n",
    "            count[letter] = 1\n",
    "    \n",
    "    for letter in s2:\n",
    "        if letter in count:\n",
    "            count[letter] -=1\n",
    "        else:\n",
    "            count[letter] = 1\n",
    "    \n",
    "    for k in count:\n",
    "        if count[k] != 0:\n",
    "            return False\n",
    "        \n",
    "    return True"
   ]
  },
  {
   "cell_type": "code",
   "execution_count": 93,
   "metadata": {},
   "outputs": [
    {
     "data": {
      "text/plain": [
       "True"
      ]
     },
     "execution_count": 93,
     "metadata": {},
     "output_type": "execute_result"
    }
   ],
   "source": [
    "anagram(\"dog\",'god')"
   ]
  },
  {
   "cell_type": "code",
   "execution_count": 94,
   "metadata": {},
   "outputs": [
    {
     "data": {
      "text/plain": [
       "True"
      ]
     },
     "execution_count": 94,
     "metadata": {},
     "output_type": "execute_result"
    }
   ],
   "source": [
    "anagram('clint eastwood','old west action')"
   ]
  },
  {
   "cell_type": "code",
   "execution_count": 95,
   "metadata": {},
   "outputs": [
    {
     "data": {
      "text/plain": [
       "False"
      ]
     },
     "execution_count": 95,
     "metadata": {},
     "output_type": "execute_result"
    }
   ],
   "source": [
    "anagram('aa','bb')"
   ]
  },
  {
   "cell_type": "raw",
   "metadata": {},
   "source": [
    "# Array Pair Sum (interview)\n",
    "Given an integer array, output all the unique pairs that sum up to a specific value k.\n",
    "\n",
    "So the input:\n",
    "\n",
    "pair_sum([1,3,2,2],4)\n",
    "\n",
    "would return 2 pairs:\n",
    "\n",
    " (1,3)\n",
    " (2,2)"
   ]
  },
  {
   "cell_type": "code",
   "execution_count": 148,
   "metadata": {
    "collapsed": true
   },
   "outputs": [],
   "source": [
    "def pair_sum(arr,k):  # my version\n",
    "    h = {}\n",
    "    count = 0\n",
    "    for x in arr:\n",
    "        if x in h:\n",
    "            h[x] += 1\n",
    "        else:\n",
    "            h[x] = 1\n",
    "    \n",
    "    for i in h:\n",
    "        target = k - i\n",
    "        if target in h and h[i] > 0 and h[target] > 0:\n",
    "            count += 1\n",
    "            h[target] -= 1\n",
    "            h[i] -= 1\n",
    "    return count"
   ]
  },
  {
   "cell_type": "code",
   "execution_count": 8,
   "metadata": {
    "collapsed": true
   },
   "outputs": [],
   "source": [
    "def pair_sum(arr,k):\n",
    "    \n",
    "    if len(arr) < 2:\n",
    "        return\n",
    "    \n",
    "    #Sets for tracking\n",
    "    seen = set()\n",
    "    output = set()\n",
    "    \n",
    "    for num in arr:\n",
    "        \n",
    "        target = k - num\n",
    "        \n",
    "        if target not in seen:\n",
    "            seen.add(num)  # this make thing unique , ex: [1,2,3,1], 3\n",
    "        else:\n",
    "            output.add( ((min(num,target)), max(num,target)) )\n",
    "#     return len(output)\n",
    "    print '\\n'.join(map(str,list(output)))"
   ]
  },
  {
   "cell_type": "code",
   "execution_count": 9,
   "metadata": {},
   "outputs": [
    {
     "name": "stdout",
     "output_type": "stream",
     "text": [
      "(1, 3)\n",
      "(2, 2)\n"
     ]
    }
   ],
   "source": [
    "pair_sum([1,3,2,2],4)"
   ]
  },
  {
   "cell_type": "code",
   "execution_count": 10,
   "metadata": {},
   "outputs": [
    {
     "name": "stdout",
     "output_type": "stream",
     "text": [
      "(1, 2)\n"
     ]
    }
   ],
   "source": [
    "pair_sum([1,2,3,1],3)"
   ]
  },
  {
   "cell_type": "code",
   "execution_count": 11,
   "metadata": {},
   "outputs": [
    {
     "name": "stdout",
     "output_type": "stream",
     "text": [
      "(1, 3)\n",
      "(2, 2)\n"
     ]
    }
   ],
   "source": [
    "pair_sum([1,3,2,2],4)"
   ]
  },
  {
   "cell_type": "markdown",
   "metadata": {},
   "source": [
    "# Find the Missing Element (interview)\n",
    "\n",
    "Consider an array of non-negative integers. A second array is formed by shuffling the elements of the first array and deleting a random element. Given these two arrays, find which element is missing in the second array.\n",
    "\n",
    "Here is an example input, the first array is shuffled and the number 5 is removed to construct the second array.\n",
    "\n",
    "Input:\n",
    "\n",
    "finder([1,2,3,4,5,6,7],[3,7,2,1,4,6])\n",
    "\n",
    "Output:\n",
    "\n",
    "5 is the missing number"
   ]
  },
  {
   "cell_type": "code",
   "execution_count": 167,
   "metadata": {
    "collapsed": true
   },
   "outputs": [],
   "source": [
    "def finder(arr1,arr2):  # my version\n",
    "    h = {}\n",
    "    \n",
    "    for x in arr2:\n",
    "        if x in h:\n",
    "            h[x] += 1\n",
    "        else:\n",
    "            h[x] = 1\n",
    "    \n",
    "    for x in arr1:\n",
    "        if (x in h) and (h[x] > 0):\n",
    "            h[x] -= 1\n",
    "        else:\n",
    "            return x\n",
    "    "
   ]
  },
  {
   "cell_type": "code",
   "execution_count": 14,
   "metadata": {
    "collapsed": true
   },
   "outputs": [],
   "source": [
    "def finder1(arr1,arr2): # O(nlog(n))\n",
    "    \n",
    "    arr1.sort()\n",
    "    arr2.sort()\n",
    "    \n",
    "    for num1, num2 in zip(arr1,arr2):\n",
    "        if num1 != num2:\n",
    "            return num1\n",
    "    return arr1[-1] # just return any element, won't get here"
   ]
  },
  {
   "cell_type": "code",
   "execution_count": 19,
   "metadata": {
    "collapsed": true
   },
   "outputs": [],
   "source": [
    "import collections\n",
    "\n",
    "def finder2(arr1,arr2):\n",
    "    d = collections.defaultdict(int)\n",
    "    \n",
    "    for num in arr2:\n",
    "        d[num] += 1\n",
    "    \n",
    "    for num in arr1:\n",
    "        if d[num] == 0:\n",
    "            return num\n",
    "        else:\n",
    "            d[num] -= 1"
   ]
  },
  {
   "cell_type": "code",
   "execution_count": null,
   "metadata": {
    "collapsed": true
   },
   "outputs": [],
   "source": [
    "def finder3(arr1, arr2):\n",
    "    result = 0\n",
    "    \n",
    "    # Perform an XOR between the numbers in the arrays\n",
    "    for num in arr1 + arr2:# [1,2,3]  + [2,5,6] = [1,2,3,2,5,6]\n",
    "        result^= num   # it outputs true whenever the inputs differ\n",
    "        print result\n",
    "    \n",
    "    return result"
   ]
  },
  {
   "cell_type": "code",
   "execution_count": 15,
   "metadata": {},
   "outputs": [
    {
     "data": {
      "text/plain": [
       "5"
      ]
     },
     "execution_count": 15,
     "metadata": {},
     "output_type": "execute_result"
    }
   ],
   "source": [
    "arr1 = [1,2,3,4,5,6,7]\n",
    "arr2 = [3,7,2,1,4,6]\n",
    "finder(arr1,arr2)"
   ]
  },
  {
   "cell_type": "code",
   "execution_count": 16,
   "metadata": {},
   "outputs": [
    {
     "data": {
      "text/plain": [
       "5"
      ]
     },
     "execution_count": 16,
     "metadata": {},
     "output_type": "execute_result"
    }
   ],
   "source": [
    "arr1 = [5,5,7,7]\n",
    "arr2 = [5,7,7]\n",
    "finder(arr1,arr2)"
   ]
  },
  {
   "cell_type": "code",
   "execution_count": 17,
   "metadata": {},
   "outputs": [
    {
     "data": {
      "text/plain": [
       "5"
      ]
     },
     "execution_count": 17,
     "metadata": {},
     "output_type": "execute_result"
    }
   ],
   "source": [
    "arr1 = [1,2,3,4,5,6,7]\n",
    "arr2 = [3,7,2,1,4,6]\n",
    "finder(arr1,arr2)"
   ]
  },
  {
   "cell_type": "code",
   "execution_count": 18,
   "metadata": {},
   "outputs": [
    {
     "data": {
      "text/plain": [
       "6"
      ]
     },
     "execution_count": 18,
     "metadata": {},
     "output_type": "execute_result"
    }
   ],
   "source": [
    "arr1 = [9,8,7,6,5,4,3,2,1]\n",
    "arr2 = [9,8,7,5,4,3,2,1]\n",
    "finder(arr1,arr2)"
   ]
  },
  {
   "cell_type": "markdown",
   "metadata": {
    "collapsed": true
   },
   "source": [
    "# Largest Continuous Sum (interview)\n",
    "Given an array of integers (positive and negative)\n",
    "find the largest continuous sum."
   ]
  },
  {
   "cell_type": "code",
   "execution_count": 30,
   "metadata": {
    "collapsed": true
   },
   "outputs": [],
   "source": [
    "def large_cont_sum(arr):\n",
    "    if len(arr) == 0:\n",
    "        return 0\n",
    "    \n",
    "    max_sum = current_sum = arr[0]\n",
    "    \n",
    "    for num in arr[1:]:\n",
    "        current_sum = max(current_sum + num, num) # [-10, 2, ..] , current_sum = 2\n",
    "        max_sum = max(current_sum, max_sum)\n",
    "            \n",
    "    return max_sum"
   ]
  },
  {
   "cell_type": "code",
   "execution_count": 50,
   "metadata": {
    "collapsed": true
   },
   "outputs": [],
   "source": [
    "# Many times in an interview setting the question also requires \n",
    "# you to report back the start and end points of the sum. \n",
    "# Keep this in mind and see if you can solve that problem, \n",
    "# we'll see it in the mock interview section of the course!\n",
    "\n",
    "def large_cont_sum(arr):\n",
    "    if len(arr) == 0:\n",
    "        return 0\n",
    "    \n",
    "    start = end = 0\n",
    "    max_sum = current_sum = arr[0]\n",
    "    \n",
    "    for i in range(1,len(arr)):\n",
    "#         current_sum = max(current_sum + num, num) # [-10, 2, ..] , current_sum = 2\n",
    "        \n",
    "        current_sum += arr[i]\n",
    "    \n",
    "        if current_sum  < arr[i]:\n",
    "            current_sum = arr[i]\n",
    "            start = i\n",
    "            \n",
    "        if current_sum > max_sum:\n",
    "            end = i\n",
    "            max_sum = current_sum\n",
    "    print \"max_sum = \" , max_sum\n",
    "    print \"start and end point: \", (start,end)"
   ]
  },
  {
   "cell_type": "code",
   "execution_count": 51,
   "metadata": {},
   "outputs": [
    {
     "name": "stdout",
     "output_type": "stream",
     "text": [
      "max_sum =  29\n",
      "start and end point:  (0, 6)\n"
     ]
    }
   ],
   "source": [
    "large_cont_sum([1,2,-1,3,4,10,10,-10,-1])"
   ]
  },
  {
   "cell_type": "code",
   "execution_count": 52,
   "metadata": {},
   "outputs": [
    {
     "name": "stdout",
     "output_type": "stream",
     "text": [
      "max_sum =  9\n",
      "start and end point:  (0, 4)\n"
     ]
    }
   ],
   "source": [
    "large_cont_sum([1,2,-1,3,4,-1])"
   ]
  },
  {
   "cell_type": "code",
   "execution_count": 53,
   "metadata": {},
   "outputs": [
    {
     "name": "stdout",
     "output_type": "stream",
     "text": [
      "max_sum =  1\n",
      "start and end point:  (1, 1)\n"
     ]
    }
   ],
   "source": [
    "large_cont_sum([-1,1])"
   ]
  },
  {
   "cell_type": "markdown",
   "metadata": {},
   "source": [
    "# Sentence Reversal (interview)\n",
    "\n",
    "Given a string of word, rverse all the words. For ex:\n",
    "Given:\n",
    "    'This is the best'\n",
    "\n",
    "Return\n",
    "    'best the is this'\n",
    "\n",
    "Given ' space here' and 'space here   '\n",
    "both become: 'here space'\n"
   ]
  },
  {
   "cell_type": "code",
   "execution_count": 65,
   "metadata": {
    "collapsed": true
   },
   "outputs": [],
   "source": [
    "def rev_word(s): # my version\n",
    "    if len(s) == 1:\n",
    "        return s\n",
    "    arr = s.split()\n",
    "    result = []\n",
    "    \n",
    "    for i in range(len(arr)):\n",
    "        result = [arr[i]] + result\n",
    "    return ' '.join(result)"
   ]
  },
  {
   "cell_type": "code",
   "execution_count": 77,
   "metadata": {
    "collapsed": true
   },
   "outputs": [],
   "source": [
    "def rev_word(s):\n",
    "    words = []\n",
    "    length = len(s)\n",
    "    space = [' ']\n",
    "    \n",
    "    i = 0\n",
    "    \n",
    "    while i < length:\n",
    "        if s[i] not in space:\n",
    "            word_start = i\n",
    "            \n",
    "            while i < length and s[i] not in space:\n",
    "                i += 1\n",
    "            words.append(s[word_start:i]) # get a word and append to words\n",
    "            \n",
    "        i += 1\n",
    "#     return \" \".join(reversed(words))\n",
    "    return final_output(words)\n",
    "\n",
    "def final_output(words):\n",
    "    arr = []\n",
    "    \n",
    "    for word in words:\n",
    "        arr = [word] + arr\n",
    "        \n",
    "    return \" \".join(arr)"
   ]
  },
  {
   "cell_type": "code",
   "execution_count": 78,
   "metadata": {},
   "outputs": [
    {
     "data": {
      "text/plain": [
       "'go? to ready you are John, Hi'"
      ]
     },
     "execution_count": 78,
     "metadata": {},
     "output_type": "execute_result"
    }
   ],
   "source": [
    "rev_word('Hi John,   are you ready to go?')"
   ]
  },
  {
   "cell_type": "code",
   "execution_count": 79,
   "metadata": {},
   "outputs": [
    {
     "data": {
      "text/plain": [
       "'before space'"
      ]
     },
     "execution_count": 79,
     "metadata": {},
     "output_type": "execute_result"
    }
   ],
   "source": [
    "rev_word('    space before')"
   ]
  },
  {
   "cell_type": "code",
   "execution_count": 80,
   "metadata": {},
   "outputs": [
    {
     "data": {
      "text/plain": [
       "'1'"
      ]
     },
     "execution_count": 80,
     "metadata": {},
     "output_type": "execute_result"
    }
   ],
   "source": [
    "rev_word('1')"
   ]
  },
  {
   "cell_type": "markdown",
   "metadata": {},
   "source": [
    "# String compression (interview)\n",
    "\n",
    "Given a string in the form 'AAAABBBBCCCCCDDEEEE' compress it to become 'A4B4C5D2E4'. For this problem, you can falsely \"compress\" strings of single or double letters. For instance, it is okay for 'AAB' to return 'A2B1' even though this technically takes more space.\n",
    "\n",
    "The function should also be case sensitive, so that a string 'AAAaaa' returns 'A3a3'."
   ]
  },
  {
   "cell_type": "code",
   "execution_count": 85,
   "metadata": {
    "collapsed": true
   },
   "outputs": [],
   "source": [
    "def compress(s): # my version\n",
    "    if len(s) == 0:\n",
    "        return \"\"\n",
    "    current_letter = s[0]\n",
    "    count = 1\n",
    "    result = \"\"\n",
    "    \n",
    "    for letter in s[1:]:\n",
    "        if current_letter == letter:\n",
    "            count += 1\n",
    "        else:\n",
    "            result += current_letter + str(count)\n",
    "            current_letter = letter\n",
    "            count = 1\n",
    "            \n",
    "    result += current_letter + str(count)\n",
    "    \n",
    "    return result"
   ]
  },
  {
   "cell_type": "code",
   "execution_count": 92,
   "metadata": {
    "collapsed": true
   },
   "outputs": [],
   "source": [
    "def compress(s): # Time and space complexity of O(n)\n",
    "    \"\"\"\n",
    "    This solution compresses without checking. Known as the RunLength Compression algorithm.\n",
    "    \"\"\"\n",
    "    \n",
    "    # Begin Run as empty string\n",
    "    r = \"\"\n",
    "    l = len(s)\n",
    "    \n",
    "    # Check for length 0\n",
    "    if l == 0:\n",
    "        return \"\"\n",
    "    \n",
    "    # Check for length 1\n",
    "    if l == 1:\n",
    "        return s + \"1\"\n",
    "    \n",
    "    #Intialize Values\n",
    "    last = s[0]\n",
    "    cnt = 1\n",
    "    i = 1\n",
    "    \n",
    "    while i < l:\n",
    "        \n",
    "        # Check to see if it is the same letter\n",
    "        if s[i] == s[i - 1]: \n",
    "            # Add a count if same as previous\n",
    "            cnt += 1\n",
    "        else:\n",
    "            # Otherwise store the previous data\n",
    "            r = r + s[i - 1] + str(cnt)\n",
    "            cnt = 1\n",
    "            \n",
    "        # Add to index count to terminate while loop\n",
    "        i += 1\n",
    "    \n",
    "    # Put everything back into run\n",
    "    r = r + s[i - 1] + str(cnt)\n",
    "    \n",
    "    return r"
   ]
  },
  {
   "cell_type": "code",
   "execution_count": 93,
   "metadata": {},
   "outputs": [
    {
     "data": {
      "text/plain": [
       "'A5B4C4'"
      ]
     },
     "execution_count": 93,
     "metadata": {},
     "output_type": "execute_result"
    }
   ],
   "source": [
    "compress('AAAAABBBBCCCC')"
   ]
  },
  {
   "cell_type": "code",
   "execution_count": 94,
   "metadata": {},
   "outputs": [
    {
     "data": {
      "text/plain": [
       "'A3B1C2D5'"
      ]
     },
     "execution_count": 94,
     "metadata": {},
     "output_type": "execute_result"
    }
   ],
   "source": [
    "compress('AAABCCDDDDD')"
   ]
  },
  {
   "cell_type": "code",
   "execution_count": 95,
   "metadata": {},
   "outputs": [
    {
     "data": {
      "text/plain": [
       "'A2B2C2'"
      ]
     },
     "execution_count": 95,
     "metadata": {},
     "output_type": "execute_result"
    }
   ],
   "source": [
    "compress('AABBCC')"
   ]
  },
  {
   "cell_type": "code",
   "execution_count": 97,
   "metadata": {},
   "outputs": [
    {
     "data": {
      "text/plain": [
       "'a1b1c1d1A3B3A3'"
      ]
     },
     "execution_count": 97,
     "metadata": {},
     "output_type": "execute_result"
    }
   ],
   "source": [
    "compress('abcdAAABBBAAA')"
   ]
  },
  {
   "cell_type": "markdown",
   "metadata": {},
   "source": [
    "# Unique Characters in string\n",
    "\n",
    "Given a string,determine if it is compreised of all unique characters. For example, the string 'abcde' has all unique characters and should return True. The string 'aabcde' contains duplicate characters and should return false.\n"
   ]
  },
  {
   "cell_type": "code",
   "execution_count": 108,
   "metadata": {
    "collapsed": true
   },
   "outputs": [],
   "source": [
    "def uni_char(s): # my version, O(n)\n",
    "    if s == \"\":\n",
    "        return True\n",
    "    \n",
    "    uniq = {}\n",
    "    \n",
    "    for ch in s:\n",
    "        if ch in uniq:\n",
    "            return False\n",
    "        else:\n",
    "            uniq[ch] = 1\n",
    "            \n",
    "    return True"
   ]
  },
  {
   "cell_type": "code",
   "execution_count": 109,
   "metadata": {
    "collapsed": true
   },
   "outputs": [],
   "source": [
    "def uni_char(s):\n",
    "    return len(set(s)) == len(s)"
   ]
  },
  {
   "cell_type": "code",
   "execution_count": 113,
   "metadata": {
    "collapsed": true
   },
   "outputs": [],
   "source": [
    "def uni_char2(s):\n",
    "    \n",
    "    chars = set()\n",
    "    for let in s:\n",
    "        if let in chars:\n",
    "            return False\n",
    "        else:\n",
    "            chars.add(let)\n",
    "            \n",
    "    return True"
   ]
  },
  {
   "cell_type": "code",
   "execution_count": 114,
   "metadata": {},
   "outputs": [
    {
     "data": {
      "text/plain": [
       "True"
      ]
     },
     "execution_count": 114,
     "metadata": {},
     "output_type": "execute_result"
    }
   ],
   "source": [
    "uni_char('')"
   ]
  },
  {
   "cell_type": "code",
   "execution_count": 115,
   "metadata": {},
   "outputs": [
    {
     "data": {
      "text/plain": [
       "False"
      ]
     },
     "execution_count": 115,
     "metadata": {},
     "output_type": "execute_result"
    }
   ],
   "source": [
    "uni_char('goo')"
   ]
  },
  {
   "cell_type": "code",
   "execution_count": 116,
   "metadata": {},
   "outputs": [
    {
     "data": {
      "text/plain": [
       "True"
      ]
     },
     "execution_count": 116,
     "metadata": {},
     "output_type": "execute_result"
    }
   ],
   "source": [
    "uni_char('abcdefg')"
   ]
  },
  {
   "cell_type": "markdown",
   "metadata": {},
   "source": [
    "# Stacks Queues Deques"
   ]
  },
  {
   "cell_type": "raw",
   "metadata": {},
   "source": [
    "_ These are linear structures.\n",
    "_ They are similar to arrays, but each of these structures differs\n",
    "by how it adds and removes items"
   ]
  },
  {
   "cell_type": "raw",
   "metadata": {},
   "source": [
    "_ Overview of the Linear Structures\n",
    "_ Overview, implementation of Stacks, Queues, and Deques"
   ]
  },
  {
   "cell_type": "markdown",
   "metadata": {},
   "source": [
    "## Stack overview"
   ]
  },
  {
   "cell_type": "raw",
   "metadata": {},
   "source": [
    "_ A stack is an ordered collection of items where the addition of\n",
    "new items and the removal of existing items alwasys takes place at\n",
    "the same end.\n",
    "_ This end is commonly referred to as the \"top\"\n",
    "_ The end opposite the top is known as the \"base\""
   ]
  },
  {
   "cell_type": "raw",
   "metadata": {},
   "source": [
    "_ The base of the stack is significant since items stored in the\n",
    "stack that are closer to the base represent those that have been in\n",
    "the stack the longest.\n",
    "_ The most recently added item is the one that is in position\n",
    "to be removed first."
   ]
  },
  {
   "cell_type": "raw",
   "metadata": {},
   "source": [
    "** This ordering principle is sometimes called LIFO, last-in first-out\n",
    "_ It provides an ordering based on length of time in the collection\n",
    "_ Newer items are near the top, while older items are near the base."
   ]
  },
  {
   "cell_type": "raw",
   "metadata": {},
   "source": [
    "_ Note how the first items \"pushed\" to the stack begin at the base,\n",
    "and as items are \"popped\" out.\n",
    "_ Stacks are fundamentally important, as they can be used to revere\n",
    "the order of items.\n",
    "_ The order of insertion is the reverse of the order of removal."
   ]
  },
  {
   "cell_type": "raw",
   "metadata": {},
   "source": [
    "+ As you navigate from web page to web page, those pages are placed\n",
    "on a stack (actually it is the URLs that are going on the stack).\n",
    "+ The current page that you are viewing is on the top and the first\n",
    "page you looked at is at the base.\n",
    "+ I fyou click on the Back button, you begin to move in reverse\n",
    "order through the pages"
   ]
  },
  {
   "cell_type": "markdown",
   "metadata": {},
   "source": [
    "## Stack Implementation"
   ]
  },
  {
   "cell_type": "code",
   "execution_count": 25,
   "metadata": {
    "collapsed": true
   },
   "outputs": [],
   "source": [
    "class Stack(object):\n",
    "    \n",
    "    def __init__(self):\n",
    "        self.items = []\n",
    "    \n",
    "    def isEmpty(self):\n",
    "        return self.items == []\n",
    "    \n",
    "    def push(self, item):\n",
    "        self.items.append(item)\n",
    "    \n",
    "    def pop(self):\n",
    "        return self.items.pop()\n",
    "    \n",
    "    def peek(self):\n",
    "        return self.items[len(self.items) - 1]\n",
    "    \n",
    "    def size(self):\n",
    "        return len(self.items)"
   ]
  },
  {
   "cell_type": "code",
   "execution_count": 42,
   "metadata": {
    "collapsed": true
   },
   "outputs": [],
   "source": [
    "s = Stack()"
   ]
  },
  {
   "cell_type": "code",
   "execution_count": 43,
   "metadata": {},
   "outputs": [
    {
     "name": "stdout",
     "output_type": "stream",
     "text": [
      "True\n"
     ]
    }
   ],
   "source": [
    "print s.isEmpty()"
   ]
  },
  {
   "cell_type": "code",
   "execution_count": 44,
   "metadata": {
    "collapsed": true
   },
   "outputs": [],
   "source": [
    "s.push(1)"
   ]
  },
  {
   "cell_type": "code",
   "execution_count": 45,
   "metadata": {
    "collapsed": true
   },
   "outputs": [],
   "source": [
    "s.push('two')"
   ]
  },
  {
   "cell_type": "code",
   "execution_count": 46,
   "metadata": {},
   "outputs": [
    {
     "data": {
      "text/plain": [
       "'two'"
      ]
     },
     "execution_count": 46,
     "metadata": {},
     "output_type": "execute_result"
    }
   ],
   "source": [
    "s.peek()"
   ]
  },
  {
   "cell_type": "code",
   "execution_count": 47,
   "metadata": {
    "collapsed": true
   },
   "outputs": [],
   "source": [
    "s.push(True)"
   ]
  },
  {
   "cell_type": "code",
   "execution_count": 48,
   "metadata": {},
   "outputs": [
    {
     "data": {
      "text/plain": [
       "3"
      ]
     },
     "execution_count": 48,
     "metadata": {},
     "output_type": "execute_result"
    }
   ],
   "source": [
    "s.size()"
   ]
  },
  {
   "cell_type": "code",
   "execution_count": 49,
   "metadata": {},
   "outputs": [
    {
     "data": {
      "text/plain": [
       "False"
      ]
     },
     "execution_count": 49,
     "metadata": {},
     "output_type": "execute_result"
    }
   ],
   "source": [
    "s.isEmpty()"
   ]
  },
  {
   "cell_type": "code",
   "execution_count": 50,
   "metadata": {},
   "outputs": [
    {
     "data": {
      "text/plain": [
       "True"
      ]
     },
     "execution_count": 50,
     "metadata": {},
     "output_type": "execute_result"
    }
   ],
   "source": [
    "s.pop()"
   ]
  },
  {
   "cell_type": "code",
   "execution_count": 51,
   "metadata": {},
   "outputs": [
    {
     "data": {
      "text/plain": [
       "False"
      ]
     },
     "execution_count": 51,
     "metadata": {},
     "output_type": "execute_result"
    }
   ],
   "source": [
    "s.isEmpty()"
   ]
  },
  {
   "cell_type": "code",
   "execution_count": 53,
   "metadata": {},
   "outputs": [
    {
     "data": {
      "text/plain": [
       "1"
      ]
     },
     "execution_count": 53,
     "metadata": {},
     "output_type": "execute_result"
    }
   ],
   "source": [
    "s.pop()"
   ]
  },
  {
   "cell_type": "code",
   "execution_count": 55,
   "metadata": {},
   "outputs": [
    {
     "data": {
      "text/plain": [
       "True"
      ]
     },
     "execution_count": 55,
     "metadata": {},
     "output_type": "execute_result"
    }
   ],
   "source": [
    "s.isEmpty()"
   ]
  },
  {
   "cell_type": "markdown",
   "metadata": {},
   "source": [
    "# Queue Overview"
   ]
  },
  {
   "cell_type": "raw",
   "metadata": {},
   "source": [
    "_ A queue is an ordered collection of items where the addition of\n",
    "items where the addition of new items happens at one end, called\n",
    "the \"rear,' and the removal of existing items occurs at the other\n",
    "end, commonly called the \"front.'\n",
    "_ As an element enters the queue it starts at the rear and makes its\n",
    "way toward the front, waiting until that time when it is the next\n",
    "element to be remove"
   ]
  },
  {
   "cell_type": "raw",
   "metadata": {},
   "source": [
    "_ The most recently added item in the queue must wait at the end of\n",
    "the collection.\n",
    "_ The item that has been in the collection the lonest is at the front\n",
    "_ This ordering principle is sometimes called FIFO, first-in\n",
    "first-out\n",
    "_ It is also known as \"first-come first-served.\""
   ]
  },
  {
   "cell_type": "raw",
   "metadata": {},
   "source": [
    "_ The simplest example of a queue is the typical line that we all\n",
    "participate in from time to time\n",
    "_ We wait in a line for a movei, we wait in the check-out line at\n",
    "a grocery store, and we wait in the cafeteria line.\n",
    "_ The first person in that line is also the first person to get \n",
    "serviced/helped."
   ]
  },
  {
   "cell_type": "raw",
   "metadata": {},
   "source": [
    "+ Note how we have two terms here\n",
    "Enqueue and Dequeue.\n",
    "+ The enqueue term sescribes when we add a new item to the \n",
    "rear of the queue.\n",
    "+ The dequeue term describes removing the front item from the queue."
   ]
  },
  {
   "cell_type": "markdown",
   "metadata": {},
   "source": [
    "## Queue implementation"
   ]
  },
  {
   "cell_type": "code",
   "execution_count": 78,
   "metadata": {
    "collapsed": true
   },
   "outputs": [],
   "source": [
    "class Queue(object):\n",
    "    \n",
    "    def __init__(self):\n",
    "        self.items = []\n",
    "    \n",
    "    def isEmpty(self):\n",
    "        return self.items == []\n",
    "    \n",
    "    def enqueue(self, item):\n",
    "        self.items.insert(0,item)\n",
    "    \n",
    "    def dequeue(self):\n",
    "        return self.items.pop()\n",
    "    \n",
    "    def size(self):\n",
    "        return len(self.items)\n",
    "    "
   ]
  },
  {
   "cell_type": "code",
   "execution_count": 79,
   "metadata": {
    "collapsed": true
   },
   "outputs": [],
   "source": [
    "q = Queue()"
   ]
  },
  {
   "cell_type": "code",
   "execution_count": 80,
   "metadata": {},
   "outputs": [
    {
     "data": {
      "text/plain": [
       "True"
      ]
     },
     "execution_count": 80,
     "metadata": {},
     "output_type": "execute_result"
    }
   ],
   "source": [
    "q.isEmpty()"
   ]
  },
  {
   "cell_type": "code",
   "execution_count": 81,
   "metadata": {
    "collapsed": true
   },
   "outputs": [],
   "source": [
    "q.enqueue(1)"
   ]
  },
  {
   "cell_type": "code",
   "execution_count": 82,
   "metadata": {
    "collapsed": true
   },
   "outputs": [],
   "source": [
    "q.enqueue(2)"
   ]
  },
  {
   "cell_type": "code",
   "execution_count": 83,
   "metadata": {},
   "outputs": [
    {
     "data": {
      "text/plain": [
       "2"
      ]
     },
     "execution_count": 83,
     "metadata": {},
     "output_type": "execute_result"
    }
   ],
   "source": [
    "q.size()"
   ]
  },
  {
   "cell_type": "code",
   "execution_count": 84,
   "metadata": {},
   "outputs": [
    {
     "data": {
      "text/plain": [
       "1"
      ]
     },
     "execution_count": 84,
     "metadata": {},
     "output_type": "execute_result"
    }
   ],
   "source": [
    "q.dequeue()"
   ]
  },
  {
   "cell_type": "markdown",
   "metadata": {},
   "source": [
    "# Deque"
   ]
  },
  {
   "cell_type": "raw",
   "metadata": {},
   "source": [
    "_ A deque, also known as double-ended queue, is an ordered\n",
    "collection of items similar to the queue.\n",
    "_ It has two ends, a front and a rear, and the items remain\n",
    "positioned in the collection."
   ]
  },
  {
   "cell_type": "raw",
   "metadata": {
    "collapsed": true
   },
   "source": [
    "_ What makes a deque different is the unrestrictive nature of adding and remvoing items.\n",
    "_ New items can be added at either the front or the rear."
   ]
  },
  {
   "cell_type": "raw",
   "metadata": {},
   "source": [
    "_ Like wise, existing items can be removed from either end.\n",
    "_ In a sense, this hybrid linear structure provides all the capabilities of stacks and queues in a single data structure."
   ]
  },
  {
   "cell_type": "markdown",
   "metadata": {},
   "source": [
    "## Deque implementation"
   ]
  },
  {
   "cell_type": "code",
   "execution_count": 92,
   "metadata": {
    "collapsed": true
   },
   "outputs": [],
   "source": [
    "class Deque(object):\n",
    "    \n",
    "    def __init__(self):\n",
    "        self.items = []\n",
    "    \n",
    "    def isEmpty(self):\n",
    "        return self.items == []\n",
    "    \n",
    "    def addFront(self, item):\n",
    "        self.items.append(item)\n",
    "    \n",
    "    def addRear(self, item):\n",
    "        self.items.insert(0, item)\n",
    "    \n",
    "    def removeFront(self):\n",
    "        return self.items.pop()\n",
    "    \n",
    "    def removeRear(self):\n",
    "        return self.items.pop(0)\n",
    "\n",
    "    def size(self):\n",
    "        return len(self.items)"
   ]
  },
  {
   "cell_type": "code",
   "execution_count": 93,
   "metadata": {
    "collapsed": true
   },
   "outputs": [],
   "source": [
    "d = Deque()"
   ]
  },
  {
   "cell_type": "code",
   "execution_count": 94,
   "metadata": {
    "collapsed": true
   },
   "outputs": [],
   "source": [
    "d.addFront(\"hello\")"
   ]
  },
  {
   "cell_type": "code",
   "execution_count": 95,
   "metadata": {
    "collapsed": true
   },
   "outputs": [],
   "source": [
    "d.addRear('world')"
   ]
  },
  {
   "cell_type": "code",
   "execution_count": 96,
   "metadata": {},
   "outputs": [
    {
     "data": {
      "text/plain": [
       "2"
      ]
     },
     "execution_count": 96,
     "metadata": {},
     "output_type": "execute_result"
    }
   ],
   "source": [
    "d.size()"
   ]
  },
  {
   "cell_type": "code",
   "execution_count": 97,
   "metadata": {},
   "outputs": [
    {
     "name": "stdout",
     "output_type": "stream",
     "text": [
      "hello world\n"
     ]
    }
   ],
   "source": [
    "print d.removeFront() + ' ' + d.removeRear()"
   ]
  },
  {
   "cell_type": "code",
   "execution_count": 98,
   "metadata": {},
   "outputs": [
    {
     "data": {
      "text/plain": [
       "0"
      ]
     },
     "execution_count": 98,
     "metadata": {},
     "output_type": "execute_result"
    }
   ],
   "source": [
    "d.size()"
   ]
  },
  {
   "cell_type": "code",
   "execution_count": 99,
   "metadata": {},
   "outputs": [
    {
     "data": {
      "text/plain": [
       "True"
      ]
     },
     "execution_count": 99,
     "metadata": {},
     "output_type": "execute_result"
    }
   ],
   "source": [
    "d.isEmpty()"
   ]
  },
  {
   "cell_type": "markdown",
   "metadata": {},
   "source": [
    "# Implement a Stack (interview)"
   ]
  },
  {
   "cell_type": "code",
   "execution_count": 108,
   "metadata": {
    "collapsed": true
   },
   "outputs": [],
   "source": [
    "class Stack(object):\n",
    "    \n",
    "    def __init__(self):\n",
    "        self.items = []\n",
    "    \n",
    "    def isEmpty(self):\n",
    "        return self.items == []\n",
    "\n",
    "    def push(self, item):\n",
    "        self.items.append(item)\n",
    "    \n",
    "    def pop(self):\n",
    "        return self.items.pop()\n",
    "    \n",
    "    def peek(self):\n",
    "        return self.items[-1]\n",
    "    \n",
    "    def size(self):\n",
    "        return len(self.items)"
   ]
  },
  {
   "cell_type": "code",
   "execution_count": 109,
   "metadata": {
    "collapsed": true
   },
   "outputs": [],
   "source": [
    "s = Stack()"
   ]
  },
  {
   "cell_type": "code",
   "execution_count": 110,
   "metadata": {
    "collapsed": true
   },
   "outputs": [],
   "source": [
    "s.push(1)"
   ]
  },
  {
   "cell_type": "code",
   "execution_count": 111,
   "metadata": {
    "collapsed": true
   },
   "outputs": [],
   "source": [
    "s.push(2)"
   ]
  },
  {
   "cell_type": "code",
   "execution_count": 112,
   "metadata": {},
   "outputs": [
    {
     "data": {
      "text/plain": [
       "False"
      ]
     },
     "execution_count": 112,
     "metadata": {},
     "output_type": "execute_result"
    }
   ],
   "source": [
    "s.isEmpty()"
   ]
  },
  {
   "cell_type": "code",
   "execution_count": 113,
   "metadata": {},
   "outputs": [
    {
     "data": {
      "text/plain": [
       "2"
      ]
     },
     "execution_count": 113,
     "metadata": {},
     "output_type": "execute_result"
    }
   ],
   "source": [
    "s.peek()"
   ]
  },
  {
   "cell_type": "code",
   "execution_count": 114,
   "metadata": {},
   "outputs": [
    {
     "data": {
      "text/plain": [
       "2"
      ]
     },
     "execution_count": 114,
     "metadata": {},
     "output_type": "execute_result"
    }
   ],
   "source": [
    "s.pop()"
   ]
  },
  {
   "cell_type": "code",
   "execution_count": 115,
   "metadata": {},
   "outputs": [
    {
     "data": {
      "text/plain": [
       "1"
      ]
     },
     "execution_count": 115,
     "metadata": {},
     "output_type": "execute_result"
    }
   ],
   "source": [
    "s.peek()"
   ]
  },
  {
   "cell_type": "code",
   "execution_count": 116,
   "metadata": {},
   "outputs": [
    {
     "data": {
      "text/plain": [
       "1"
      ]
     },
     "execution_count": 116,
     "metadata": {},
     "output_type": "execute_result"
    }
   ],
   "source": [
    "s.pop()"
   ]
  },
  {
   "cell_type": "code",
   "execution_count": 117,
   "metadata": {},
   "outputs": [
    {
     "data": {
      "text/plain": [
       "0"
      ]
     },
     "execution_count": 117,
     "metadata": {},
     "output_type": "execute_result"
    }
   ],
   "source": [
    "s.size()"
   ]
  },
  {
   "cell_type": "markdown",
   "metadata": {},
   "source": [
    "# Implement a Queue (interview)"
   ]
  },
  {
   "cell_type": "code",
   "execution_count": 130,
   "metadata": {
    "collapsed": true
   },
   "outputs": [],
   "source": [
    "class Queue(object):\n",
    "    \n",
    "    def __init__(self):\n",
    "        self.items = []\n",
    "    \n",
    "    def isEmpty(self):\n",
    "        return self.items == []\n",
    "    \n",
    "    def enqueue(self, item):\n",
    "        self.items.insert(0, item)\n",
    "    \n",
    "    def dequeue(self):\n",
    "        return self.items.pop()\n",
    "    \n",
    "    def size(self):\n",
    "        return len(self.items)"
   ]
  },
  {
   "cell_type": "code",
   "execution_count": 131,
   "metadata": {
    "collapsed": true
   },
   "outputs": [],
   "source": [
    "q = Queue()"
   ]
  },
  {
   "cell_type": "code",
   "execution_count": 132,
   "metadata": {
    "collapsed": true
   },
   "outputs": [],
   "source": [
    "q.enqueue(1)\n",
    "q.enqueue(2)"
   ]
  },
  {
   "cell_type": "code",
   "execution_count": 133,
   "metadata": {},
   "outputs": [
    {
     "data": {
      "text/plain": [
       "False"
      ]
     },
     "execution_count": 133,
     "metadata": {},
     "output_type": "execute_result"
    }
   ],
   "source": [
    "q.isEmpty()"
   ]
  },
  {
   "cell_type": "code",
   "execution_count": 134,
   "metadata": {},
   "outputs": [
    {
     "data": {
      "text/plain": [
       "1"
      ]
     },
     "execution_count": 134,
     "metadata": {},
     "output_type": "execute_result"
    }
   ],
   "source": [
    "q.dequeue()"
   ]
  },
  {
   "cell_type": "code",
   "execution_count": 135,
   "metadata": {},
   "outputs": [
    {
     "data": {
      "text/plain": [
       "1"
      ]
     },
     "execution_count": 135,
     "metadata": {},
     "output_type": "execute_result"
    }
   ],
   "source": [
    "q.size()"
   ]
  },
  {
   "cell_type": "code",
   "execution_count": 136,
   "metadata": {},
   "outputs": [
    {
     "data": {
      "text/plain": [
       "2"
      ]
     },
     "execution_count": 136,
     "metadata": {},
     "output_type": "execute_result"
    }
   ],
   "source": [
    "q.dequeue()"
   ]
  },
  {
   "cell_type": "code",
   "execution_count": 137,
   "metadata": {},
   "outputs": [
    {
     "data": {
      "text/plain": [
       "0"
      ]
     },
     "execution_count": 137,
     "metadata": {},
     "output_type": "execute_result"
    }
   ],
   "source": [
    "q.size()"
   ]
  },
  {
   "cell_type": "markdown",
   "metadata": {},
   "source": [
    "# Implement a Deque"
   ]
  },
  {
   "cell_type": "code",
   "execution_count": 143,
   "metadata": {
    "collapsed": true
   },
   "outputs": [],
   "source": [
    "class Deque(object):\n",
    "    \n",
    "    def __init__(self):\n",
    "        self.items = []\n",
    "    \n",
    "    def isEmpty(self):\n",
    "        return self.items == []\n",
    "    \n",
    "    def addFront(self,item):\n",
    "        self.items.append(item)\n",
    "    \n",
    "    def addRear(self, item):\n",
    "        self.items.insert(0,item)\n",
    "    \n",
    "    def removeFront(self):\n",
    "        return self.items.pop()\n",
    "\n",
    "    def removeRear(self):\n",
    "        return self.items.pop(0)\n",
    "    \n",
    "    def size(self):\n",
    "        return len(self.items)"
   ]
  },
  {
   "cell_type": "code",
   "execution_count": 144,
   "metadata": {
    "collapsed": true
   },
   "outputs": [],
   "source": [
    "d = Deque()"
   ]
  },
  {
   "cell_type": "code",
   "execution_count": 145,
   "metadata": {
    "collapsed": true
   },
   "outputs": [],
   "source": [
    "d.addFront(2)\n",
    "d.addRear(1)"
   ]
  },
  {
   "cell_type": "code",
   "execution_count": 146,
   "metadata": {},
   "outputs": [
    {
     "data": {
      "text/plain": [
       "False"
      ]
     },
     "execution_count": 146,
     "metadata": {},
     "output_type": "execute_result"
    }
   ],
   "source": [
    "d.isEmpty()"
   ]
  },
  {
   "cell_type": "code",
   "execution_count": 147,
   "metadata": {},
   "outputs": [
    {
     "data": {
      "text/plain": [
       "1"
      ]
     },
     "execution_count": 147,
     "metadata": {},
     "output_type": "execute_result"
    }
   ],
   "source": [
    "d.removeRear()"
   ]
  },
  {
   "cell_type": "code",
   "execution_count": 148,
   "metadata": {},
   "outputs": [
    {
     "data": {
      "text/plain": [
       "2"
      ]
     },
     "execution_count": 148,
     "metadata": {},
     "output_type": "execute_result"
    }
   ],
   "source": [
    "d.removeFront()"
   ]
  },
  {
   "cell_type": "code",
   "execution_count": 149,
   "metadata": {},
   "outputs": [
    {
     "data": {
      "text/plain": [
       "0"
      ]
     },
     "execution_count": 149,
     "metadata": {},
     "output_type": "execute_result"
    }
   ],
   "source": [
    "d.size()"
   ]
  },
  {
   "cell_type": "markdown",
   "metadata": {},
   "source": [
    "# Balanced Parentheses Check (interview)"
   ]
  },
  {
   "cell_type": "raw",
   "metadata": {},
   "source": [
    "Given a string of opening and closing parentheses, check whether it’s balanced. We have 3 types of parentheses: round brackets: (), square brackets: [], and curly brackets: {}. Assume that the string doesn’t contain any other character than these, no spaces words or numbers. As a reminder, balanced parentheses require every opening parenthesis to be closed in the reverse order opened. For example ‘([])’ is balanced but ‘([)]’ is not.\n",
    "\n",
    "You can assume the input string has no spaces."
   ]
  },
  {
   "cell_type": "code",
   "execution_count": 150,
   "metadata": {},
   "outputs": [
    {
     "data": {
      "text/plain": [
       "{'(', '[', '{'}"
      ]
     },
     "execution_count": 150,
     "metadata": {},
     "output_type": "execute_result"
    }
   ],
   "source": [
    "set('([{')"
   ]
  },
  {
   "cell_type": "code",
   "execution_count": 152,
   "metadata": {},
   "outputs": [
    {
     "data": {
      "text/plain": [
       "{('(', ')'), ('[', ']'), ('{', '}')}"
      ]
     },
     "execution_count": 152,
     "metadata": {},
     "output_type": "execute_result"
    }
   ],
   "source": [
    "set([('(', ')'), ('[', ']'), ('{', '}')])"
   ]
  },
  {
   "cell_type": "code",
   "execution_count": 161,
   "metadata": {
    "collapsed": true
   },
   "outputs": [],
   "source": [
    "def balance_check(s):\n",
    "    \n",
    "    if len(s)%2 != 0:\n",
    "        return False\n",
    "    \n",
    "    opening =  set('([{')\n",
    "    \n",
    "    matches = set([('(', ')'), ('[', ']'), ('{', '}')])\n",
    "    \n",
    "    stack = []\n",
    "    \n",
    "    for paren in s:\n",
    "        if paren in opening:\n",
    "            stack.append(paren)\n",
    "        else:\n",
    "            \n",
    "            if len(stack) == 0: # there is no opening parenthese for\n",
    "                return False    # this 'paren' close parenthese\n",
    "            \n",
    "            last_open = stack.pop()\n",
    "            if (last_open, paren) not in matches:\n",
    "                return False\n",
    "    return len(stack) == 0 # false if the opening parenthese never close"
   ]
  },
  {
   "cell_type": "code",
   "execution_count": 162,
   "metadata": {},
   "outputs": [
    {
     "data": {
      "text/plain": [
       "True"
      ]
     },
     "execution_count": 162,
     "metadata": {},
     "output_type": "execute_result"
    }
   ],
   "source": [
    "balance_check('[]')"
   ]
  },
  {
   "cell_type": "code",
   "execution_count": 163,
   "metadata": {},
   "outputs": [
    {
     "data": {
      "text/plain": [
       "True"
      ]
     },
     "execution_count": 163,
     "metadata": {},
     "output_type": "execute_result"
    }
   ],
   "source": [
    "balance_check('[](){([[[]]])}')"
   ]
  },
  {
   "cell_type": "code",
   "execution_count": 164,
   "metadata": {},
   "outputs": [
    {
     "data": {
      "text/plain": [
       "False"
      ]
     },
     "execution_count": 164,
     "metadata": {},
     "output_type": "execute_result"
    }
   ],
   "source": [
    "balance_check('()(){]}')\n"
   ]
  },
  {
   "cell_type": "markdown",
   "metadata": {},
   "source": [
    "# Implement a Queue - Using Two Stacks"
   ]
  },
  {
   "cell_type": "code",
   "execution_count": 165,
   "metadata": {
    "collapsed": true
   },
   "outputs": [],
   "source": [
    "stack1 = []\n",
    "stack2 = []"
   ]
  },
  {
   "cell_type": "code",
   "execution_count": 194,
   "metadata": {
    "collapsed": true
   },
   "outputs": [],
   "source": [
    "class Queue2Stacks(object): # my version works for the test cases\n",
    "    \n",
    "    def __init__(self):\n",
    "        self.stack1 = []\n",
    "        self.stack2 = []\n",
    "        \n",
    "    def enqueue(self, element):\n",
    "        self.stack1.append(element)\n",
    "        \n",
    "    def dequeue(self):\n",
    "        while self.stack1 != [] :\n",
    "            self.stack2.append(self.stack1.pop())\n",
    "        return self.stack2.pop()"
   ]
  },
  {
   "cell_type": "code",
   "execution_count": 195,
   "metadata": {
    "collapsed": true
   },
   "outputs": [],
   "source": [
    "class Queue2Stacks(object):\n",
    "    \n",
    "    def __init__(self):\n",
    "        self.instack = []\n",
    "        self.outstack = []\n",
    "    \n",
    "    def enqueue(self, element):\n",
    "        self.instack.append(element)\n",
    "    \n",
    "    def dequeue(self):\n",
    "        \n",
    "        if not self.outstack:\n",
    "            while self.instack:\n",
    "                self.outstack.append(self.instack.pop())\n",
    "        return self.outstack.pop()"
   ]
  },
  {
   "cell_type": "code",
   "execution_count": 196,
   "metadata": {
    "scrolled": true
   },
   "outputs": [
    {
     "name": "stdout",
     "output_type": "stream",
     "text": [
      "0\n",
      "1\n",
      "2\n",
      "3\n",
      "4\n"
     ]
    }
   ],
   "source": [
    "\"\"\"\n",
    "RUN THIS CELL TO CHECK THAT YOUR SOLUTION OUTPUT MAKES SENSE AND BEHAVES AS A QUEUE\n",
    "\"\"\"\n",
    "q = Queue2Stacks()\n",
    "\n",
    "for i in xrange(5):\n",
    "    q.enqueue(i)\n",
    "    \n",
    "for i in xrange(5):\n",
    "    print q.dequeue()"
   ]
  },
  {
   "cell_type": "markdown",
   "metadata": {},
   "source": [
    "# Singly Linked List"
   ]
  },
  {
   "cell_type": "raw",
   "metadata": {},
   "source": [
    "_ Singly Linked List Overview\n",
    "_ Adding elements to List\n",
    "_ Removing Elements from List"
   ]
  },
  {
   "cell_type": "raw",
   "metadata": {},
   "source": [
    "_ A singly linked list, in its simplest form, it a collection\n",
    "of nodes that collectively form a linear sequence.\n",
    "_ Each node stores a reference to an object that is an\n",
    "element of the sequence, as well as a reference to the next\n",
    "node of the list"
   ]
  },
  {
   "cell_type": "raw",
   "metadata": {},
   "source": [
    "_ The list instance maintains a member named head that \n",
    "identifies the first node of the list.\n",
    "_ In some applications another member named tail that identifies\n",
    "the last node of the list"
   ]
  },
  {
   "cell_type": "raw",
   "metadata": {},
   "source": [
    "_ The first and last node of a linked list are known as the head\n",
    "and tail of the list"
   ]
  },
  {
   "cell_type": "raw",
   "metadata": {},
   "source": [
    "_ We can identify the tail as the node having None as its next\n",
    "reference.\n",
    "_ This process is commonly known as traversing the linked list."
   ]
  },
  {
   "cell_type": "raw",
   "metadata": {},
   "source": [
    "_ Because the next reference of a node can be viewed as a link\n",
    "or pointer to another node, the process of traversing a list is also\n",
    "known as link hopping or pointer hopping."
   ]
  },
  {
   "cell_type": "raw",
   "metadata": {},
   "source": [
    "_Each node is represented as a unique object, with that instance\n",
    "storing a reference to its element and a reference to the next node\n",
    "(or None)"
   ]
  },
  {
   "cell_type": "markdown",
   "metadata": {},
   "source": [
    "## Inserting an Element at the Head of a Singly Linked List"
   ]
  },
  {
   "cell_type": "raw",
   "metadata": {},
   "source": [
    "_ An important property of a linked list is that it does not have \n",
    "a predetermined fixed size\n",
    "_ It uses space proortionally to its current number of elements.\n",
    "_ To insert a new element at the head of the list:\n",
    "    + We create a new node\n",
    "    + Set its element to the new element\n",
    "    + set its next link to refer to the current head\n",
    "    + then set the list's head to point to the new node"
   ]
  },
  {
   "cell_type": "markdown",
   "metadata": {},
   "source": [
    "## Inserting an element at the Tail of a Singly Linked List"
   ]
  },
  {
   "cell_type": "raw",
   "metadata": {},
   "source": [
    "_ We can also easily insert an element at the tail of the list,\n",
    "provided we keep a reference to the tail node\n",
    "    + Create a new node\n",
    "    + Assign its next reference to None\n",
    "    + Set the next reference to the tail to point to this new node\n",
    "    + Then update the tail reference itself to this new node."
   ]
  },
  {
   "cell_type": "markdown",
   "metadata": {},
   "source": [
    "## Removing an Element from a Singly Linked List"
   ]
  },
  {
   "cell_type": "raw",
   "metadata": {},
   "source": [
    "_ Removing an element from the head of a singly linked list is \n",
    "essentially the reverse operation of inserting a new element at the head"
   ]
  },
  {
   "cell_type": "raw",
   "metadata": {},
   "source": [
    "_ We cannot easily delete the last node of a singly linked list.\n",
    "_ Even if we maintain a tail reference directly to the last node of\n",
    "the list, we must be able to access the node before the last node\n",
    "in order to remove the last node.\n",
    "_ But we cannot reach the node before the tail by following next links from the tail.\n",
    "_ If we want to support such an operation efficiently, we will\n",
    "need to make our list doubly linked"
   ]
  },
  {
   "cell_type": "markdown",
   "metadata": {},
   "source": [
    "## Singly link list implementation"
   ]
  },
  {
   "cell_type": "code",
   "execution_count": 200,
   "metadata": {
    "collapsed": true
   },
   "outputs": [],
   "source": [
    "class Node(object):\n",
    "    \n",
    "    def __init__(self, value):\n",
    "        self.value = value\n",
    "        self.nextnode = None"
   ]
  },
  {
   "cell_type": "code",
   "execution_count": 201,
   "metadata": {
    "collapsed": true
   },
   "outputs": [],
   "source": [
    "a = Node(1)\n",
    "b = Node(2)\n",
    "c = Node(3)"
   ]
  },
  {
   "cell_type": "code",
   "execution_count": 202,
   "metadata": {
    "collapsed": true
   },
   "outputs": [],
   "source": [
    "a.nextnode = b"
   ]
  },
  {
   "cell_type": "code",
   "execution_count": 203,
   "metadata": {
    "collapsed": true
   },
   "outputs": [],
   "source": [
    "b.nextnode = c"
   ]
  },
  {
   "cell_type": "code",
   "execution_count": 204,
   "metadata": {},
   "outputs": [
    {
     "data": {
      "text/plain": [
       "1"
      ]
     },
     "execution_count": 204,
     "metadata": {},
     "output_type": "execute_result"
    }
   ],
   "source": [
    "a.value"
   ]
  },
  {
   "cell_type": "code",
   "execution_count": 206,
   "metadata": {},
   "outputs": [
    {
     "data": {
      "text/plain": [
       "2"
      ]
     },
     "execution_count": 206,
     "metadata": {},
     "output_type": "execute_result"
    }
   ],
   "source": [
    "a.nextnode.value"
   ]
  },
  {
   "cell_type": "markdown",
   "metadata": {},
   "source": [
    "## Pros"
   ]
  },
  {
   "cell_type": "raw",
   "metadata": {},
   "source": [
    "_ Linked list have constant-time insertions and deletions in any\n",
    "position, in comparision, arrays require O(n) time to do the same\n",
    "thing.\n",
    "_ Linked lists can continue to expand without having to specify\n",
    "their size ahead of time\n",
    "(remember our lectures on Array sizing form the Array sequence\n",
    "section of the course!)"
   ]
  },
  {
   "cell_type": "markdown",
   "metadata": {},
   "source": [
    "## Cons"
   ]
  },
  {
   "cell_type": "raw",
   "metadata": {},
   "source": [
    "_ To access an element in a linked list, you need to take O(k) time\n",
    "to go from the head of the list to the kth element. In contrast,\n",
    "arrays have constant time operations to access eements in an array."
   ]
  },
  {
   "cell_type": "markdown",
   "metadata": {},
   "source": [
    "## Doubly Linked Lists"
   ]
  },
  {
   "cell_type": "raw",
   "metadata": {},
   "source": [
    "_ Double linked list overview\n",
    "_ Header and Trailer Sentinels"
   ]
  },
  {
   "cell_type": "raw",
   "metadata": {},
   "source": [
    "_ In a doubly linked lis,t we define a linked list in which each\n",
    " node keeps an explicit reference to the node before it and a\n",
    " reference tothe node after it\n",
    "_ These lists allow a greater variety of O(1)-time update operations, including insertions and deletions.\n",
    "_ We continue to use the term \"next\" for the reference to the node\n",
    "that follows another.\n",
    "_ We have a enw term \"prev\" for the reference to the node that \n",
    "precedes it."
   ]
  },
  {
   "cell_type": "raw",
   "metadata": {},
   "source": [
    "_ We add special nodes at both ends of the list.\n",
    "_ a header node at the beginning of the list\n",
    "_ a trailer node at the end of the list.\n",
    "_ These \"dummy\" nodes are known as sentinels (or guards)"
   ]
  },
  {
   "cell_type": "raw",
   "metadata": {},
   "source": [
    "_ Every insertion into our double linked list representation will\n",
    "take place between a pair of existing nodes.\n",
    "_ When a new element is inserted at the front of the sequence,\n",
    "we will simply add the new node between the header and the node\n",
    "that is currently after the header"
   ]
  },
  {
   "cell_type": "raw",
   "metadata": {},
   "source": [
    "_ The two neighbors of the node to be deleted are linked directly to\n",
    "each other\n",
    "_ As a result, that node will no longer be considered part of the\n",
    "list and it can be reclaimed by the system.\n",
    "_ Because of sentinels, the same implementation can be used when \n",
    "deleting the first or the last element of a sequence."
   ]
  },
  {
   "cell_type": "markdown",
   "metadata": {},
   "source": [
    "## Doubly Linked List implementation"
   ]
  },
  {
   "cell_type": "code",
   "execution_count": 207,
   "metadata": {
    "collapsed": true
   },
   "outputs": [],
   "source": [
    "class DoublyLinkedListNode(object):\n",
    "    \n",
    "    def __init__(self, value):\n",
    "        self.value = value\n",
    "        self.next_node = None\n",
    "        self.prev_node = None"
   ]
  },
  {
   "cell_type": "code",
   "execution_count": 208,
   "metadata": {
    "collapsed": true
   },
   "outputs": [],
   "source": [
    "a = DoublyLinkedListNode(1)\n",
    "b = DoublyLinkedListNode(2)\n",
    "c = DoublyLinkedListNode(3)"
   ]
  },
  {
   "cell_type": "code",
   "execution_count": 209,
   "metadata": {
    "collapsed": true
   },
   "outputs": [],
   "source": [
    "a.next_node = b  #header\n",
    "b.prev_node = c"
   ]
  },
  {
   "cell_type": "code",
   "execution_count": 212,
   "metadata": {
    "collapsed": true
   },
   "outputs": [],
   "source": [
    "b.next_node = c #trailer\n",
    "c.pre_node = b"
   ]
  },
  {
   "cell_type": "markdown",
   "metadata": {},
   "source": [
    "# Singly Linked List Cycle Check (interview)"
   ]
  },
  {
   "cell_type": "raw",
   "metadata": {},
   "source": [
    "Given a singly linked list, write a function which takes in the first node \n",
    "in a singly linked list and returns a boolean indicating if the linked list \n",
    "contains a \"cycle\".\n",
    "\n",
    "A cycle is when a node's next point actually points back to a previous node \n",
    "in the list. This is also sometimes known as a circularly linked list.\n",
    "\n",
    "You've been given the Linked List Node class code:"
   ]
  },
  {
   "cell_type": "code",
   "execution_count": 213,
   "metadata": {
    "collapsed": true
   },
   "outputs": [],
   "source": [
    "class Node(object):\n",
    "    \n",
    "    def __init__(self,value):\n",
    "        \n",
    "        self.value = value\n",
    "        self.nextnode = None"
   ]
  },
  {
   "cell_type": "code",
   "execution_count": 239,
   "metadata": {
    "collapsed": true
   },
   "outputs": [],
   "source": [
    "def cycle_check(node): # my version (not work for all cases)\n",
    "    header = node   # only works for a complete cycle not a cycle\n",
    "    current = header.nextnode     # track in the middle of the list\n",
    "    while current != None :\n",
    "        if current == header:\n",
    "            return True\n",
    "        current = current.nextnode\n",
    "    return False"
   ]
  },
  {
   "cell_type": "code",
   "execution_count": 245,
   "metadata": {
    "collapsed": true
   },
   "outputs": [],
   "source": [
    "def cycle_check(node):  # works for all cycle track\n",
    "    marker1 = marker2 = node\n",
    "    \n",
    "    while (marker2 != None) and (marker2.nextnode != None):\n",
    "        \n",
    "        marker1 = marker1.nextnode\n",
    "        marker2 = marker2.nextnode.nextnode\n",
    "        \n",
    "        if marker1 == marker2:\n",
    "            return True\n",
    "    return False"
   ]
  },
  {
   "cell_type": "code",
   "execution_count": 246,
   "metadata": {
    "collapsed": true
   },
   "outputs": [],
   "source": [
    "# CREATE CYCLE LIST\n",
    "a = Node(1)\n",
    "b = Node(2)\n",
    "c = Node(3)\n",
    "\n",
    "a.nextnode = b\n",
    "b.nextnode = c\n",
    "c.nextnode = a # Cycle Here!"
   ]
  },
  {
   "cell_type": "code",
   "execution_count": 247,
   "metadata": {},
   "outputs": [
    {
     "data": {
      "text/plain": [
       "True"
      ]
     },
     "execution_count": 247,
     "metadata": {},
     "output_type": "execute_result"
    }
   ],
   "source": [
    "cycle_check(a) # true for cycle_check(b) and cycle_check(c)"
   ]
  },
  {
   "cell_type": "code",
   "execution_count": 248,
   "metadata": {
    "collapsed": true
   },
   "outputs": [],
   "source": [
    "# CREATE NON CYCLE LIST\n",
    "x = Node(1)\n",
    "y = Node(2)\n",
    "z = Node(3)\n",
    "\n",
    "x.nextnode = y\n",
    "y.nextnode = z"
   ]
  },
  {
   "cell_type": "code",
   "execution_count": 249,
   "metadata": {},
   "outputs": [
    {
     "data": {
      "text/plain": [
       "False"
      ]
     },
     "execution_count": 249,
     "metadata": {},
     "output_type": "execute_result"
    }
   ],
   "source": [
    "cycle_check(x) # False for cycle_check(y) and cycle_check(z)"
   ]
  },
  {
   "cell_type": "markdown",
   "metadata": {},
   "source": [
    "# Linked List Reversal (interview)"
   ]
  },
  {
   "cell_type": "raw",
   "metadata": {},
   "source": [
    "Write a function to reverse a Linked List in place. The function\n",
    "will take in the head of the list as input and return the new head \n",
    "of the list.\n",
    "\n",
    "You are given the example Linked List Node class"
   ]
  },
  {
   "cell_type": "code",
   "execution_count": 304,
   "metadata": {
    "collapsed": true
   },
   "outputs": [],
   "source": [
    "class Node(object):\n",
    "    \n",
    "    def __init__(self,value):\n",
    "        \n",
    "        self.value = value\n",
    "        self.nextnode = None"
   ]
  },
  {
   "cell_type": "code",
   "execution_count": 330,
   "metadata": {
    "collapsed": true
   },
   "outputs": [],
   "source": [
    "def reverse(head): # my version\n",
    "    prev = head\n",
    "    current = head.nextnode\n",
    "    prev.nextnode = None\n",
    "    \n",
    "    while current != None:\n",
    "        temp = current.nextnode # next node\n",
    "        current.nextnode = prev  # set current node to previous node\n",
    "        \n",
    "        prev = current   # update previous to current node\n",
    "        current = temp   # current node to next node"
   ]
  },
  {
   "cell_type": "code",
   "execution_count": 331,
   "metadata": {
    "collapsed": true
   },
   "outputs": [],
   "source": [
    "def reverse(head):\n",
    "    current = head\n",
    "    previous = None\n",
    "    nextNode = None\n",
    "    \n",
    "    while current:\n",
    "        nextNode = current.nextnode\n",
    "        \n",
    "        current.nextnode = previous\n",
    "        previous = current\n",
    "        current = nextNode\n",
    "        \n",
    "    return previous # head now"
   ]
  },
  {
   "cell_type": "code",
   "execution_count": 332,
   "metadata": {
    "collapsed": true
   },
   "outputs": [],
   "source": [
    "# Create a list of 4 nodes\n",
    "a = Node(1)\n",
    "b = Node(2)\n",
    "c = Node(3)\n",
    "d = Node(4)\n",
    "\n",
    "# Set up order a,b,c,d with values 1,2,3,4\n",
    "a.nextnode = b\n",
    "b.nextnode = c\n",
    "c.nextnode = d"
   ]
  },
  {
   "cell_type": "code",
   "execution_count": 333,
   "metadata": {},
   "outputs": [
    {
     "name": "stdout",
     "output_type": "stream",
     "text": [
      "2\n",
      "3\n",
      "4\n"
     ]
    }
   ],
   "source": [
    "print a.nextnode.value\n",
    "print b.nextnode.value\n",
    "print c.nextnode.value"
   ]
  },
  {
   "cell_type": "code",
   "execution_count": 334,
   "metadata": {
    "scrolled": true
   },
   "outputs": [
    {
     "ename": "AttributeError",
     "evalue": "'NoneType' object has no attribute 'value'",
     "output_type": "error",
     "traceback": [
      "\u001b[0;31m---------------------------------------------------------------------------\u001b[0m",
      "\u001b[0;31mAttributeError\u001b[0m                            Traceback (most recent call last)",
      "\u001b[0;32m<ipython-input-334-65c1ac117c02>\u001b[0m in \u001b[0;36m<module>\u001b[0;34m()\u001b[0m\n\u001b[0;32m----> 1\u001b[0;31m \u001b[0md\u001b[0m\u001b[0;34m.\u001b[0m\u001b[0mnextnode\u001b[0m\u001b[0;34m.\u001b[0m\u001b[0mvalue\u001b[0m  \u001b[0;31m# should be None, 'NoneType' object has no attribut\u001b[0m\u001b[0;34m\u001b[0m\u001b[0m\n\u001b[0m\u001b[1;32m      2\u001b[0m                     \u001b[0;31m# value\u001b[0m\u001b[0;34m\u001b[0m\u001b[0;34m\u001b[0m\u001b[0m\n",
      "\u001b[0;31mAttributeError\u001b[0m: 'NoneType' object has no attribute 'value'"
     ]
    }
   ],
   "source": [
    "d.nextnode.value  # should be None, 'NoneType' object has no attribut\n",
    "                    # value"
   ]
  },
  {
   "cell_type": "code",
   "execution_count": 335,
   "metadata": {},
   "outputs": [
    {
     "data": {
      "text/plain": [
       "<__main__.Node at 0x1060b2d10>"
      ]
     },
     "execution_count": 335,
     "metadata": {},
     "output_type": "execute_result"
    }
   ],
   "source": [
    "reverse(a)"
   ]
  },
  {
   "cell_type": "code",
   "execution_count": 336,
   "metadata": {},
   "outputs": [
    {
     "name": "stdout",
     "output_type": "stream",
     "text": [
      "3\n",
      "2\n",
      "1\n"
     ]
    }
   ],
   "source": [
    "print d.nextnode.value\n",
    "print c.nextnode.value\n",
    "print b.nextnode.value"
   ]
  },
  {
   "cell_type": "code",
   "execution_count": 337,
   "metadata": {},
   "outputs": [
    {
     "ename": "AttributeError",
     "evalue": "'NoneType' object has no attribute 'value'",
     "output_type": "error",
     "traceback": [
      "\u001b[0;31m---------------------------------------------------------------------------\u001b[0m",
      "\u001b[0;31mAttributeError\u001b[0m                            Traceback (most recent call last)",
      "\u001b[0;32m<ipython-input-337-40134c561382>\u001b[0m in \u001b[0;36m<module>\u001b[0;34m()\u001b[0m\n\u001b[0;32m----> 1\u001b[0;31m \u001b[0;32mprint\u001b[0m \u001b[0ma\u001b[0m\u001b[0;34m.\u001b[0m\u001b[0mnextnode\u001b[0m\u001b[0;34m.\u001b[0m\u001b[0mvalue\u001b[0m \u001b[0;31m# This will give an error\u001b[0m\u001b[0;34m\u001b[0m\u001b[0m\n\u001b[0m\u001b[1;32m      2\u001b[0m                       \u001b[0;31m# since it now points to None\u001b[0m\u001b[0;34m\u001b[0m\u001b[0;34m\u001b[0m\u001b[0m\n",
      "\u001b[0;31mAttributeError\u001b[0m: 'NoneType' object has no attribute 'value'"
     ]
    }
   ],
   "source": [
    "print a.nextnode.value # This will give an error \n",
    "                      # since it now points to None\n"
   ]
  },
  {
   "cell_type": "markdown",
   "metadata": {},
   "source": [
    "# Linked List Nth to Last Node (interview)"
   ]
  },
  {
   "cell_type": "markdown",
   "metadata": {},
   "source": [
    "Write a function that takes a head node and an integer value n and\n",
    "then returns the nth to last node in the linked list. For example, \n",
    "given:"
   ]
  },
  {
   "cell_type": "code",
   "execution_count": 338,
   "metadata": {
    "collapsed": true
   },
   "outputs": [],
   "source": [
    "class Node:\n",
    "\n",
    "    def __init__(self, value):\n",
    "        self.value = value\n",
    "        self.nextnode  = None"
   ]
  },
  {
   "cell_type": "code",
   "execution_count": 371,
   "metadata": {
    "collapsed": true
   },
   "outputs": [],
   "source": [
    "def nth_to_last_node(n, head): # my version works, not the edge cases\n",
    "    current = head             # slow, but fast\n",
    "\n",
    "    while current:\n",
    "        temp = current\n",
    "        value = temp.value\n",
    "        i = 0\n",
    "        while temp and i <= n:\n",
    "            temp = temp.nextnode\n",
    "            i += 1\n",
    "        if (i == n) and temp == None:\n",
    "            return value\n",
    "        else:\n",
    "            current = current.nextnode\n",
    "    return None"
   ]
  },
  {
   "cell_type": "code",
   "execution_count": 387,
   "metadata": {
    "collapsed": true
   },
   "outputs": [],
   "source": [
    "def nth_to_last_node(n, head): # fast version\n",
    "    left_pointer = head\n",
    "    right_pointer = head\n",
    "    \n",
    "    for i in xrange(n - 1):   # do n times\n",
    "        if not right_pointer.nextnode:\n",
    "            raise LookupError('Error: n is larger than the linked list')\n",
    "        \n",
    "        right_pointer = right_pointer.nextnode\n",
    "    \n",
    "    while right_pointer.nextnode:\n",
    "        left_pointer = left_pointer.nextnode\n",
    "        right_pointer = right_pointer.nextnode\n",
    "\n",
    "    return left_pointer.value\n",
    "            "
   ]
  },
  {
   "cell_type": "code",
   "execution_count": 388,
   "metadata": {
    "collapsed": true
   },
   "outputs": [],
   "source": [
    "a = Node(1)\n",
    "b = Node(2)\n",
    "c = Node(3)\n",
    "d = Node(4)\n",
    "e = Node(5)"
   ]
  },
  {
   "cell_type": "code",
   "execution_count": 389,
   "metadata": {
    "collapsed": true
   },
   "outputs": [],
   "source": [
    "a.nextnode = b\n",
    "b.nextnode = c\n",
    "c.nextnode = d\n",
    "d.nextnode = e"
   ]
  },
  {
   "cell_type": "code",
   "execution_count": 390,
   "metadata": {},
   "outputs": [
    {
     "data": {
      "text/plain": [
       "4"
      ]
     },
     "execution_count": 390,
     "metadata": {},
     "output_type": "execute_result"
    }
   ],
   "source": [
    "nth_to_last_node(2,a)"
   ]
  },
  {
   "cell_type": "markdown",
   "metadata": {},
   "source": [
    "# Implement a Singly and Double Linked List"
   ]
  },
  {
   "cell_type": "code",
   "execution_count": 395,
   "metadata": {
    "collapsed": true
   },
   "outputs": [],
   "source": [
    "class Node(object):  #singly linked list\n",
    "    \n",
    "    def __init__(self, value):\n",
    "        self.value = value\n",
    "        self.nextnode = None"
   ]
  },
  {
   "cell_type": "code",
   "execution_count": 396,
   "metadata": {
    "collapsed": true
   },
   "outputs": [],
   "source": [
    "a = Node(1)\n",
    "b = Node(2)\n",
    "c = Node(3)\n",
    "\n",
    "a.nextnode = b\n",
    "b.nextnode = c"
   ]
  },
  {
   "cell_type": "code",
   "execution_count": 397,
   "metadata": {},
   "outputs": [
    {
     "name": "stdout",
     "output_type": "stream",
     "text": [
      "2\n",
      "3\n"
     ]
    }
   ],
   "source": [
    "print a.nextnode.value\n",
    "print b.nextnode.value"
   ]
  },
  {
   "cell_type": "code",
   "execution_count": 398,
   "metadata": {
    "collapsed": true
   },
   "outputs": [],
   "source": [
    "class DoubleNode(object):\n",
    "    \n",
    "    def __init__(self, value):\n",
    "        self.value = value\n",
    "        self.prev = None\n",
    "        self.nextnode = None"
   ]
  },
  {
   "cell_type": "code",
   "execution_count": 403,
   "metadata": {
    "collapsed": true
   },
   "outputs": [],
   "source": [
    "a = Node(1)\n",
    "b = Node(2)\n",
    "c = Node(3)\n",
    "\n",
    "a.nextnode = b\n",
    "b.prev = a\n",
    "b.nextnode = c\n",
    "c.prev = b"
   ]
  },
  {
   "cell_type": "code",
   "execution_count": 404,
   "metadata": {},
   "outputs": [
    {
     "name": "stdout",
     "output_type": "stream",
     "text": [
      "2\n",
      "1\n",
      "3\n",
      "2\n"
     ]
    }
   ],
   "source": [
    "print a.nextnode.value\n",
    "print b.prev.value\n",
    "print b.nextnode.value\n",
    "print c.prev.value"
   ]
  },
  {
   "cell_type": "markdown",
   "metadata": {},
   "source": [
    "# Recursion"
   ]
  },
  {
   "cell_type": "raw",
   "metadata": {},
   "source": [
    "_ Overview of Recursion.\n",
    "_ Basic Recursion Examples\n",
    "_ Introduction to Memoization and Dynamic Programming\n",
    "_ 4 Real Interview Questions"
   ]
  },
  {
   "cell_type": "markdown",
   "metadata": {},
   "source": [
    "## What is Recursion?"
   ]
  },
  {
   "cell_type": "raw",
   "metadata": {},
   "source": [
    "_ There are two main instances of recursion.\n",
    "_ The first is when recursion is used as a technique in which a \n",
    "funtion makes one or more calls to itself.\n",
    "_ The second is when a data structure uses smaller instances of the \n",
    "exact same type of data structure when it represents itself."
   ]
  },
  {
   "cell_type": "markdown",
   "metadata": {},
   "source": [
    "## Why use Recursion?"
   ]
  },
  {
   "cell_type": "raw",
   "metadata": {},
   "source": [
    "_ Recursion prvides a powerful alternative for performing \n",
    "repetitions of taks in which a loop is not ideal.\n",
    "_ Most modern programming languages support recursion.\n",
    "_Recursion serves as a great tool for building out particular data\n",
    "structures."
   ]
  },
  {
   "cell_type": "markdown",
   "metadata": {},
   "source": [
    "# Factorial Example"
   ]
  },
  {
   "cell_type": "raw",
   "metadata": {},
   "source": [
    "n! = n*(n-1)*(n-2)...3*2*1\n",
    "if n = 0, then n! = 1"
   ]
  },
  {
   "cell_type": "raw",
   "metadata": {},
   "source": [
    "4! = 4*3*2*1\n",
    "+ So how can we state this in a recursive manner?\n",
    "+ This is where the concept of base case comes in."
   ]
  },
  {
   "cell_type": "raw",
   "metadata": {},
   "source": [
    "4! = 4*3! --> n! = n*(n-1)!\n",
    "+ Note, if n = 0, then n! = 1\n",
    "+ This means the base case occurs once n = 0,\n",
    "the recursive cases are defined in the previous equation."
   ]
  },
  {
   "cell_type": "markdown",
   "metadata": {},
   "source": [
    "## Reminder"
   ]
  },
  {
   "cell_type": "raw",
   "metadata": {},
   "source": [
    "*** Whenever you are trying to develop a recursive solution, it is\n",
    "very important to think about the base case, as your solution will\n",
    "need to return the base case once all the recursive cases have been\n",
    "worked through."
   ]
  },
  {
   "cell_type": "code",
   "execution_count": 405,
   "metadata": {
    "collapsed": true
   },
   "outputs": [],
   "source": [
    "def factorial(n):\n",
    "    if n == 0 or n == 1: # Base case\n",
    "        return 1\n",
    "    return n * factorial(n-1)"
   ]
  },
  {
   "cell_type": "code",
   "execution_count": 414,
   "metadata": {},
   "outputs": [
    {
     "data": {
      "text/plain": [
       "120"
      ]
     },
     "execution_count": 414,
     "metadata": {},
     "output_type": "execute_result"
    }
   ],
   "source": [
    "factorial(5)"
   ]
  },
  {
   "cell_type": "code",
   "execution_count": 415,
   "metadata": {},
   "outputs": [
    {
     "data": {
      "text/plain": [
       "2"
      ]
     },
     "execution_count": 415,
     "metadata": {},
     "output_type": "execute_result"
    }
   ],
   "source": [
    "factorial(2)"
   ]
  },
  {
   "cell_type": "markdown",
   "metadata": {},
   "source": [
    "# Recursion homework Problems"
   ]
  },
  {
   "cell_type": "markdown",
   "metadata": {},
   "source": [
    "## Problem 1"
   ]
  },
  {
   "cell_type": "raw",
   "metadata": {},
   "source": [
    "Write a recursive function which takes an integer and computes the \n",
    "cumulative sum of 0 to that integer\n",
    "\n",
    "For example, if n=4 , return 4+3+2+1+0, which is 10.\n",
    "\n",
    "This problem is very similar to the factorial problem presented \n",
    "during the introduction to recursion. Remember, always think of what \n",
    "the base case will look like. In this case, we have a base case of n \n",
    "=0 (Note, you could have also designed the cut off to be 1).\n",
    "\n",
    "In this case, we have: n + (n-1) + (n-2) + .... + 0\n",
    "\n",
    "Fill out a sample solution:"
   ]
  },
  {
   "cell_type": "code",
   "execution_count": 420,
   "metadata": {
    "collapsed": true
   },
   "outputs": [],
   "source": [
    "def rec_sum(n):\n",
    "    if n == 0:\n",
    "        return 0\n",
    "    if n == 1:\n",
    "        return 1\n",
    "    return n + rec_sum(n-1)"
   ]
  },
  {
   "cell_type": "code",
   "execution_count": 421,
   "metadata": {},
   "outputs": [
    {
     "data": {
      "text/plain": [
       "10"
      ]
     },
     "execution_count": 421,
     "metadata": {},
     "output_type": "execute_result"
    }
   ],
   "source": [
    "rec_sum(4) # return 10"
   ]
  },
  {
   "cell_type": "markdown",
   "metadata": {},
   "source": [
    "## Problem 2"
   ]
  },
  {
   "cell_type": "raw",
   "metadata": {},
   "source": [
    "Given an integer, create a function which returns the sum of all the \n",
    "individual digits in that integer. For example: if n = 4321, return \n",
    "4+3+2+1"
   ]
  },
  {
   "cell_type": "code",
   "execution_count": 425,
   "metadata": {
    "collapsed": true
   },
   "outputs": [],
   "source": [
    "def sum_func(n):\n",
    "    if n/10 == 0:\n",
    "        return n\n",
    "    return n%10 + sum_func(n/10)"
   ]
  },
  {
   "cell_type": "code",
   "execution_count": 426,
   "metadata": {},
   "outputs": [
    {
     "data": {
      "text/plain": [
       "10"
      ]
     },
     "execution_count": 426,
     "metadata": {},
     "output_type": "execute_result"
    }
   ],
   "source": [
    "sum_func(4321) # should return 10"
   ]
  },
  {
   "cell_type": "markdown",
   "metadata": {},
   "source": [
    "## Problem 3"
   ]
  },
  {
   "cell_type": "raw",
   "metadata": {},
   "source": [
    "Note, this is a more advanced problem than the previous two! It aso \n",
    "has a lot of variation possibilities and we're ignoring strict \n",
    "requirements here.\n",
    "\n",
    "Create a function called word_split() which takes in a string phrase \n",
    "and a set list_of_words. The function will then determine if it is \n",
    "possible to split the string in a way in which words can be made \n",
    "from the list of words. You can assume the phrase will only contain \n",
    "words found in the dictionary if it is completely splittable."
   ]
  },
  {
   "cell_type": "code",
   "execution_count": 467,
   "metadata": {
    "collapsed": true
   },
   "outputs": [],
   "source": [
    "def word_split(phrase,list_of_words, output = None):\n",
    "    \n",
    "    if output is None:\n",
    "        output = []\n",
    "    \n",
    "    for word in list_of_words:\n",
    "        \n",
    "        if phrase.startswith(word):\n",
    "            output.append(word)\n",
    "            return word_split(phrase[len(word):], list_of_words, output) # save the result to output\n",
    "        \n",
    "    return output  # Case of yes\n",
    "                    # the last frame of rescursion will return the out put since phrase == \"\",\n",
    "                    # and \"\" is not in list_of_words\n",
    "                    # case of no --> no match in list_of_words --> end of the loop --> return []\n",
    "        "
   ]
  },
  {
   "cell_type": "code",
   "execution_count": 468,
   "metadata": {
    "collapsed": true
   },
   "outputs": [],
   "source": [
    "def word_split2(phrase,list_of_words): # my version\n",
    "    \n",
    "    if phrase == \"\":\n",
    "        return []\n",
    "    \n",
    "    \n",
    "    for word in list_of_words:\n",
    "        \n",
    "        if phrase.startswith(word):\n",
    "            return [word] + word_split(phrase[len(word):], list_of_words)\n",
    "        \n",
    "    return []"
   ]
  },
  {
   "cell_type": "code",
   "execution_count": 470,
   "metadata": {},
   "outputs": [
    {
     "data": {
      "text/plain": [
       "['the', 'man', 'ran']"
      ]
     },
     "execution_count": 470,
     "metadata": {},
     "output_type": "execute_result"
    }
   ],
   "source": [
    "word_split('themanran',['the','ran','man'])"
   ]
  },
  {
   "cell_type": "markdown",
   "metadata": {},
   "source": [
    "# Memoization"
   ]
  },
  {
   "cell_type": "raw",
   "metadata": {},
   "source": [
    "Memoization effectively refers to remembering (\"memoization\" -> \n",
    "\"memorandum\" -> to be remembered) results of method calls based on \n",
    "the method inputs and then returning the remembered result rather \n",
    "than computing the result again. You can think of it as a cache for \n",
    "method results. We'll use this in some of the interview problems as \n",
    "improved versions of a purely recursive solution.\n",
    "\n",
    "A simple example for computing factorials using memoization in \n",
    "Python would be something like this:"
   ]
  },
  {
   "cell_type": "code",
   "execution_count": 471,
   "metadata": {
    "collapsed": true
   },
   "outputs": [],
   "source": [
    "# Create cache for known results\n",
    "factorial_memo = {}\n",
    "\n",
    "def factorial(k):\n",
    "    \n",
    "    if k < 2: \n",
    "        return 1\n",
    "    \n",
    "    if not k in factorial_memo:\n",
    "        factorial_memo[k] = k * factorial(k-1)\n",
    "        \n",
    "    return factorial_memo[k]"
   ]
  },
  {
   "cell_type": "code",
   "execution_count": 472,
   "metadata": {},
   "outputs": [
    {
     "data": {
      "text/plain": [
       "24"
      ]
     },
     "execution_count": 472,
     "metadata": {},
     "output_type": "execute_result"
    }
   ],
   "source": [
    "factorial(4)"
   ]
  },
  {
   "cell_type": "raw",
   "metadata": {},
   "source": [
    "Note how we are now using a dictionary to store previous results of \n",
    "the factorial function! We are now able to increase the efficiency \n",
    "of this function by remembering old results!\n",
    "\n",
    "Keep this in mind when working on the Coin Change Problem and the \n",
    "Fibonacci Sequence Problem.\n",
    "\n",
    "We can also encapsulate the memoization process into a class:"
   ]
  },
  {
   "cell_type": "code",
   "execution_count": 473,
   "metadata": {
    "collapsed": true
   },
   "outputs": [],
   "source": [
    "class Memoize:\n",
    "    def __init__(self, f):\n",
    "        self.f = f\n",
    "        self.memo = {}\n",
    "    def __call__(self, *args):\n",
    "        if not args in self.memo:\n",
    "            self.memo[args] = self.f(*args)\n",
    "        return self.memo[args]"
   ]
  },
  {
   "cell_type": "markdown",
   "metadata": {},
   "source": [
    "Then all we would have to do is:"
   ]
  },
  {
   "cell_type": "code",
   "execution_count": 474,
   "metadata": {
    "collapsed": true
   },
   "outputs": [],
   "source": [
    "def factorial(k):\n",
    "    \n",
    "    if k < 2: \n",
    "        return 1\n",
    "    \n",
    "    return k * factorial(k - 1)\n",
    "\n",
    "factorial = Memoize(factorial)"
   ]
  },
  {
   "cell_type": "code",
   "execution_count": 479,
   "metadata": {},
   "outputs": [
    {
     "data": {
      "text/plain": [
       "3628800"
      ]
     },
     "execution_count": 479,
     "metadata": {},
     "output_type": "execute_result"
    }
   ],
   "source": [
    "factorial(10) # much faster"
   ]
  },
  {
   "cell_type": "raw",
   "metadata": {},
   "source": [
    "Try comparing the run times of the memoization versions of functions \n",
    "versus the normal recursive solutions!"
   ]
  },
  {
   "cell_type": "markdown",
   "metadata": {},
   "source": [
    "# Reverse a string (interview, recursion)"
   ]
  },
  {
   "cell_type": "raw",
   "metadata": {},
   "source": [
    "This interview question requires you to reverse a string using \n",
    "recursion. Make sure to think of the base case here.\n",
    "\n",
    "Again, make sure you use recursion to accomplish this. Do not slice \n",
    "(e.g. string[::-1]) or use iteration, there must be a recursive call \n",
    "for the function."
   ]
  },
  {
   "cell_type": "code",
   "execution_count": 489,
   "metadata": {
    "collapsed": true
   },
   "outputs": [],
   "source": [
    "def reverse(s):\n",
    "    if len(s) <= 1:\n",
    "        return s\n",
    "    return reverse(s[1:]) + s[0]\n"
   ]
  },
  {
   "cell_type": "code",
   "execution_count": 490,
   "metadata": {
    "collapsed": true
   },
   "outputs": [],
   "source": [
    "class Memoize:\n",
    "    def __init__(self, f):\n",
    "        self.f = f\n",
    "        self.memo = {}\n",
    "    def __call__(self, *args):\n",
    "        if not args in self.memo:\n",
    "            self.memo[args] = self.f(*args)\n",
    "        return self.memo[args]\n",
    "\n",
    "rev = Memoize(reverse)"
   ]
  },
  {
   "cell_type": "code",
   "execution_count": 492,
   "metadata": {},
   "outputs": [
    {
     "data": {
      "text/plain": [
       "'dlrow olleh'"
      ]
     },
     "execution_count": 492,
     "metadata": {},
     "output_type": "execute_result"
    }
   ],
   "source": [
    "rev(\"hello world\")"
   ]
  },
  {
   "cell_type": "markdown",
   "metadata": {},
   "source": [
    "# String Permutation (interview, recursion)"
   ]
  },
  {
   "cell_type": "raw",
   "metadata": {},
   "source": [
    "Given a string, write a function that uses recursion to output a \n",
    "list of all the possible permutations of that string.\n",
    "\n",
    "For example, given s='abc' the function should return ['abc', 'acb', \n",
    "'bac', 'bca', 'cab', 'cba']\n",
    "\n",
    "Note: If a character is repeated, treat each occurence as distinct, \n",
    "for example an input of 'xxx' would return a list with 6 \"versions\" \n",
    "of 'xxx'"
   ]
  },
  {
   "cell_type": "raw",
   "metadata": {},
   "source": [
    "Let's think about what the steps we need to take here are:\n",
    "\n",
    "Iterate through the initial string – e.g., ‘abc’.\n",
    "\n",
    "For each character in the initial string, set aside that character \n",
    "and get a list of all permutations of the string that’s left. So, \n",
    "for example, if the current iteration is on 'b', we’d want to find \n",
    "all the permutations of the string 'ac'.\n",
    "\n",
    "Once you have the list from step 2, add each element from that list \n",
    "to the character from the initial string, and append the result to \n",
    "our list of final results. So if we’re on 'b' and we’ve gotten the \n",
    "list ['ac', 'ca'], we’d add 'b' to those, resulting in 'bac' and \n",
    "'bca', each of which we’d add to our final results.\n",
    "\n",
    "Return the list of final results.\n",
    "\n",
    "Let's go ahead and see this implemented:"
   ]
  },
  {
   "cell_type": "code",
   "execution_count": 501,
   "metadata": {
    "collapsed": true
   },
   "outputs": [],
   "source": [
    "def permute(s):\n",
    "    out = []\n",
    "    \n",
    "    # Base Case\n",
    "    if len(s) == 1:\n",
    "        out = [s]\n",
    "        \n",
    "    else:\n",
    "        # For every letter in string, with index i\n",
    "        for i, let in enumerate(s):\n",
    "            \n",
    "            # For every permutation resulting from Step 2 and 3 described above\n",
    "            for perm in permute(s[:i] + s[i+1:]):\n",
    "#                 print i, let\n",
    "                # Add it to output\n",
    "                out += [let + perm]\n",
    "    #1st    # (abc) --> a + (bc) --> a + b + (c) and a + c + (b)\n",
    "            # --> abc, acb\n",
    "    #2nd    # b + (ac) --> b + a + (c) and b + c + (a) --> bac, bca\n",
    "    #3nd    # c + (ab) --> c + a + (b) and c + b + (a) --> cab, cba\n",
    "    return out"
   ]
  },
  {
   "cell_type": "code",
   "execution_count": 502,
   "metadata": {},
   "outputs": [
    {
     "data": {
      "text/plain": [
       "['abc', 'acb', 'bac', 'bca', 'cab', 'cba']"
      ]
     },
     "execution_count": 502,
     "metadata": {},
     "output_type": "execute_result"
    }
   ],
   "source": [
    "permute('abc')"
   ]
  },
  {
   "cell_type": "markdown",
   "metadata": {},
   "source": [
    "# Fibonnaci Sequence (interview, recursion, and dynamically)"
   ]
  },
  {
   "cell_type": "raw",
   "metadata": {},
   "source": [
    "In this interview excercise we will begin to get a feel of having to \n",
    "solve a single problem multiple ways!\n",
    "\n",
    "Problem Statement\n",
    "Implement a Fibonnaci Sequence in three different ways:\n",
    "\n",
    "Recursively\n",
    "Dynamically (Using Memoization to store results)\n",
    "Iteratively\n",
    "\n",
    "Function Output\n",
    "Your function will accept a number n and return the nth number of \n",
    "the fibonacci sequence\n",
    "\n",
    "Remember that a fibonacci sequence: 0,1,1,2,3,5,8,13,21,... starts \n",
    "off with a base case checking to see if n = 0 or 1, then it returns \n",
    "1.\n",
    "\n",
    "Else it returns fib(n-1)+fib(n+2)."
   ]
  },
  {
   "cell_type": "code",
   "execution_count": 517,
   "metadata": {
    "collapsed": true
   },
   "outputs": [],
   "source": [
    "def fib_rec(n):\n",
    "    if n == 0 or n == 1:\n",
    "        return n\n",
    "    return fib_rec(n-1) + fib_rec(n-2)"
   ]
  },
  {
   "cell_type": "code",
   "execution_count": 518,
   "metadata": {},
   "outputs": [
    {
     "data": {
      "text/plain": [
       "3"
      ]
     },
     "execution_count": 518,
     "metadata": {},
     "output_type": "execute_result"
    }
   ],
   "source": [
    "fib_rec(4)"
   ]
  },
  {
   "cell_type": "raw",
   "metadata": {},
   "source": [
    "Dynamically\n",
    "\n",
    "Implement the function using dynamic programming by using a cache to \n",
    "store results (memoization)."
   ]
  },
  {
   "cell_type": "code",
   "execution_count": 519,
   "metadata": {
    "collapsed": true
   },
   "outputs": [],
   "source": [
    "# Instantiate Cache information\n",
    "n = 10\n",
    "cache = [None] * (n + 1)\n",
    "\n",
    "\n",
    "def fib_dyn(n):\n",
    "    if n == 0 or n == 1:\n",
    "        return n\n",
    "\n",
    "    if not n in cache:\n",
    "        cache[n] = fib_dyn(n - 1) + fib_dyn(n - 2)\n",
    "        \n",
    "    return cache[n]"
   ]
  },
  {
   "cell_type": "code",
   "execution_count": 520,
   "metadata": {},
   "outputs": [
    {
     "data": {
      "text/plain": [
       "[None, None, None, None, None, None, None, None, None, None, None]"
      ]
     },
     "execution_count": 520,
     "metadata": {},
     "output_type": "execute_result"
    }
   ],
   "source": [
    "cache"
   ]
  },
  {
   "cell_type": "code",
   "execution_count": 521,
   "metadata": {},
   "outputs": [
    {
     "data": {
      "text/plain": [
       "55"
      ]
     },
     "execution_count": 521,
     "metadata": {},
     "output_type": "execute_result"
    }
   ],
   "source": [
    "fib_dyn(10) # should return 55"
   ]
  },
  {
   "cell_type": "code",
   "execution_count": 524,
   "metadata": {},
   "outputs": [
    {
     "data": {
      "text/plain": [
       "[None, None, 1, 2, 3, 5, 8, 13, 21, 34, 55]"
      ]
     },
     "execution_count": 524,
     "metadata": {},
     "output_type": "execute_result"
    }
   ],
   "source": [
    "cache"
   ]
  },
  {
   "cell_type": "raw",
   "metadata": {},
   "source": [
    "Iteratively\n",
    "In this solution we can take advantage of Python's tuple unpacking!"
   ]
  },
  {
   "cell_type": "code",
   "execution_count": 522,
   "metadata": {
    "collapsed": true
   },
   "outputs": [],
   "source": [
    "def fib_iter(n):\n",
    "    a = 0\n",
    "    b = 1\n",
    "    for i in range(n):\n",
    "        a, b = a + b, a\n",
    "    return a"
   ]
  },
  {
   "cell_type": "code",
   "execution_count": 523,
   "metadata": {},
   "outputs": [
    {
     "data": {
      "text/plain": [
       "55"
      ]
     },
     "execution_count": 523,
     "metadata": {},
     "output_type": "execute_result"
    }
   ],
   "source": [
    "fib_iter(10)"
   ]
  },
  {
   "cell_type": "markdown",
   "metadata": {},
   "source": [
    "# Coin Change (interview, rescursion)"
   ]
  },
  {
   "cell_type": "raw",
   "metadata": {},
   "source": [
    "Note: This problem has multiple solutions and is a classic problem \n",
    "in showing issues with basic recursion. If you are having trouble \n",
    "with this problem (or it seems to be taking a long time to run in \n",
    "some cases) check out the Solution Notebook and fully read the \n",
    "conclusion link for a detailed description of the various ways to \n",
    "solve this problem!\n",
    "This problem is common enough that is actually has its own Wikipedia \n",
    "Entry!\n",
    "\n",
    "Problem Statement\n",
    "Given a target amount n and a list (array) of distinct coin values, \n",
    "what's the fewest coins needed to make the change amount.\n",
    "\n",
    "For example:\n",
    "\n",
    "If n = 10 and coins = [1,5,10]. Then there are 4 possible ways to \n",
    "make change:\n",
    "\n",
    "1+1+1+1+1+1+1+1+1+1\n",
    "\n",
    "5 + 1+1+1+1+1\n",
    "\n",
    "5+5\n",
    "\n",
    "10\n",
    "\n",
    "With 1 coin being the minimum amount.\n",
    "\n",
    "Solution\n",
    "Implement your solution below:"
   ]
  },
  {
   "cell_type": "code",
   "execution_count": 528,
   "metadata": {
    "collapsed": true
   },
   "outputs": [],
   "source": [
    "def rec_coin(target,coins):  # iter\n",
    "    '''\n",
    "    INPUT: Target change amount and list of coin values\n",
    "    OUTPUT: Minimum coins needed to make change\n",
    "    \n",
    "    Note, this solution is not optimized.\n",
    "    '''\n",
    "    \n",
    "    # Default to target value\n",
    "    min_coins = target\n",
    "    \n",
    "    # Check to see if we have a single coin match (BASE CASE)\n",
    "    if target in coins:\n",
    "        return 1\n",
    "    \n",
    "    else:\n",
    "        \n",
    "        # for every coin value that is <= than target\n",
    "        for i in [c for c in coins if c <= target]:\n",
    "            \n",
    "            # Recursive Call (add a count coin and subtract from the target) \n",
    "            num_coins = 1 + rec_coin(target-i,coins)\n",
    "            \n",
    "            # Reset Minimum if we have a new minimum\n",
    "            if num_coins < min_coins:\n",
    "                \n",
    "                min_coins = num_coins\n",
    "                \n",
    "    return min_coins\n",
    "    "
   ]
  },
  {
   "cell_type": "code",
   "execution_count": 529,
   "metadata": {},
   "outputs": [
    {
     "data": {
      "text/plain": [
       "2"
      ]
     },
     "execution_count": 529,
     "metadata": {},
     "output_type": "execute_result"
    }
   ],
   "source": [
    "rec_coin(10, [1,5]) # should return 2"
   ]
  },
  {
   "cell_type": "code",
   "execution_count": 530,
   "metadata": {
    "collapsed": true
   },
   "outputs": [],
   "source": [
    "def rec_coin_dynam(target,coins,known_results): # dynamic solution\n",
    "    '''\n",
    "    INPUT: This funciton takes in a target amount and a list of possible coins to use.\n",
    "    It also takes a third parameter, known_results, indicating previously calculated results.\n",
    "    The known_results parameter shoud be started with [0] * (target+1)\n",
    "    \n",
    "    OUTPUT: Minimum number of coins needed to make the target.\n",
    "    '''\n",
    "    \n",
    "    # Default output to target\n",
    "    min_coins = target\n",
    "    \n",
    "    # Base Case\n",
    "    if target in coins:\n",
    "        known_results[target] = 1\n",
    "        return 1\n",
    "    \n",
    "    # Return a known result if it happens to be greater than 1\n",
    "    elif known_results[target] > 0:\n",
    "        return known_results[target]\n",
    "    \n",
    "    else:\n",
    "        # for every coin value that is <= than target\n",
    "        for i in [c for c in coins if c <= target]:\n",
    "            \n",
    "            # Recursive call, note how we include the known results!\n",
    "            num_coins = 1 + rec_coin_dynam(target-i,coins,known_results)\n",
    "            \n",
    "            # Reset Minimum if we have a new minimum\n",
    "            if num_coins < min_coins:\n",
    "                min_coins = num_coins\n",
    "                \n",
    "                # Reset the known result\n",
    "                known_results[target] = min_coins\n",
    "                \n",
    "    return min_coins"
   ]
  },
  {
   "cell_type": "code",
   "execution_count": 531,
   "metadata": {},
   "outputs": [
    {
     "data": {
      "text/plain": [
       "8"
      ]
     },
     "execution_count": 531,
     "metadata": {},
     "output_type": "execute_result"
    }
   ],
   "source": [
    "target = 74\n",
    "coins = [1,5,10,25]\n",
    "known_results = [0]*(target+1)\n",
    "\n",
    "rec_coin_dynam(target,coins,known_results)"
   ]
  },
  {
   "cell_type": "markdown",
   "metadata": {},
   "source": [
    "# Introdcution to Trees"
   ]
  },
  {
   "cell_type": "raw",
   "metadata": {},
   "source": [
    "_ Tree Data strcutures\n",
    "_ Implement Trees with Lits\n",
    "_ Implement Trees using OOP\n",
    "_ Implement Priority Queue\n",
    "_ Interview Problems"
   ]
  },
  {
   "cell_type": "markdown",
   "metadata": {},
   "source": [
    "\n",
    "## Trees"
   ]
  },
  {
   "cell_type": "raw",
   "metadata": {},
   "source": [
    "_ Note, this section only covers basics of Trees and Abstract Data \n",
    "Types (ADT)\n",
    "_ This topic in general is vast and could easily warrant its own \n",
    "course!"
   ]
  },
  {
   "cell_type": "raw",
   "metadata": {},
   "source": [
    "_ A tree data structure has a root, branches, and leaves.\n",
    "_ The difference between a tree in nature and a tree in computer\n",
    "science is that a tree data structure has its root at the top\n",
    "and its leaves on the bottom."
   ]
  },
  {
   "cell_type": "raw",
   "metadata": {},
   "source": [
    "_ A second property of trees is that all of the children of one node\n",
    "are independent of the children of another node.\n",
    "_ A third property is that each leaf node is unique."
   ]
  },
  {
   "cell_type": "raw",
   "metadata": {},
   "source": [
    "_ Another example of a tree structure that you probably use \n",
    "every day is a file system. In a file system, directories, or \n",
    "folders, are structured as a tree."
   ]
  },
  {
   "cell_type": "markdown",
   "metadata": {},
   "source": [
    "## Node"
   ]
  },
  {
   "cell_type": "raw",
   "metadata": {},
   "source": [
    "_ A node is fundamental part of a trre. It can have a name, which \n",
    "we call the \"key.\"\n",
    "_ A node may also have additional information. We clal this \n",
    "additional information the \"payload.\"\n",
    "_ While the payload information is not central to many tree \n",
    "alogirthms, it is often critcal in applicaitons that make use of \n",
    "trees."
   ]
  },
  {
   "cell_type": "markdown",
   "metadata": {},
   "source": [
    "## Edge"
   ]
  },
  {
   "cell_type": "raw",
   "metadata": {},
   "source": [
    "_ An edge is another fundamental part of a tree.\n",
    "_ An edge connects two nodes to show that there is a realationship\n",
    "between them.\n",
    "_ Every node (except the root) is connected by exactly one incoming\n",
    "edge from another node.\n",
    "_ Each node may have several outgoing edges."
   ]
  },
  {
   "cell_type": "markdown",
   "metadata": {},
   "source": [
    "## Root"
   ]
  },
  {
   "cell_type": "raw",
   "metadata": {},
   "source": [
    "_ The root of the tree is the only node in the tree that has no incoming edges."
   ]
  },
  {
   "cell_type": "markdown",
   "metadata": {},
   "source": [
    "## Path"
   ]
  },
  {
   "cell_type": "raw",
   "metadata": {},
   "source": [
    "_ A path is an ordered list of nodes that are connected by edges.\n",
    "_ For example:\n",
    "   Mammal --> Carnivora --> Felidae --> Felis is a path."
   ]
  },
  {
   "cell_type": "markdown",
   "metadata": {},
   "source": [
    "## Children"
   ]
  },
  {
   "cell_type": "raw",
   "metadata": {},
   "source": [
    "_ The set of nodes \"c\" that have incoming edges from the same node\n",
    "to are said to be the children of that node."
   ]
  },
  {
   "cell_type": "markdown",
   "metadata": {},
   "source": [
    "## Parent"
   ]
  },
  {
   "cell_type": "raw",
   "metadata": {},
   "source": [
    "_ A node is the parent of all the nodes it connects to with outgoing\n",
    "edges."
   ]
  },
  {
   "cell_type": "markdown",
   "metadata": {},
   "source": [
    "## Sibling"
   ]
  },
  {
   "cell_type": "raw",
   "metadata": {},
   "source": [
    "_ nodes in the tree that are children of the same parent are said\n",
    "to e siblings"
   ]
  },
  {
   "cell_type": "markdown",
   "metadata": {},
   "source": [
    "## SubTree"
   ]
  },
  {
   "cell_type": "raw",
   "metadata": {},
   "source": [
    "_ A subtree is a set of nodes and edges comprised of a parent and\n",
    "all the descendants of that parent."
   ]
  },
  {
   "cell_type": "markdown",
   "metadata": {},
   "source": [
    "## Leaf Node"
   ]
  },
  {
   "cell_type": "raw",
   "metadata": {},
   "source": [
    "_ A leaf node is a node that has no children."
   ]
  },
  {
   "cell_type": "markdown",
   "metadata": {},
   "source": [
    "## Level"
   ]
  },
  {
   "cell_type": "raw",
   "metadata": {},
   "source": [
    "_ The level of a node \"n\" is the number of edges on the path from\n",
    "the root node to n"
   ]
  },
  {
   "cell_type": "markdown",
   "metadata": {},
   "source": [
    "## Height"
   ]
  },
  {
   "cell_type": "raw",
   "metadata": {},
   "source": [
    "_ The height of a tree is equal to the maximum level of any node \n",
    "in the tree."
   ]
  },
  {
   "cell_type": "markdown",
   "metadata": {},
   "source": [
    "## Full Definition of a Tree"
   ]
  },
  {
   "cell_type": "raw",
   "metadata": {},
   "source": [
    "_ A tree consists of a set of nodes and a set of edges that connect\n",
    "pairs of nodes. A tree has the following properties:\n",
    "    + One node of the tree is designated as the root node.\n",
    "    + Every node n, except the root node, is connected by an edge\n",
    "    from exactly one other node p, where p is the parent of n.\n",
    "    + A unique path traverses from the root to each node.\n",
    "    + If each node in the tree has a maximum of two children, we\n",
    "    say that the tree is a binary tree."
   ]
  },
  {
   "cell_type": "markdown",
   "metadata": {},
   "source": [
    "## Recursive Definition of a Tree"
   ]
  },
  {
   "cell_type": "raw",
   "metadata": {},
   "source": [
    "_ A tree is either empty or cinsists of a root and zero or more\n",
    "subtrees, each of which is also a tree.\n",
    "_ The root of each subtree is connected to the root of the parent \n",
    "tree by an edge."
   ]
  },
  {
   "cell_type": "markdown",
   "metadata": {},
   "source": [
    "## Tree implementation"
   ]
  },
  {
   "cell_type": "raw",
   "metadata": {},
   "source": [
    "_ In this lecture we will implement a Tree as a List of Lists."
   ]
  },
  {
   "cell_type": "raw",
   "metadata": {},
   "source": [
    "_ In a list of lista tree, we will store the value of the root node \n",
    "as the first element of the list.\n",
    "_ The second element of the list will itself be a list that \n",
    "represents the left subtree\n",
    "_ The third element of the list will be another list that represents\n",
    "the right subtree"
   ]
  },
  {
   "cell_type": "markdown",
   "metadata": {},
   "source": [
    "## Tree Representation Implementation (Lists)"
   ]
  },
  {
   "cell_type": "code",
   "execution_count": 532,
   "metadata": {
    "collapsed": true
   },
   "outputs": [],
   "source": [
    "def BinaryTree(r): # r is root node\n",
    "    return [r,[],[]] # [],[] are left and right child of the node"
   ]
  },
  {
   "cell_type": "code",
   "execution_count": 554,
   "metadata": {
    "collapsed": true
   },
   "outputs": [],
   "source": [
    "def insertLeft(root,newBranch): # newBranch is the value of a node\n",
    "    t = root.pop(1)\n",
    "    if len(t) > 1:\n",
    "        root.insert(1, [newBranch,t,[]])\n",
    "    else:\n",
    "        root.insert(1,[newBranch,[],[]])\n",
    "    return root"
   ]
  },
  {
   "cell_type": "code",
   "execution_count": 555,
   "metadata": {
    "collapsed": true
   },
   "outputs": [],
   "source": [
    "def insertRight(root,newBranch):\n",
    "    t = root.pop(2)\n",
    "    if len(t) > 1:\n",
    "        root.insert(2, [newBranch,[],t])\n",
    "    else:\n",
    "        root.insert(2,[newBranch,[],[]])\n",
    "    return root"
   ]
  },
  {
   "cell_type": "code",
   "execution_count": 556,
   "metadata": {
    "collapsed": true
   },
   "outputs": [],
   "source": [
    "def getRootVal(root):\n",
    "    return root[0]"
   ]
  },
  {
   "cell_type": "code",
   "execution_count": 557,
   "metadata": {
    "collapsed": true
   },
   "outputs": [],
   "source": [
    "def setRootVal(root, newVal):\n",
    "    root[0] = newVal"
   ]
  },
  {
   "cell_type": "code",
   "execution_count": 558,
   "metadata": {
    "collapsed": true
   },
   "outputs": [],
   "source": [
    "def getLeftChild(root):\n",
    "    return root[1]"
   ]
  },
  {
   "cell_type": "code",
   "execution_count": 559,
   "metadata": {
    "collapsed": true
   },
   "outputs": [],
   "source": [
    "def getRightChild(root):\n",
    "    return root[2]"
   ]
  },
  {
   "cell_type": "code",
   "execution_count": 560,
   "metadata": {
    "collapsed": true
   },
   "outputs": [],
   "source": [
    "r = BinaryTree(3)"
   ]
  },
  {
   "cell_type": "code",
   "execution_count": 561,
   "metadata": {},
   "outputs": [
    {
     "data": {
      "text/plain": [
       "[3, [4, [], []], []]"
      ]
     },
     "execution_count": 561,
     "metadata": {},
     "output_type": "execute_result"
    }
   ],
   "source": [
    "insertLeft(r,4)"
   ]
  },
  {
   "cell_type": "code",
   "execution_count": 562,
   "metadata": {},
   "outputs": [
    {
     "data": {
      "text/plain": [
       "[3, [5, [4, [], []], []], []]"
      ]
     },
     "execution_count": 562,
     "metadata": {},
     "output_type": "execute_result"
    }
   ],
   "source": [
    "insertLeft(r,5)"
   ]
  },
  {
   "cell_type": "code",
   "execution_count": 563,
   "metadata": {},
   "outputs": [
    {
     "data": {
      "text/plain": [
       "[3, [5, [4, [], []], []], [6, [], []]]"
      ]
     },
     "execution_count": 563,
     "metadata": {},
     "output_type": "execute_result"
    }
   ],
   "source": [
    "insertRight(r,6)"
   ]
  },
  {
   "cell_type": "code",
   "execution_count": 564,
   "metadata": {},
   "outputs": [
    {
     "data": {
      "text/plain": [
       "[3, [5, [4, [], []], []], [7, [], [6, [], []]]]"
      ]
     },
     "execution_count": 564,
     "metadata": {},
     "output_type": "execute_result"
    }
   ],
   "source": [
    "insertRight(r,7)"
   ]
  },
  {
   "cell_type": "code",
   "execution_count": 565,
   "metadata": {
    "collapsed": true
   },
   "outputs": [],
   "source": [
    "l = getLeftChild(r)"
   ]
  },
  {
   "cell_type": "code",
   "execution_count": 566,
   "metadata": {},
   "outputs": [
    {
     "name": "stdout",
     "output_type": "stream",
     "text": [
      "[5, [4, [], []], []]\n"
     ]
    }
   ],
   "source": [
    "print l"
   ]
  },
  {
   "cell_type": "code",
   "execution_count": 567,
   "metadata": {
    "collapsed": true
   },
   "outputs": [],
   "source": [
    "setRootVal(l,9)"
   ]
  },
  {
   "cell_type": "code",
   "execution_count": 568,
   "metadata": {},
   "outputs": [
    {
     "name": "stdout",
     "output_type": "stream",
     "text": [
      "[3, [9, [4, [], []], []], [7, [], [6, [], []]]]\n"
     ]
    }
   ],
   "source": [
    "print r"
   ]
  },
  {
   "cell_type": "markdown",
   "metadata": {},
   "source": [
    "## Nodes and References Implementation"
   ]
  },
  {
   "cell_type": "code",
   "execution_count": 572,
   "metadata": {
    "collapsed": true
   },
   "outputs": [],
   "source": [
    "class BinaryTree(object):\n",
    "    \n",
    "    def __init__(self,rootObj):\n",
    "        \n",
    "        self.key = rootObj\n",
    "        self.leftChild = None\n",
    "        self.rightChild = None\n",
    "    \n",
    "    def insertLeft(self, newNode):\n",
    "        if self.leftChild == None:\n",
    "            self.leftChild = BinaryTree(newNode)\n",
    "        else: \n",
    "            t = BinaryTree(newNode)\n",
    "            t.leftChild = self.leftChild\n",
    "            self.leftChild = t\n",
    "    \n",
    "    def insertRight(self, newNode):\n",
    "        if self.rightChild == None:\n",
    "            self.rigthChild = BinaryTree(newNode)\n",
    "        else:\n",
    "            t = BinaryTree(newNode)\n",
    "            t.rightChild = self.rightChild\n",
    "            self.rightChild = t\n",
    "\n",
    "    def getRightChild(self):\n",
    "        return self.rightChild\n",
    "\n",
    "    def getLeftChild(self):\n",
    "        return self.leftChild\n",
    "    \n",
    "    def setRootVal(self,obj):\n",
    "        self.key = obj\n",
    "    \n",
    "    def getRootVal(self):\n",
    "        return self.key"
   ]
  },
  {
   "cell_type": "code",
   "execution_count": 573,
   "metadata": {
    "collapsed": true
   },
   "outputs": [],
   "source": [
    "r = BinaryTree('a')"
   ]
  },
  {
   "cell_type": "code",
   "execution_count": 574,
   "metadata": {},
   "outputs": [
    {
     "data": {
      "text/plain": [
       "'a'"
      ]
     },
     "execution_count": 574,
     "metadata": {},
     "output_type": "execute_result"
    }
   ],
   "source": [
    "r.getRootVal()"
   ]
  },
  {
   "cell_type": "code",
   "execution_count": 577,
   "metadata": {},
   "outputs": [
    {
     "name": "stdout",
     "output_type": "stream",
     "text": [
      "None\n"
     ]
    }
   ],
   "source": [
    "print r.getLeftChild() "
   ]
  },
  {
   "cell_type": "code",
   "execution_count": 578,
   "metadata": {
    "collapsed": true
   },
   "outputs": [],
   "source": [
    "r.insertLeft('b')"
   ]
  },
  {
   "cell_type": "code",
   "execution_count": 580,
   "metadata": {},
   "outputs": [
    {
     "data": {
      "text/plain": [
       "<__main__.BinaryTree at 0x10689a290>"
      ]
     },
     "execution_count": 580,
     "metadata": {},
     "output_type": "execute_result"
    }
   ],
   "source": [
    "r.getLeftChild()"
   ]
  },
  {
   "cell_type": "code",
   "execution_count": 581,
   "metadata": {},
   "outputs": [
    {
     "data": {
      "text/plain": [
       "'b'"
      ]
     },
     "execution_count": 581,
     "metadata": {},
     "output_type": "execute_result"
    }
   ],
   "source": [
    "r.getLeftChild().getRootVal()"
   ]
  },
  {
   "cell_type": "markdown",
   "metadata": {},
   "source": [
    "# Tree Traversal"
   ]
  },
  {
   "cell_type": "raw",
   "metadata": {},
   "source": [
    "_ Tree Traversal\n",
    "_ Preorder\n",
    "_ Inorder\n",
    "_ Postorder"
   ]
  },
  {
   "cell_type": "raw",
   "metadata": {},
   "source": [
    "_ There are three commonly used patterns to visit all the nodes in\n",
    "a tree.\n",
    "_ The difference between these patterns is the order in which\n",
    "each node is visited (a \"traversal\")\n",
    "_ The three traversals we will look at are called preorder, inorder,\n",
    "and postorder."
   ]
  },
  {
   "cell_type": "markdown",
   "metadata": {},
   "source": [
    "## Preorder"
   ]
  },
  {
   "cell_type": "raw",
   "metadata": {},
   "source": [
    "_ In a preorder traversal, we visit the root node first, then \n",
    "recursively do a preorder traversal of the left subtree, followed\n",
    "by a recursive preorder raversal of the right subtree."
   ]
  },
  {
   "cell_type": "markdown",
   "metadata": {},
   "source": [
    "## Inorder"
   ]
  },
  {
   "cell_type": "raw",
   "metadata": {},
   "source": [
    "_ In an inorder traversal, we recursively do an inorder traversal on\n",
    "the left subtree, visit the root node, and finnaly d a recursive\n",
    "inorder traversal of the right subtree."
   ]
  },
  {
   "cell_type": "markdown",
   "metadata": {},
   "source": [
    "## Postorder"
   ]
  },
  {
   "cell_type": "raw",
   "metadata": {},
   "source": [
    "_ In a postorder traversal, we recursively do a postorder traversal \n",
    "of the left subtree and the right subtree followed by a visit to the \n",
    "root node."
   ]
  },
  {
   "cell_type": "markdown",
   "metadata": {},
   "source": [
    "## Example:"
   ]
  },
  {
   "cell_type": "code",
   "execution_count": 584,
   "metadata": {},
   "outputs": [
    {
     "data": {
      "image/png": "[encoded data removed]",
      "text/plain": [
       "<IPython.core.display.Image object>"
      ]
     },
     "execution_count": 584,
     "metadata": {},
     "output_type": "execute_result"
    }
   ],
   "source": [
    "from IPython.display import Image\n",
    "Image(filename='Picture1.png')"
   ]
  },
  {
   "cell_type": "code",
   "execution_count": 587,
   "metadata": {
    "collapsed": true
   },
   "outputs": [],
   "source": [
    "# Base case is simply to check if the tree exists.\n",
    "# If the tree parameter is None, then the function\n",
    "# returns without taking any action\n",
    "\n",
    "def preorder(tree): # as a method\n",
    "    if tree:    \n",
    "        print(tree.getRootVal())\n",
    "        preorder(tree.getLeftChild())\n",
    "        preorder(tree.getRightChild())\n",
    "\n",
    "def preorder(self):# as a class\n",
    "    print(self.key)\n",
    "    if self.leftChild:\n",
    "        self.leftChild.preorder()\n",
    "    if self.rightChild:\n",
    "        self.rightChild.preorder()"
   ]
  },
  {
   "cell_type": "code",
   "execution_count": 588,
   "metadata": {
    "collapsed": true
   },
   "outputs": [],
   "source": [
    "def postorder(tree):\n",
    "    if tree != None:\n",
    "        postorder(tree.getLeftChild())\n",
    "        postorder(tree.getRigthChild())\n",
    "        print(tree.getRootVal())                  "
   ]
  },
  {
   "cell_type": "code",
   "execution_count": null,
   "metadata": {
    "collapsed": true
   },
   "outputs": [],
   "source": [
    "# In the inorder traversal we visit the left subtree,\n",
    "# followed byt he root, and finally the right subtree\n",
    "\n",
    "def inorder(tree):\n",
    "    if tree != None:\n",
    "        inorder(tree.getLeftChild())\n",
    "        print(tree.getRootVal())\n",
    "        inorder(tree.getRigthchild())"
   ]
  },
  {
   "cell_type": "markdown",
   "metadata": {},
   "source": [
    "## Binary Heap"
   ]
  },
  {
   "cell_type": "raw",
   "metadata": {},
   "source": [
    "_ In order to make our heap work efficiently, we will take advantage\n",
    "of the logrthmic nature of the binary tree to represent our heap.\n",
    "_ In order to guarantee logarithmic performance, we must keep our\n",
    "tree balanced."
   ]
  },
  {
   "cell_type": "raw",
   "metadata": {},
   "source": [
    "_ A balanced binary tree has roughly the same number of nodes in\n",
    "the left and right subtrees of the root.\n",
    "_ In our heap implementation we keep the tree balanced by creating \n",
    "a complete binary tree.\n",
    "_ A complete binary tree is a tree in which each level has all of \n",
    "its nodes."
   ]
  },
  {
   "cell_type": "code",
   "execution_count": 3,
   "metadata": {
    "collapsed": true
   },
   "outputs": [],
   "source": [
    "class BinHeap:\n",
    "    \n",
    "    def __init__(self):\n",
    "        self.heapList = [0]\n",
    "        self.currentSize = 0\n",
    "    \n",
    "    def percUp(self, i):\n",
    "        while i // 2 > 0:\n",
    "            if self.heapList[i] < self.heapList[i // 2]:\n",
    "                tmp = self.heapList[i // 2]\n",
    "                self.heapList[i // 2] = self.heapList[i]\n",
    "                self.heapList[i] = tmp\n",
    "            i = i // 2\n",
    "    \n",
    "    def insert(self, k):\n",
    "        self.heapList.append(k)\n",
    "        self.currenSize = self.currentSize + 1\n",
    "        self.percUp(self.currentSize)\n",
    "    \n",
    "    def percDown(self, i):\n",
    "        while (i * 2) <= self.currentSize:\n",
    "            mc = self.minChild(i)\n",
    "            if self.heapList[i] > self.heapList[mc]:\n",
    "                tmp = self.heapList[i]\n",
    "                self.heapList[i] = self.heapList[mc]\n",
    "                self.heapList[mc] = tmp\n",
    "            i = mc\n",
    "    \n",
    "    def minChild(self,i):\n",
    "        if i * 2  + 1 > self.currentSize:\n",
    "            return i * 2\n",
    "        else:\n",
    "            if self.heapList[i * 2] < self.heapList[i*2+1]:\n",
    "                return i * 2\n",
    "            else:\n",
    "                return i * 2 + 1\n",
    "    \n",
    "    def delMin(self):\n",
    "        retval = self.heapList[1]\n",
    "        self.heapList[1] = self.heapList[self.currentSize]\n",
    "        self.currentSize = self.currentSize - 1\n",
    "        self.heapList.pop()\n",
    "        self.percDown(1)\n",
    "        return retval\n",
    "    \n",
    "    def buildHeap(self,alist):\n",
    "        i = len(alist)//2\n",
    "        self.currentSize = len(alist)\n",
    "        self.heapList = [0] + alist[:]\n",
    "        while (i > 0):\n",
    "            self.percDown(i)\n",
    "            i = i - 1\n",
    "    "
   ]
  },
  {
   "cell_type": "raw",
   "metadata": {},
   "source": [
    "_ Remember that inserting an item in the middle of the list may\n",
    "require O(n) operations to shift the rest of the list over to make\n",
    "room for the new key.\n",
    "_ Therefore, to insert n keys into the heap would require a total of O(nlogn) operations.\n",
    "_ However, if we start with an entire list then we can build the \n",
    "whole heap in O(n) operations."
   ]
  },
  {
   "cell_type": "markdown",
   "metadata": {},
   "source": [
    "## Binary Search Trees Implementation"
   ]
  },
  {
   "cell_type": "code",
   "execution_count": 11,
   "metadata": {
    "collapsed": true
   },
   "outputs": [],
   "source": [
    "class TreeNode:\n",
    "    \n",
    "    def __init__(self,key,val,left=None,right=None,parent=None):\n",
    "        self.key = key\n",
    "        self.payload = val\n",
    "        self.leftChild = left\n",
    "        self.rightChild = right\n",
    "        self.parent = parent\n",
    "\n",
    "    def hasLeftChild(self):\n",
    "        return self.leftChild\n",
    "\n",
    "    def hasRightChild(self):\n",
    "        return self.rightChild\n",
    "\n",
    "    def isLeftChild(self):\n",
    "        return self.parent and self.parent.leftChild == self\n",
    "\n",
    "    def isRightChild(self):\n",
    "        return self.parent and self.parent.rightChild == self\n",
    "\n",
    "    def isRoot(self):\n",
    "        return not self.parent\n",
    "\n",
    "    def isLeaf(self):\n",
    "        return not (self.rightChild or self.leftChild)\n",
    "\n",
    "    def hasAnyChildren(self):\n",
    "        return self.rightChild or self.leftChild\n",
    "\n",
    "    def hasBothChildren(self):\n",
    "        return self.rightChild and self.leftChild\n",
    "\n",
    "    def replaceNodeData(self,key,value,lc,rc): # the root\n",
    "        self.key = key\n",
    "        self.payload = value\n",
    "        self.leftChild = lc\n",
    "        self.rightChild = rc\n",
    "        if self.hasLeftChild():\n",
    "            self.leftChild.parent = self\n",
    "        if self.hasRightChild():\n",
    "            self.rightChild.parent = self"
   ]
  },
  {
   "cell_type": "code",
   "execution_count": 15,
   "metadata": {
    "collapsed": true
   },
   "outputs": [
    {
     "ename": "IndentationError",
     "evalue": "expected an indented block (<ipython-input-15-6acb3d7174a9>, line 5)",
     "output_type": "error",
     "traceback": [
      "\u001b[0;36m  File \u001b[0;32m\"<ipython-input-15-6acb3d7174a9>\"\u001b[0;36m, line \u001b[0;32m5\u001b[0m\n\u001b[0;31m    self.root = None\u001b[0m\n\u001b[0m                    ^\u001b[0m\n\u001b[0;31mIndentationError\u001b[0m\u001b[0;31m:\u001b[0m expected an indented block\n"
     ]
    }
   ],
   "source": [
    "        ### Part I ###\n",
    "class BinarySearchTree:\n",
    "\n",
    "    def __init__(self):\n",
    "        self.root = None\n",
    "        self.size = 0\n",
    "\n",
    "    def length(self):\n",
    "        return self.size\n",
    "\n",
    "    def __len__(self):\n",
    "        return self.size\n",
    "\n",
    "    def put(self,key,val):\n",
    "        if self.root:\n",
    "            self._put(key,val,self.root)\n",
    "        else:\n",
    "            self.root = TreeNode(key,val)\n",
    "        self.size = self.size + 1\n",
    "\n",
    "    def _put(self,key,val,currentNode):\n",
    "        if key < currentNode.key:\n",
    "            if currentNode.hasLeftChild():\n",
    "                   self._put(key,val,currentNode.leftChild)\n",
    "            else:\n",
    "                   currentNode.leftChild = TreeNode(key,val,parent=currentNode)\n",
    "        else:\n",
    "            if currentNode.hasRightChild():\n",
    "                   self._put(key,val,currentNode.rightChild)\n",
    "            else:\n",
    "                   currentNode.rightChild = TreeNode(key,val,parent=currentNode)\n",
    "\n",
    "    def __setitem__(self,k,v):\n",
    "        self.put(k,v)\n",
    "\n",
    "    def get(self,key):\n",
    "        if self.root:\n",
    "            res = self._get(key,self.root)\n",
    "            if res:\n",
    "                \n",
    "                return res.payload\n",
    "            else:\n",
    "                return None\n",
    "        else:\n",
    "            return None\n",
    "\n",
    "    def _get(self,key,currentNode):\n",
    "        \n",
    "        if not currentNode:\n",
    "            return None\n",
    "        elif currentNode.key == key:\n",
    "            return currentNode\n",
    "        elif key < currentNode.key:\n",
    "            return self._get(key,currentNode.leftChild)\n",
    "        else:\n",
    "            return self._get(key,currentNode.rightChild)\n",
    "\n",
    "    def __getitem__(self,key):\n",
    "        return self.get(key)\n",
    "\n",
    "    def __contains__(self,key):\n",
    "        if self._get(key,self.root):\n",
    "            return True\n",
    "        else:\n",
    "            return False\n",
    "\n",
    "    def delete(self,key):\n",
    "        \n",
    "        if self.size > 1:\n",
    "            \n",
    "            nodeToRemove = self._get(key,self.root)\n",
    "            if nodeToRemove:\n",
    "                self.remove(nodeToRemove)\n",
    "                self.size = self.size-1\n",
    "            else:\n",
    "                raise KeyError('Error, key not in tree')\n",
    "        elif self.size == 1 and self.root.key == key:\n",
    "            self.root = None\n",
    "            self.size = self.size - 1\n",
    "        else:\n",
    "            raise KeyError('Error, key not in tree')\n",
    "\n",
    "    def __delitem__(self,key):\n",
    "        \n",
    "        self.delete(key)\n",
    "\n",
    "    def spliceOut(self):  # to remove the successor and fix the tree\n",
    "        if self.isLeaf():\n",
    "            if self.isLeftChild():\n",
    "                \n",
    "                self.parent.leftChild = None\n",
    "            else:\n",
    "                self.parent.rightChild = None\n",
    "        elif self.hasAnyChildren():\n",
    "            if self.hasLeftChild():\n",
    "                \n",
    "                if self.isLeftChild():\n",
    "                    \n",
    "                    self.parent.leftChild = self.leftChild\n",
    "                else:\n",
    "                    \n",
    "                    self.parent.rightChild = self.leftChild\n",
    "                    self.leftChild.parent = self.parent\n",
    "        else:\n",
    "                    \n",
    "            if self.isLeftChild():\n",
    "                        \n",
    "                self.parent.leftChild = self.rightChild\n",
    "            else:\n",
    "                self.parent.rightChild = self.rightChild\n",
    "                self.rightChild.parent = self.parent\n",
    "\n",
    "    def findSuccessor(self):\n",
    "        #1) has a right child, find that successor in the right branch child\n",
    "        succ = None\n",
    "        if self.hasRightChild():    # current node has right child\n",
    "            succ = self.rightChild.findMin()  # --- > find min value of that child (keep going left)\n",
    "        else:\n",
    "            if self.parent:   # 2) has no right child, has a parent\n",
    "                \n",
    "                if self.isLeftChild(): # is the left child of its parent\n",
    "                                    # --> successor will be the parent\n",
    "                    succ = self.parent\n",
    "                else:  # is the right child of its parent, cut the right branch (self) of its parent\n",
    "                    self.parent.rightChild = None\n",
    "                    succ = self.parent.findSuccessor()   # find the successor of its parent branch\n",
    "                    self.parent.rightChild = self  # set the right branch (self) back\n",
    "        return succ\n",
    "\n",
    "    def findMin(self):\n",
    "        \n",
    "        current = self\n",
    "        while current.hasLeftChild():\n",
    "            current = current.leftChild\n",
    "        return current\n",
    "\n",
    "    def remove(self,currentNode):\n",
    "        \n",
    "        if currentNode.isLeaf(): #leaf\n",
    "            if currentNode == currentNode.parent.leftChild:\n",
    "                currentNode.parent.leftChild = None\n",
    "            else:\n",
    "                currentNode.parent.rightChild = None\n",
    "        elif currentNode.hasBothChildren(): #interior\n",
    "            \n",
    "            succ = currentNode.findSuccessor()\n",
    "            succ.spliceOut()    # remove the successor\n",
    "            currentNode.key = succ.key      #update the remove key from successor\n",
    "            currentNode.payload = succ.payload  # update the remove key from successor\n",
    "\n",
    "        else: # this node has one child\n",
    "            if currentNode.hasLeftChild():\n",
    "                if currentNode.isLeftChild():\n",
    "                    currentNode.leftChild.parent = currentNode.parent\n",
    "                    currentNode.parent.leftChild = currentNode.leftChild\n",
    "                elif currentNode.isRightChild():\n",
    "                    currentNode.leftChild.parent = currentNode.parent\n",
    "                    currentNode.parent.rightChild = currentNode.leftChild\n",
    "                else:\n",
    "                        # is the root\n",
    "                    currentNode.replaceNodeData(currentNode.leftChild.key,\n",
    "                                    currentNode.leftChild.payload,\n",
    "                                    currentNode.leftChild.leftChild,\n",
    "                                    currentNode.leftChild.rightChild)\n",
    "            else:\n",
    "                \n",
    "                if currentNode.isLeftChild():\n",
    "                    currentNode.rightChild.parent = currentNode.parent\n",
    "                    currentNode.parent.leftChild = currentNode.rightChild\n",
    "                elif currentNode.isRightChild():\n",
    "                    currentNode.rightChild.parent = currentNode.parent\n",
    "                    currentNode.parent.rightChild = currentNode.rightChild\n",
    "                else:   # is the root\n",
    "                    currentNode.replaceNodeData(currentNode.rightChild.key,\n",
    "                                    currentNode.rightChild.payload,\n",
    "                                    currentNode.rightChild.leftChild,\n",
    "                                    currentNode.rightChild.rightChild)"
   ]
  },
  {
   "cell_type": "markdown",
   "metadata": {},
   "source": [
    "## Binary Search Tree check (BST) (interview)"
   ]
  },
  {
   "cell_type": "raw",
   "metadata": {},
   "source": [
    "Given a binary tree, check whether it’s a binary search tree or not.\n",
    "\n",
    "Again, no solution cell, just worry about your code making sense logically.\n",
    "Hint: Think about tree traversals."
   ]
  },
  {
   "cell_type": "code",
   "execution_count": 16,
   "metadata": {
    "collapsed": true
   },
   "outputs": [
    {
     "ename": "NameError",
     "evalue": "name 'tree' is not defined",
     "output_type": "error",
     "traceback": [
      "\u001b[0;31m---------------------------------------------------------------------------\u001b[0m",
      "\u001b[0;31mNameError\u001b[0m                                 Traceback (most recent call last)",
      "\u001b[0;32m<ipython-input-16-d04987cc849a>\u001b[0m in \u001b[0;36m<module>\u001b[0;34m()\u001b[0m\n\u001b[1;32m     10\u001b[0m     \u001b[0;32mreturn\u001b[0m \u001b[0mtree_vals\u001b[0m \u001b[0;34m==\u001b[0m \u001b[0msorted\u001b[0m\u001b[0;34m(\u001b[0m\u001b[0mtree_vals\u001b[0m\u001b[0;34m)\u001b[0m\u001b[0;34m\u001b[0m\u001b[0m\n\u001b[1;32m     11\u001b[0m \u001b[0;34m\u001b[0m\u001b[0m\n\u001b[0;32m---> 12\u001b[0;31m \u001b[0minorder\u001b[0m\u001b[0;34m(\u001b[0m\u001b[0mtree\u001b[0m\u001b[0;34m)\u001b[0m\u001b[0;34m\u001b[0m\u001b[0m\n\u001b[0m\u001b[1;32m     13\u001b[0m \u001b[0msort_check\u001b[0m\u001b[0;34m(\u001b[0m\u001b[0mtree_vals\u001b[0m\u001b[0;34m)\u001b[0m\u001b[0;34m\u001b[0m\u001b[0m\n",
      "\u001b[0;31mNameError\u001b[0m: name 'tree' is not defined"
     ]
    }
   ],
   "source": [
    "tree_vals = []\n",
    "\n",
    "def inorder(tree):\n",
    "    if tree != None:\n",
    "        inorder(tree.getLeftChild())\n",
    "        tree_vals.append(tree.getRootVal())\n",
    "        inorder(tree.getRightChild())\n",
    "        \n",
    "def sort_check(tree_vals):\n",
    "    return tree_vals == sorted(tree_vals)\n",
    "\n",
    "inorder(tree)\n",
    "sort_check(tree_vals)"
   ]
  },
  {
   "cell_type": "code",
   "execution_count": 17,
   "metadata": {
    "collapsed": true
   },
   "outputs": [],
   "source": [
    "# another solution to keep track of the minimum and maximum values\n",
    "# a node can take. And at each node we will check whether its value\n",
    "# is between the min and max values it's allowed to take.\n",
    "class Node:\n",
    "    def __init__(self, k, val):\n",
    "        self.key = k\n",
    "        self.value = val\n",
    "        self.left = None\n",
    "        self.right = None\n",
    "\n",
    "def tree_max(node):\n",
    "    if not node:\n",
    "        return float(\"-inf\")\n",
    "    maxleft  = tree_max(node.left)\n",
    "    maxright = tree_max(node.right)\n",
    "    return max(node.key, maxleft, maxright)\n",
    "\n",
    "def tree_min(node):\n",
    "    if not node:\n",
    "        return float(\"inf\")\n",
    "    minleft  = tree_min(node.left)\n",
    "    minright = tree_min(node.right)\n",
    "    return min(node.key, minleft, minright)\n",
    "\n",
    "def verify(node):\n",
    "    if not node:\n",
    "        return True\n",
    "    if (tree_max(node.left) <= node.key <= tree_min(node.right) and\n",
    "        verify(node.left) and verify(node.right)):\n",
    "        return True\n",
    "    else:\n",
    "        return False"
   ]
  },
  {
   "cell_type": "code",
   "execution_count": 18,
   "metadata": {},
   "outputs": [
    {
     "name": "stdout",
     "output_type": "stream",
     "text": [
      "True\n",
      "False\n"
     ]
    }
   ],
   "source": [
    "root= Node(10, \"Hello\")\n",
    "root.left = Node(5, \"Five\")\n",
    "root.right= Node(30, \"Thirty\")\n",
    "\n",
    "print(verify(root)) # prints True, since this tree is valid\n",
    "\n",
    "root = Node(10, \"Ten\")\n",
    "root.right = Node(20, \"Twenty\")\n",
    "root.left = Node(5, \"Five\")\n",
    "root.left.right = Node(15, \"Fifteen\")\n",
    "\n",
    "print(verify(root)) # prints False, since 15 is to the left of 10"
   ]
  },
  {
   "cell_type": "markdown",
   "metadata": {},
   "source": [
    "## Tree Level Order Print (interview)"
   ]
  },
  {
   "cell_type": "raw",
   "metadata": {},
   "source": [
    "Given a binary tree of integers, print it in level order. The output\n",
    "will contain space between the numbers in the same level, and new \n",
    "\n",
    "line between different levels. For example, if the tree is:\n",
    "           6\n",
    "1 --- 3 ---5\n",
    "      2 ---4 \n",
    "\n",
    "http://nbviewer.jupyter.org/github/jmportilla/Python-for-Algorithms--Data-Structures--and-Interviews/blob/master/Trees/Trees%20Interview%20Problems/tree_print.png\n",
    "\n",
    "\n",
    "The output should be:\n",
    "\n",
    "1 \n",
    "2 3 \n",
    "4 5 6"
   ]
  },
  {
   "cell_type": "code",
   "execution_count": 29,
   "metadata": {
    "collapsed": true
   },
   "outputs": [],
   "source": [
    "class Node:\n",
    "    def __init__(self, val=None):\n",
    "        self.left = None\n",
    "        self.right = None\n",
    "        self.val =  val \n",
    "    "
   ]
  },
  {
   "cell_type": "code",
   "execution_count": 50,
   "metadata": {},
   "outputs": [
    {
     "name": "stdout",
     "output_type": "stream",
     "text": [
      "deque([2, 3])\n"
     ]
    }
   ],
   "source": [
    "import collections\n",
    "\n",
    "d = collections.deque([1,2,3]) # can append, popLeft,...\n",
    "d.append([4])\n",
    "d.popleft()\n",
    "d.pop()\n",
    "print d"
   ]
  },
  {
   "cell_type": "code",
   "execution_count": 57,
   "metadata": {
    "collapsed": true
   },
   "outputs": [],
   "source": [
    "import collections\n",
    "\n",
    "def levelOrderPrint(tree): # O(n), n is number of nodes\n",
    "    \n",
    "    if not tree:\n",
    "        return\n",
    "    \n",
    "    nodes = collections.deque([tree])\n",
    "    \n",
    "    currentCount = 1\n",
    "    nextCount = 0\n",
    "    \n",
    "    while len(nodes) != 0:\n",
    "\n",
    "        currentNode = nodes.popleft()\n",
    "        currentCount -= 1\n",
    "        \n",
    "        print currentNode.val,\n",
    "        \n",
    "        if currentNode.left:\n",
    "            nodes.append(currentNode.left)\n",
    "            nextCount += 1\n",
    "        \n",
    "        if currentNode.right:\n",
    "            nodes.append(currentNode.right)\n",
    "            nextCount += 1\n",
    "        \n",
    "        if currentCount == 0:\n",
    "            print '\\n'\n",
    "            currentCount, nextCount = nextCount, currentCount\n",
    "        "
   ]
  },
  {
   "cell_type": "code",
   "execution_count": 58,
   "metadata": {
    "collapsed": true
   },
   "outputs": [],
   "source": [
    "one = Node(1)\n",
    "two = Node(2)\n",
    "three = Node(3)\n",
    "four = Node(4)\n",
    "five = Node(5)\n",
    "six = Node(6)\n",
    "\n",
    "one.left = two\n",
    "two.left = four\n",
    "one.right = three\n",
    "three.left = five\n",
    "three.right = six"
   ]
  },
  {
   "cell_type": "code",
   "execution_count": 59,
   "metadata": {},
   "outputs": [
    {
     "name": "stdout",
     "output_type": "stream",
     "text": [
      "1 \n",
      "\n",
      "2 3 \n",
      "\n",
      "4 5 6 \n",
      "\n"
     ]
    }
   ],
   "source": [
    "levelOrderPrint(one)"
   ]
  },
  {
   "cell_type": "markdown",
   "metadata": {},
   "source": [
    "## Trim a Binary Search Tree (interview)"
   ]
  },
  {
   "cell_type": "raw",
   "metadata": {},
   "source": [
    "Given the root of a binary search tree and 2 numbers min and max, \n",
    "trim the tree such that all the numbers in the new tree are between \n",
    "min and max (inclusive). The resulting tree should still be a valid \n",
    "binary search tree. So, if we get this tree as input:\n",
    "\n",
    "http://nbviewer.jupyter.org/github/jmportilla/Python-for-Algorithms--Data-Structures--and-Interviews/blob/master/Trees/Trees%20Interview%20Problems/bst1.png\n",
    "\n",
    "and we’re given min value as 5 and max value as 13, then the \n",
    "resulting binary search tree should be:\n",
    "\n",
    "http://nbviewer.jupyter.org/github/jmportilla/Python-for-Algorithms--Data-Structures--and-Interviews/blob/master/Trees/Trees%20Interview%20Problems/bst_trim.png\n",
    "\n",
    "\n",
    "We should remove all the nodes whose value is not between min and \n",
    "max.\n",
    "\n",
    "Feel free to reference the lecture on Binary Search Tree for the \n",
    "node class, but what it more important here is the logic of your \n",
    "function. In which case your function should be in the form:\n",
    "\n"
   ]
  },
  {
   "cell_type": "code",
   "execution_count": 60,
   "metadata": {
    "collapsed": true
   },
   "outputs": [],
   "source": [
    "def trimBST(tree,minVal,maxVal):\n",
    "    \n",
    "    if not tree:\n",
    "        return\n",
    "    \n",
    "    tree.left = trimBST(tree.left, minVal, maxVal)\n",
    "    tree.right = trimBST(tree.right, minVal, maxVal)\n",
    "    \n",
    "    if minVal <= tree.val <= maxVal:\n",
    "        return tree\n",
    "    \n",
    "    if tree.val < minVal:\n",
    "        return tree.right\n",
    "    \n",
    "    if tree.val > maxVal:\n",
    "        return tree.left\n",
    "    \n",
    "\n",
    "# Use tree.left , tree.right , and tree.val as your methods to call"
   ]
  },
  {
   "cell_type": "raw",
   "metadata": {},
   "source": [
    "We can do this by performing a post-order traversal of the tree. We \n",
    "first process the left children, then right children, and finally \n",
    "the node itself. So we form the new tree bottom up, starting from \n",
    "the leaves towards the root. As a result while processing the node \n",
    "itself, both its left and right subtrees are valid trimmed binary \n",
    "search trees (may be NULL as well).\n",
    "\n",
    "At each node we’ll return a reference based on its value, which will \n",
    "then be assigned to its parent’s left or right child pointer, \n",
    "depending on whether the current node is left or right child of the \n",
    "parent. If current node’s value is between min and max \n",
    "(min<=node<=max) then there’s no action need to be taken, so we \n",
    "return the reference to the node itself. If current node’s value is \n",
    "less than min, then we return the reference to its right subtree, \n",
    "and discard the left subtree. Because if a node’s value is less than \n",
    "min, then its left children are definitely less than min since this \n",
    "is a binary search tree. But its right children may or may not be \n",
    "less than min we can’t be sure, so we return the reference to it. \n",
    "Since we’re performing bottom-up post-order traversal, its right \n",
    "subtree is already a trimmed valid binary search tree (possibly \n",
    "NULL), and left subtree is definitely NULL because those nodes were \n",
    "surely less than min and they were eliminated during the post-order \n",
    "traversal. Remember that in post-order traversal we first process \n",
    "all the children of a node, and then finally the node itself.\n",
    "\n",
    "Similar situation occurs when node’s value is greater than max, we \n",
    "now return the reference to its left subtree. Because if a node’s \n",
    "value is greater than max, then its right children are definitely \n",
    "greater than max. But its left children may or may not be greater \n",
    "than max. So we discard the right subtree and return the reference \n",
    "to the already valid left subtree. The code is easier to understand:"
   ]
  },
  {
   "cell_type": "raw",
   "metadata": {},
   "source": [
    "The complexity of this algorithm is O(N), where N is the number of \n",
    "nodes in the tree. Because we basically perform a post-order \n",
    "traversal of the tree, visiting each and every node one. This is \n",
    "optimal because we should visit every node at least once. This is a \n",
    "very elegant question that demonstrates the effectiveness of \n",
    "recursion in trees."
   ]
  },
  {
   "cell_type": "markdown",
   "metadata": {
    "collapsed": true
   },
   "source": [
    "# Search and Sorting"
   ]
  },
  {
   "cell_type": "raw",
   "metadata": {},
   "source": [
    "_ Sequential Search\n",
    "_ Implementation of Sequential Search\n",
    "_ Binary Search\n",
    "_ Immplementation of Binary Search\n",
    "_ Hashing\n",
    "_ Hash Tables"
   ]
  },
  {
   "cell_type": "markdown",
   "metadata": {},
   "source": [
    "## Sequntial Search Analysis"
   ]
  },
  {
   "cell_type": "raw",
   "metadata": {},
   "source": [
    "_ Unordered List Analysis\n",
    "\n",
    "Case                Best Case          Worst Case       Average Case\n",
    "item is present        1                   n                n/2\n",
    "item is not present    n                   n                n"
   ]
  },
  {
   "cell_type": "raw",
   "metadata": {},
   "source": [
    "_ Ordered List Analysis\n",
    "\n",
    "Case                Best Case          Worst Case       Average Case\n",
    "item is present        1                   n                n/2\n",
    "item is not present    1                   n                n/2"
   ]
  },
  {
   "cell_type": "code",
   "execution_count": 1,
   "metadata": {
    "collapsed": true
   },
   "outputs": [],
   "source": [
    "def seq_search(arr, ele):  # not order, unordered\n",
    "    \n",
    "    pos = 0\n",
    "    found = False\n",
    "    \n",
    "    while pos < len(arr) and not found:\n",
    "        \n",
    "        if arr[pos] == ele:\n",
    "            found = True\n",
    "        \n",
    "        else:\n",
    "            pos += 1\n",
    "        \n",
    "    return found"
   ]
  },
  {
   "cell_type": "code",
   "execution_count": 2,
   "metadata": {},
   "outputs": [
    {
     "data": {
      "text/plain": [
       "False"
      ]
     },
     "execution_count": 2,
     "metadata": {},
     "output_type": "execute_result"
    }
   ],
   "source": [
    "arr = [1,2,3,4,5]\n",
    "seq_search(arr,6)"
   ]
  },
  {
   "cell_type": "code",
   "execution_count": 3,
   "metadata": {
    "collapsed": true
   },
   "outputs": [],
   "source": [
    "def ordered_seq_search(arr, ele):\n",
    "    pos = 0\n",
    "    found = False\n",
    "    stopped = False\n",
    "    \n",
    "    while pos < len(arr) and not found and not stopped:\n",
    "        \n",
    "        if arr[pos] == ele:\n",
    "            found = True\n",
    "        elif arr[pos] > ele:\n",
    "            stopped = True\n",
    "        else:\n",
    "            pos += 1\n",
    "    return found"
   ]
  },
  {
   "cell_type": "code",
   "execution_count": 6,
   "metadata": {},
   "outputs": [
    {
     "data": {
      "text/plain": [
       "True"
      ]
     },
     "execution_count": 6,
     "metadata": {},
     "output_type": "execute_result"
    }
   ],
   "source": [
    "arr = [1,2,3,4,5]\n",
    "seq_search(arr,3)"
   ]
  },
  {
   "cell_type": "markdown",
   "metadata": {},
   "source": [
    "## Binary Search"
   ]
  },
  {
   "cell_type": "raw",
   "metadata": {},
   "source": [
    "_ Binary Search\n",
    "_ Implementation of Binary Search\n",
    "_ Iterative\n",
    "_ Recursive"
   ]
  },
  {
   "cell_type": "raw",
   "metadata": {},
   "source": [
    "_ Binary search uses Divide and Conquer!\n",
    "_ We divide the problem into smaller pieces,\n",
    "solve the smaller pieces in some way, and then reassemble the\n",
    "whole problem to get the result."
   ]
  },
  {
   "cell_type": "raw",
   "metadata": {},
   "source": [
    " Binary Search Analysis\n",
    "\n",
    "Comparisions           Approximate Number of Items Left\n",
    "     1                      n/2\n",
    "     2                      n/4\n",
    "     3                      n/8\n",
    "     ...\n",
    "     \n",
    "     i                      n/ (n^i)/"
   ]
  },
  {
   "cell_type": "code",
   "execution_count": 10,
   "metadata": {
    "collapsed": true
   },
   "outputs": [],
   "source": [
    "def binary_search(arr, ele):\n",
    "    \n",
    "    first = 0\n",
    "    last = len(arr) - 1\n",
    "    \n",
    "    found = False\n",
    "    \n",
    "    while first <= last and not found:\n",
    "        \n",
    "        mid = (first + last)/2\n",
    "        \n",
    "        if arr[mid] == ele:\n",
    "            found = True\n",
    "        else:\n",
    "            if ele < arr[mid]:\n",
    "                last = mid - 1\n",
    "            else:\n",
    "                first = mid + 1\n",
    "\n",
    "    return found"
   ]
  },
  {
   "cell_type": "code",
   "execution_count": 11,
   "metadata": {},
   "outputs": [
    {
     "data": {
      "text/plain": [
       "True"
      ]
     },
     "execution_count": 11,
     "metadata": {},
     "output_type": "execute_result"
    }
   ],
   "source": [
    "arr = [1,2,3,4,5,6,7,8,9,10]\n",
    "binary_search(arr, 7)"
   ]
  },
  {
   "cell_type": "code",
   "execution_count": 15,
   "metadata": {
    "collapsed": true
   },
   "outputs": [],
   "source": [
    "def rec_bin_search(arr, ele):\n",
    "    \n",
    "    if len(arr) == 0:\n",
    "        return False\n",
    "    else:\n",
    "        \n",
    "        mid = len(arr)/2\n",
    "        \n",
    "        if arr[mid] == ele:\n",
    "            return True\n",
    "        else:\n",
    "            if ele < arr[mid]:\n",
    "                return rec_bin_search(arr[:mid],ele)\n",
    "            else:\n",
    "                return rec_bin_search(arr[mid + 1:],ele)\n",
    "        "
   ]
  },
  {
   "cell_type": "code",
   "execution_count": 16,
   "metadata": {},
   "outputs": [
    {
     "data": {
      "text/plain": [
       "[1, 2, 3, 4, 5, 6, 7, 8, 9, 10]"
      ]
     },
     "execution_count": 16,
     "metadata": {},
     "output_type": "execute_result"
    }
   ],
   "source": [
    "arr"
   ]
  },
  {
   "cell_type": "code",
   "execution_count": 17,
   "metadata": {},
   "outputs": [
    {
     "data": {
      "text/plain": [
       "False"
      ]
     },
     "execution_count": 17,
     "metadata": {},
     "output_type": "execute_result"
    }
   ],
   "source": [
    "rec_bin_search(arr, 13)"
   ]
  },
  {
   "cell_type": "markdown",
   "metadata": {},
   "source": [
    "## Hashing"
   ]
  },
  {
   "cell_type": "raw",
   "metadata": {},
   "source": [
    "_ Hasing\n",
    "_ Hash Tables\n",
    "_ Hash Functions\n",
    "_ Collision Resolution\n",
    "_ Implementing a Hash Table"
   ]
  },
  {
   "cell_type": "raw",
   "metadata": {},
   "source": [
    "Hash Function -- Remainder Method\n",
    "_ We're now ready to occupy 6 out of the 11 slots\n",
    "_ load factor, commonly denoted by  \n",
    "alpha = number_of_items/ table_size\n",
    "_ For this example, alpha = 6/11"
   ]
  },
  {
   "cell_type": "raw",
   "metadata": {},
   "source": [
    "Folding Method\n",
    "_ If our item was the phone number 436-555-4601\n",
    "_ We would take the digits and divide them into groups of 2\n",
    "(43,65,55,64,01).\n",
    "_ After the addition, 43 + 65 + 55 + 46 + 01, we get 210.\n",
    "_ If we assume our hash table has 11 slots, then we need to perfom\n",
    "the extra step of dividing by 11 and keeping the remainder.\n",
    "_ 210 % 11 is 1, so the phone number 436-555-4601 hashes to slot 1."
   ]
  },
  {
   "cell_type": "raw",
   "metadata": {},
   "source": [
    "Mid-square method\n",
    "_ we first square the item, and then extract some portion of the \n",
    "resulting digits.\n",
    "_ For example, if the item were 44, we would first compute \n",
    "44^2 = 1,936.\n",
    "_ By extracting the middle two digits, 93, and performing the \n",
    "remainder step, we get 93 % 11 = 5"
   ]
  },
  {
   "cell_type": "raw",
   "metadata": {},
   "source": [
    "Non-integer elements\n",
    "_ We can also create hash functions for character-based items such \n",
    "as strings.\n",
    "_ The word \"cat\" can be thought of as a sequence of ordinal values"
   ]
  },
  {
   "cell_type": "markdown",
   "metadata": {},
   "source": [
    "## Collision Resolution"
   ]
  },
  {
   "cell_type": "raw",
   "metadata": {},
   "source": [
    "_ One method ofr resolving collisions looks into the hash table \n",
    "and tries to find another open slot to hold the item that caused the\n",
    "collision\n",
    "_ We could start at the original hash value position and then move\n",
    "in a sequential manner through the slots until we encounter the \n",
    "first slot that is empty.\n",
    "_ This collision resolution process is referred to as open \n",
    "addressing in that it tires to find the next open slot or address in \n",
    "the has table."
   ]
  },
  {
   "cell_type": "raw",
   "metadata": {},
   "source": [
    "_ By systematically visiting each slot one at a time, we are\n",
    "performing an open addressing technique called linear probing"
   ]
  },
  {
   "cell_type": "raw",
   "metadata": {},
   "source": [
    "_ The general name for this process of looking for another slot\n",
    "after a collision is rehashing.\n",
    "_ A variation of the linear probing idea is called quadratic \n",
    "probing.\n",
    "_ Instaead of using a constant \"skip\" value, we use a rehash \n",
    "function that increments the hash value by 1,3,5,7,9, and so on\n",
    "_ This means that if the first hash value is h, the successive\n",
    "values are h+1, h+4, h+9, h+16, and so on."
   ]
  },
  {
   "cell_type": "raw",
   "metadata": {},
   "source": [
    "_ An alternative method for handling the collision problem is to\n",
    "allow each slot to hold a reference to a collection (or chain) of \n",
    "items.\n",
    "_ Chaining allows many items to exist at the same location in the\n",
    "hash table.\n",
    "_ When collisions happen, the item is still placed in the proper \n",
    "slot of the hash table.\n",
    "_ However, as more and more items hash to hte same location, \n",
    "the difficulty of searching for the item in the collection increase."
   ]
  },
  {
   "cell_type": "markdown",
   "metadata": {},
   "source": [
    "## Implementation of a hash Table"
   ]
  },
  {
   "cell_type": "raw",
   "metadata": {},
   "source": [
    "_ The idea of a dictionary used as a hash table to get and retrieve \n",
    "items using keys is often referred to as a mapping. In our \n",
    "implementation we will have the following methods:\n",
    "    + HashTable(): Create a new, empty map. It returns an empty\n",
    "    map collection.\n",
    "    + put(key,val): Add a new key-value pair to the map. If the key\n",
    "    is already in the map then replace the old value with the new \n",
    "    value.\n",
    "    + get(key): Given a key, return the value stored in the map or\n",
    "    None otherwise.\n",
    "    + del: Delete the key-value pair from the map using a statement \n",
    "    of the form del map[key]\n",
    "    + len(): Return the number of key-value pairs stored\n",
    "    + in : the map in Return True for a statement of the form\n",
    "    \"key in map\", if the given key is in the map, False otherwise."
   ]
  },
  {
   "cell_type": "code",
   "execution_count": 36,
   "metadata": {
    "collapsed": true
   },
   "outputs": [],
   "source": [
    "class HashTable(object):\n",
    "    \n",
    "    def __init__(self,size):\n",
    "        self.size = size\n",
    "        self.slots = [None] * self.size\n",
    "        self.data = [None] * self.size\n",
    "    \n",
    "    def put(self, key, data):\n",
    "        hashvalue = self.hashfunction(key, len(self.slots))\n",
    "        \n",
    "        if self.slots[hashvalue] == None: # new bucket --> update key, and data\n",
    "            self.slots[hashvalue] = key\n",
    "            self.data[hashvalue] = data\n",
    "\n",
    "        else:\n",
    "            if self.slots[hashvalue] == key: # found a bucket that has same key, update date only\n",
    "                self.data[hashvalue] = data\n",
    "            else: # rehash, current hashvalue doesn't have the same key \n",
    "                nextslot = self.rehash(hashvalue,len(self.slots))\n",
    "                #  while can't find an empty bucket and the slot which doesn't have the same key\n",
    "                while self.slots[nextslot] != None and self.slots[nextslot] != key:\n",
    "                    nextslot = self.rehash(nextslot, len(self.slots))\n",
    "                    \n",
    "                if self.slots[nextslot] == None: # found a new bucket, update key, and data\n",
    "                    self.slots[nextslot] = key\n",
    "                    self.data[nextslot] = data\n",
    "                else:\n",
    "                    self.data[nextslot] = data # found a bucket that has same key, update date only\n",
    "    \n",
    "    def hashfunction(self, key, size):\n",
    "        # the actual has function\n",
    "        return key%size\n",
    "    \n",
    "    def rehash(self,oldhash,size):\n",
    "        return (oldhash+1)%size\n",
    "    \n",
    "    def get(self, key):\n",
    "        \n",
    "        startslot = self.hashfunction(key, len(self.slots))\n",
    "        data = None\n",
    "        stop = False\n",
    "        found = False\n",
    "        position = startslot\n",
    "        \n",
    "        \n",
    "        while self.slots[position] != None and not found and not stop:\n",
    "            \n",
    "            if self.slots[position] == key:\n",
    "                found = True\n",
    "                data = self.data[position]\n",
    "            else:\n",
    "                position = self.rehash(position,len(self.slots))\n",
    "\n",
    "                if position == startslot:\n",
    "                    stop = True\n",
    "        \n",
    "        return data\n",
    "    \n",
    "    def __getitem__(self, key):\n",
    "        return self.get(key)\n",
    "    \n",
    "    def __setitem__(self,key, data):\n",
    "        self.put(key,data)"
   ]
  },
  {
   "cell_type": "code",
   "execution_count": 37,
   "metadata": {
    "collapsed": true
   },
   "outputs": [],
   "source": [
    "h = HashTable(5)"
   ]
  },
  {
   "cell_type": "code",
   "execution_count": 38,
   "metadata": {
    "collapsed": true
   },
   "outputs": [],
   "source": [
    "h[1] = 'one'\n",
    "h[2] = 'two'\n",
    "h[3] = 'three'"
   ]
  },
  {
   "cell_type": "code",
   "execution_count": 39,
   "metadata": {},
   "outputs": [
    {
     "data": {
      "text/plain": [
       "'one'"
      ]
     },
     "execution_count": 39,
     "metadata": {},
     "output_type": "execute_result"
    }
   ],
   "source": [
    "h[1]"
   ]
  },
  {
   "cell_type": "code",
   "execution_count": 40,
   "metadata": {},
   "outputs": [
    {
     "data": {
      "text/plain": [
       "'two'"
      ]
     },
     "execution_count": 40,
     "metadata": {},
     "output_type": "execute_result"
    }
   ],
   "source": [
    "h[2]"
   ]
  },
  {
   "cell_type": "code",
   "execution_count": 41,
   "metadata": {},
   "outputs": [
    {
     "data": {
      "text/plain": [
       "'three'"
      ]
     },
     "execution_count": 41,
     "metadata": {},
     "output_type": "execute_result"
    }
   ],
   "source": [
    "h[3]"
   ]
  },
  {
   "cell_type": "markdown",
   "metadata": {},
   "source": [
    "## Sorting"
   ]
  },
  {
   "cell_type": "raw",
   "metadata": {},
   "source": [
    "_ Explanations and implementations\n",
    "    + The Bubble Sort\n",
    "    + The Selection Sort\n",
    "    + The Insertion Sort\n",
    "    + The Shell Sort\n",
    "    + The Merge Sort\n",
    "    + The Quick Sort"
   ]
  },
  {
   "cell_type": "raw",
   "metadata": {},
   "source": [
    "_ Common interview questions consist of being asked to implement\n",
    "a sorting algorithm\n",
    "_ Lectures will focus on 3 things:\n",
    "    + Verbal Explanation\n",
    "    + Visual Explanation\n",
    "    + Full implementation"
   ]
  },
  {
   "cell_type": "raw",
   "metadata": {},
   "source": [
    "** Visualizing Sorting Algorithms **\n",
    "site : www.sorting-algorithms.com\n",
    "https://visualgo.net/en\n",
    "https://en.wikipedia.org/wiki/Sorting_algorithm"
   ]
  },
  {
   "cell_type": "markdown",
   "metadata": {},
   "source": [
    "## Bubble Sort"
   ]
  },
  {
   "cell_type": "code",
   "execution_count": 42,
   "metadata": {
    "collapsed": true
   },
   "outputs": [],
   "source": [
    "def bubble_sort(arr):\n",
    "    for n in range(len(arr) - 1, 0 , -1): # decreasing --> step is -1\n",
    "        for k in range(n): # 0 to n exclusive (0 .. n-1)\n",
    "            \n",
    "            if arr[k] > arr[k+1]:\n",
    "                arr[k], arr[k+1] = arr[k+1], arr[k]"
   ]
  },
  {
   "cell_type": "code",
   "execution_count": 43,
   "metadata": {},
   "outputs": [
    {
     "data": {
      "text/plain": [
       "[2, 3, 5, 7]"
      ]
     },
     "execution_count": 43,
     "metadata": {},
     "output_type": "execute_result"
    }
   ],
   "source": [
    "arr = [5,3,7,2]\n",
    "bubble_sort(arr)\n",
    "arr"
   ]
  },
  {
   "cell_type": "markdown",
   "metadata": {},
   "source": [
    "## Selection Sort"
   ]
  },
  {
   "cell_type": "code",
   "execution_count": 50,
   "metadata": {
    "collapsed": true
   },
   "outputs": [],
   "source": [
    "def selection_sort(arr):          # from len(arr)-1 to 1, (len(arr)-1) .. 1\n",
    "    for fillslot in range (len(arr)-1, 0, -1): # decreasing --> step is -1\n",
    "        positionOfMax = 0\n",
    "        for location in range(1, fillslot + 1):\n",
    "            \n",
    "            if arr[location] > arr[positionOfMax]:\n",
    "                positionOfMax = location\n",
    "                \n",
    "        arr[fillslot], arr[positionOfMax] = arr[positionOfMax], arr[fillslot]\n",
    "        "
   ]
  },
  {
   "cell_type": "code",
   "execution_count": 55,
   "metadata": {},
   "outputs": [
    {
     "name": "stdout",
     "output_type": "stream",
     "text": [
      "this is n:  5\n",
      "this is i =  1\n",
      "this is i =  2\n",
      "this is i =  3\n",
      "this is i =  4\n",
      "this is i =  5\n",
      "this is n:  4\n",
      "this is i =  1\n",
      "this is i =  2\n",
      "this is i =  3\n",
      "this is i =  4\n",
      "this is n:  3\n",
      "this is i =  1\n",
      "this is i =  2\n",
      "this is i =  3\n",
      "this is n:  2\n",
      "this is i =  1\n",
      "this is i =  2\n",
      "this is n:  1\n",
      "this is i =  1\n",
      "this is n:  0\n"
     ]
    }
   ],
   "source": [
    "for n in range(5,-1, -1):\n",
    "    print \"this is n: \", n\n",
    "    for i in range (1, n+1):\n",
    "        print \"this is i = \", i"
   ]
  },
  {
   "cell_type": "code",
   "execution_count": 52,
   "metadata": {},
   "outputs": [
    {
     "data": {
      "text/plain": [
       "[1, 3, 5, 8, 10]"
      ]
     },
     "execution_count": 52,
     "metadata": {},
     "output_type": "execute_result"
    }
   ],
   "source": [
    "arr = [5,8,3,10,1]\n",
    "selection_sort(arr)\n",
    "arr"
   ]
  },
  {
   "cell_type": "markdown",
   "metadata": {},
   "source": [
    "## Insertion Sort"
   ]
  },
  {
   "cell_type": "raw",
   "metadata": {},
   "source": [
    "_ The insertion sort always maintains a sorted sublist in the lower\n",
    "positions of the list.\n",
    "_ Each new item is then \"inserted\" back into the previous sublist \n",
    "such that the sorted sublist is one item larger."
   ]
  },
  {
   "cell_type": "raw",
   "metadata": {},
   "source": [
    "_ We begin by assuming that a list with one item (position 0) is \n",
    "already sorted.\n",
    "_ On each pass, one for each item 1 through n - 1, the current item\n",
    "is checked against those in the already sorted sublist.\n",
    "_ As we look back into the already sorted sublist, we shift those\n",
    "items that are greater to the right.\n",
    "_ When we reach a smaller item or the end of the sublist, the \n",
    "current item can be inserted"
   ]
  },
  {
   "cell_type": "code",
   "execution_count": 62,
   "metadata": {
    "collapsed": true
   },
   "outputs": [],
   "source": [
    "def insertion_sort(arr): # O(n^2)\n",
    "    \n",
    "    for i in range(1,len(arr)):\n",
    "\n",
    "        currentvalue = arr[i]\n",
    "        position = i\n",
    "        \n",
    "        while (position > 0) and (arr[position-1] > currentvalue):\n",
    "            arr[position] = arr[position - 1]\n",
    "            position = position - 1\n",
    "        \n",
    "        arr[position] = currentvalue\n",
    "        "
   ]
  },
  {
   "cell_type": "code",
   "execution_count": 63,
   "metadata": {},
   "outputs": [
    {
     "data": {
      "text/plain": [
       "[1, 3, 5, 8, 10]"
      ]
     },
     "execution_count": 63,
     "metadata": {},
     "output_type": "execute_result"
    }
   ],
   "source": [
    "arr = [5,8,3,10,1]\n",
    "insertion_sort(arr)\n",
    "arr"
   ]
  },
  {
   "cell_type": "markdown",
   "metadata": {},
   "source": [
    "## Shell Sort"
   ]
  },
  {
   "cell_type": "raw",
   "metadata": {},
   "source": [
    "_ The shell sort improves on the insertion sort by breaking the\n",
    "original list into a number os smaller sublists,\n",
    "_ The unique way that these sublists are chosen is the key to the \n",
    "shell sort."
   ]
  },
  {
   "cell_type": "raw",
   "metadata": {},
   "source": [
    "_ Instead of breaking the list into sublists of contiguous items,\n",
    "the shell sort uses an increment \"i\" to create a sublist by choosing\n",
    "all items that are \"i\" items apart."
   ]
  },
  {
   "cell_type": "raw",
   "metadata": {},
   "source": [
    "The shell sort improves on the insertion sort by breaking the \n",
    "original list into a number of smaller sublists, each of which is \n",
    "sorted using an insertion sort. The unique way that these sublists \n",
    "are chosen is the key to the shell sort. Instead of breaking the \n",
    "list into sublists of contiguous items, the shell sort uses an \n",
    "increment i, sometimes called the gap, to create a sublist by \n",
    "choosing all items that are i items apart."
   ]
  },
  {
   "cell_type": "code",
   "execution_count": 74,
   "metadata": {
    "collapsed": true
   },
   "outputs": [],
   "source": [
    "def shell_sort(arr):\n",
    "    sublistcount = len(arr)/2\n",
    "    \n",
    "    # While we still have sub lists\n",
    "    while sublistcount > 0:\n",
    "        for start in range(sublistcount):\n",
    "            # Use a gap insertion\n",
    "            gap_insertion_sort(arr,start,sublistcount)\n",
    "        \n",
    "        print 'After increments of size: ', sublistcount\n",
    "        print 'The list is ', arr\n",
    "      \n",
    "\n",
    "        sublistcount = sublistcount / 2"
   ]
  },
  {
   "cell_type": "code",
   "execution_count": 87,
   "metadata": {
    "collapsed": true
   },
   "outputs": [],
   "source": [
    "def gap_insertion_sort(arr,start,gap):\n",
    "    for i in range(start+gap,len(arr),gap):\n",
    "        currentvalue = arr[i]\n",
    "        position = i\n",
    "        \n",
    "        print 'position = ', position\n",
    "        print 'gap = ', gap\n",
    "        print 'currentvalue = ', currentvalue\n",
    "    \n",
    "        # Using the Gap\n",
    "        while position >= gap and arr[position-gap] > currentvalue:\n",
    "            arr[position]=arr[position-gap]\n",
    "            position = position-gap\n",
    "        \n",
    "        # Set current value\n",
    "        arr[position]=currentvalue"
   ]
  },
  {
   "cell_type": "code",
   "execution_count": 88,
   "metadata": {},
   "outputs": [
    {
     "data": {
      "text/plain": [
       "[45, 67, 23, 45, 21, 24, 7, 2, 6, 4, 90]"
      ]
     },
     "execution_count": 88,
     "metadata": {},
     "output_type": "execute_result"
    }
   ],
   "source": [
    "arr = [45,67,23,45,21,24,7,2,6,4,90] ## length is 11\n",
    "arr"
   ]
  },
  {
   "cell_type": "code",
   "execution_count": 89,
   "metadata": {
    "collapsed": true
   },
   "outputs": [
    {
     "name": "stdout",
     "output_type": "stream",
     "text": [
      "position =  5\n",
      "gap =  5\n",
      "currentvalue =  24\n",
      "position =  10\n",
      "gap =  5\n",
      "currentvalue =  90\n",
      "position =  6\n",
      "gap =  5\n",
      "currentvalue =  7\n",
      "position =  7\n",
      "gap =  5\n",
      "currentvalue =  2\n",
      "position =  8\n",
      "gap =  5\n",
      "currentvalue =  6\n",
      "position =  9\n",
      "gap =  5\n",
      "currentvalue =  4\n",
      "After increments of size:  5\n",
      "The list is  [24, 7, 2, 6, 4, 45, 67, 23, 45, 21, 90]\n",
      "position =  2\n",
      "gap =  2\n",
      "currentvalue =  2\n",
      "position =  4\n",
      "gap =  2\n",
      "currentvalue =  4\n",
      "position =  6\n",
      "gap =  2\n",
      "currentvalue =  67\n",
      "position =  8\n",
      "gap =  2\n",
      "currentvalue =  45\n",
      "position =  10\n",
      "gap =  2\n",
      "currentvalue =  90\n",
      "position =  3\n",
      "gap =  2\n",
      "currentvalue =  6\n",
      "position =  5\n",
      "gap =  2\n",
      "currentvalue =  45\n",
      "position =  7\n",
      "gap =  2\n",
      "currentvalue =  23\n",
      "position =  9\n",
      "gap =  2\n",
      "currentvalue =  21\n",
      "After increments of size:  2\n",
      "The list is  [2, 6, 4, 7, 24, 21, 45, 23, 67, 45, 90]\n",
      "position =  1\n",
      "gap =  1\n",
      "currentvalue =  6\n",
      "position =  2\n",
      "gap =  1\n",
      "currentvalue =  4\n",
      "position =  3\n",
      "gap =  1\n",
      "currentvalue =  7\n",
      "position =  4\n",
      "gap =  1\n",
      "currentvalue =  24\n",
      "position =  5\n",
      "gap =  1\n",
      "currentvalue =  21\n",
      "position =  6\n",
      "gap =  1\n",
      "currentvalue =  45\n",
      "position =  7\n",
      "gap =  1\n",
      "currentvalue =  23\n",
      "position =  8\n",
      "gap =  1\n",
      "currentvalue =  67\n",
      "position =  9\n",
      "gap =  1\n",
      "currentvalue =  45\n",
      "position =  10\n",
      "gap =  1\n",
      "currentvalue =  90\n",
      "After increments of size:  1\n",
      "The list is  [2, 4, 6, 7, 21, 23, 24, 45, 45, 67, 90]\n"
     ]
    },
    {
     "data": {
      "text/plain": [
       "[2, 4, 6, 7, 21, 23, 24, 45, 45, 67, 90]"
      ]
     },
     "execution_count": 89,
     "metadata": {},
     "output_type": "execute_result"
    }
   ],
   "source": [
    "shell_sort(arr)\n",
    "arr"
   ]
  },
  {
   "cell_type": "markdown",
   "metadata": {},
   "source": [
    "## Merge Sort"
   ]
  },
  {
   "cell_type": "raw",
   "metadata": {},
   "source": [
    "_ Merge sort is a recursive algorithm that continually splits a \n",
    "list in half.\n",
    "_ If the list is empty or has one item, it is sorted by definition\n",
    "(the base case).\n",
    "_ If the list has more than one item, we split the list and \n",
    "recursively invoke a merge sort on both halves."
   ]
  },
  {
   "cell_type": "code",
   "execution_count": 95,
   "metadata": {
    "collapsed": true
   },
   "outputs": [],
   "source": [
    "def merge_sort(arr):\n",
    "    \n",
    "    if len(arr) > 1:\n",
    "        \n",
    "        mid = len(arr)/2\n",
    "        lefthalf = arr[0:mid]\n",
    "        righthalf = arr[mid:]\n",
    "        \n",
    "        merge_sort(lefthalf)\n",
    "        merge_sort(righthalf)\n",
    "        \n",
    "        i = 0\n",
    "        j = 0\n",
    "        k = 0\n",
    "        \n",
    "        while i < len(lefthalf) and j < len(righthalf):\n",
    "            \n",
    "            if lefthalf[i] < righthalf[j]:\n",
    "                arr[k] = lefthalf[i]  # update to original arr\n",
    "                \n",
    "                i += 1\n",
    "            else:\n",
    "                arr[k] = righthalf[j] # update to original arr\n",
    "                j += 1\n",
    "\n",
    "            k += 1\n",
    "        \n",
    "        while i < len(lefthalf): #update the remainding to arr\n",
    "            arr[k] = lefthalf[i]\n",
    "            i += 1\n",
    "            k += 1\n",
    "        \n",
    "        while j < len(righthalf):  #update the remainding to arr\n",
    "            arr[k] = righthalf[j]\n",
    "            j += 1\n",
    "            k += 1\n",
    "    print 'Merging ', arr\n",
    "            "
   ]
  },
  {
   "cell_type": "code",
   "execution_count": 96,
   "metadata": {},
   "outputs": [
    {
     "name": "stdout",
     "output_type": "stream",
     "text": [
      "Merging  [11]\n",
      "Merging  [2]\n",
      "Merging  [2, 11]\n",
      "Merging  [5]\n",
      "Merging  [4]\n",
      "Merging  [4, 5]\n",
      "Merging  [2, 4, 5, 11]\n",
      "Merging  [7]\n",
      "Merging  [6]\n",
      "Merging  [6, 7]\n",
      "Merging  [5]\n",
      "Merging  [1]\n",
      "Merging  [23]\n",
      "Merging  [1, 23]\n",
      "Merging  [1, 5, 23]\n",
      "Merging  [1, 5, 6, 7, 23]\n",
      "Merging  [1, 2, 4, 5, 5, 6, 7, 11, 23]\n"
     ]
    },
    {
     "data": {
      "text/plain": [
       "[1, 2, 4, 5, 5, 6, 7, 11, 23]"
      ]
     },
     "execution_count": 96,
     "metadata": {},
     "output_type": "execute_result"
    }
   ],
   "source": [
    "arr = [11,2,5,4,7,6,5,1,23]\n",
    "merge_sort(arr)\n",
    "arr"
   ]
  },
  {
   "cell_type": "markdown",
   "metadata": {},
   "source": [
    "## Quick sort"
   ]
  },
  {
   "cell_type": "raw",
   "metadata": {},
   "source": [
    "_ The quick sort uses divide and conquer to gain the same\n",
    "advantages as the merge sort, while not using additional storage.\n",
    "_ As a trade-off, however, it is possible that the list may \n",
    "not be divided in half.\n",
    "_ When this happens, we will see that performance is diminished."
   ]
  },
  {
   "cell_type": "raw",
   "metadata": {},
   "source": [
    "_ A quick sor first selects a value, which is called the pivot \n",
    "value.\n",
    "_ The role of the pivot value is to assist with splitting the list.\n",
    "_ The actual position where the pivot value belongs in the final\n",
    "sorted list, commonly called the split point, will be used to \n",
    "divide the list for subsequent calls to the quick sort."
   ]
  },
  {
   "cell_type": "code",
   "execution_count": 99,
   "metadata": {
    "collapsed": true
   },
   "outputs": [],
   "source": [
    "def quick_sort(arr):\n",
    "    \n",
    "    quick_sort_help(arr, 0 , len(arr) - 1)\n",
    "    \n",
    "\n",
    "def quick_sort_help(arr, first, last):\n",
    "    \n",
    "    if first < last:\n",
    "        splitpoint = partition(arr, first, last)\n",
    "        \n",
    "        quick_sort_help(arr, first, splitpoint - 1)\n",
    "        quick_sort_help(arr, splitpoint + 1, last)\n",
    "\n",
    "def partition(arr, first, last):\n",
    "    \n",
    "    pivotvalue = arr[first]\n",
    "    \n",
    "    leftmark = first + 1\n",
    "    rightmark = last\n",
    "    \n",
    "    done = False\n",
    "    \n",
    "    while not done: \n",
    "        \n",
    "        while leftmark <= rightmark and arr[leftmark] <= pivotvalue:\n",
    "            leftmark += 1\n",
    "        \n",
    "        while arr[rightmark] > pivotvalue and rightmark >= leftmark:\n",
    "            rightmark -= 1\n",
    "            \n",
    "        if rightmark < leftmark:# it's over when leftmark and right mark cross\n",
    "            done = True\n",
    "        \n",
    "        else:   # swap because arr[leftmark] > arr[rightmark]\n",
    "            temp = arr[leftmark]\n",
    "            arr[leftmark] = arr[rightmark]\n",
    "            arr[rightmark] = temp\n",
    "    \n",
    "    temp = arr[first]   # swap because the pivotvalue is between\n",
    "    arr[first] = arr[rightmark]\n",
    "    arr[rightmark] = temp\n",
    "    \n",
    "    return rightmark"
   ]
  },
  {
   "cell_type": "code",
   "execution_count": 100,
   "metadata": {},
   "outputs": [
    {
     "data": {
      "text/plain": [
       "[1, 2, 3, 4, 4, 5, 6, 7, 11, 12]"
      ]
     },
     "execution_count": 100,
     "metadata": {},
     "output_type": "execute_result"
    }
   ],
   "source": [
    "arr = [2,5,4,6,7,3,1,4,12,11]\n",
    "quick_sort(arr)\n",
    "arr"
   ]
  },
  {
   "cell_type": "code",
   "execution_count": 1,
   "metadata": {},
   "outputs": [
    {
     "name": "stdout",
     "output_type": "stream",
     "text": [
      "1\n"
     ]
    }
   ],
   "source": []
  },
  {
   "cell_type": "code",
   "execution_count": null,
   "metadata": {
    "collapsed": true
   },
   "outputs": [],
   "source": []
  }
 ],
 "metadata": {
  "kernelspec": {
   "display_name": "Python 2",
   "language": "python",
   "name": "python2"
  },
  "language_info": {
   "codemirror_mode": {
    "name": "ipython",
    "version": 2
   },
   "file_extension": ".py",
   "mimetype": "text/x-python",
   "name": "python",
   "nbconvert_exporter": "python",
   "pygments_lexer": "ipython2",
   "version": "2.7.13"
  }
 },
 "nbformat": 4,
 "nbformat_minor": 2
}
